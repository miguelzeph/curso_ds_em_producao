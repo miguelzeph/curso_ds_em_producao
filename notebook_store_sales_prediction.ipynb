{
  "nbformat": 4,
  "nbformat_minor": 0,
  "metadata": {
    "colab": {
      "name": "m02_v01_store_sales_prediction.ipynb",
      "provenance": []
    },
    "kernelspec": {
      "display_name": "Python 3",
      "language": "python",
      "name": "python3"
    },
    "language_info": {
      "codemirror_mode": {
        "name": "ipython",
        "version": 3
      },
      "file_extension": ".py",
      "mimetype": "text/x-python",
      "name": "python",
      "nbconvert_exporter": "python",
      "pygments_lexer": "ipython3",
      "version": "3.6.9"
    },
    "toc": {
      "base_numbering": 1,
      "nav_menu": {},
      "number_sections": true,
      "sideBar": true,
      "skip_h1_title": false,
      "title_cell": "Table of Contents",
      "title_sidebar": "Contents",
      "toc_cell": false,
      "toc_position": {},
      "toc_section_display": true,
      "toc_window_display": false
    }
  },
  "cells": [
    {
      "cell_type": "markdown",
      "metadata": {
        "id": "5-mRzDRGaTRF"
      },
      "source": [
        "# OBJETIVO -  <span style='color:blue'> Predição de Vendas nas Próximas 6 semanas</span>"
      ]
    },
    {
      "cell_type": "markdown",
      "metadata": {
        "id": "TImUjAJ9x5wG"
      },
      "source": [
        "# Google Colab - Installs"
      ]
    },
    {
      "cell_type": "code",
      "metadata": {
        "ExecuteTime": {
          "end_time": "2021-03-09T16:24:21.257847Z",
          "start_time": "2021-03-09T16:24:21.250645Z"
        },
        "id": "Gvxu8v_rtMyq"
      },
      "source": [
        "#!pip install inflection\n",
        "#!pip install boruta\n",
        "#!pip install xgboost"
      ],
      "execution_count": 3,
      "outputs": []
    },
    {
      "cell_type": "markdown",
      "metadata": {
        "id": "oGMy-PdTtCyo"
      },
      "source": [
        "# 0.0 Imports"
      ]
    },
    {
      "cell_type": "code",
      "metadata": {
        "ExecuteTime": {
          "end_time": "2021-03-09T16:24:32.174979Z",
          "start_time": "2021-03-09T16:24:24.976849Z"
        },
        "id": "cyEd9NgitCyq"
      },
      "source": [
        "import pandas as pd\n",
        "import inflection #!sudo pip install inflection (ajudar renomear biblioteca)\n",
        "import math\n",
        "import numpy as np\n",
        "import seaborn as sns\n",
        "import matplotlib.pyplot as plt\n",
        "#plt.rcParams[\"figure.figsize\"] = (18,10) # Plot Size\n",
        "import datetime\n",
        "\n",
        "from scipy import stats as ss\n",
        "\n",
        "from IPython.display       import Image\n",
        "from IPython.core.display  import HTML\n",
        "\n",
        "from sklearn.preprocessing import RobustScaler, MinMaxScaler, LabelEncoder\n",
        "\n",
        "from boruta import BorutaPy # !pip3.6 install boruta\n",
        "\n",
        "from sklearn.ensemble import RandomForestRegressor\n",
        "from sklearn.linear_model import Lasso, LinearRegression\n",
        "\n",
        "from sklearn.metrics import mean_absolute_error, mean_squared_error"
      ],
      "execution_count": 4,
      "outputs": []
    },
    {
      "cell_type": "markdown",
      "metadata": {
        "id": "pf-BQNSVtCyr"
      },
      "source": [
        "### 0.1 Helper Functions"
      ]
    },
    {
      "cell_type": "code",
      "metadata": {
        "ExecuteTime": {
          "end_time": "2021-03-09T16:24:32.202033Z",
          "start_time": "2021-03-09T16:24:32.177215Z"
        },
        "code_folding": [],
        "id": "U7tnkFlOaTRb"
      },
      "source": [
        "# Fazer correcao\n",
        "def cramer_v(x,y):\n",
        "    #cm = pd.crosstab(x,y).as_matrix() # Confuse Matriz (JUPYTER )\n",
        "    cm = pd.crosstab(x,y).values # Confuse Matriz (google colab )\n",
        "    chi2 = ss.chi2_contingency( cm )[0] # Chi2 derivado de Pearson # cm = Confuse Matriz\n",
        "    n = cm.sum()\n",
        "    r, k = cm.shape\n",
        "    \n",
        "    \n",
        "    chi2corr = max(0, chi2 - (k-1)*(r-1)/(n-1))\n",
        "    kcorr = k - (k-1)**2/(n-1)\n",
        "    rcorr = r - (r-1)**2/(n-1)\n",
        "\n",
        "    v = np.sqrt( ( chi2corr / n ) / min( kcorr-1 , rcorr-1 ) )\n",
        "    return v\n",
        "\n",
        "def jupyter_settings():\n",
        "    %matplotlib inline\n",
        "    %pylab inline\n",
        "    \n",
        "    plt.style.use( 'bmh' )\n",
        "    plt.rcParams['figure.figsize'] = [25, 12]\n",
        "    plt.rcParams['font.size'] = 24\n",
        "    \n",
        "    display( HTML( '<style>.container { width:100% !important; }</style>') )\n",
        "    pd.options.display.max_columns = None\n",
        "    pd.options.display.max_rows = None\n",
        "    pd.set_option( 'display.expand_frame_repr', False )\n",
        "    \n",
        "    sns.set()"
      ],
      "execution_count": 5,
      "outputs": []
    },
    {
      "cell_type": "code",
      "metadata": {
        "ExecuteTime": {
          "end_time": "2021-03-08T21:33:30.318231Z",
          "start_time": "2021-03-08T21:33:30.066158Z"
        },
        "colab": {
          "base_uri": "https://localhost:8080/",
          "height": 34
        },
        "id": "1SROAeluaTRc",
        "outputId": "a9a56a1d-57b4-40a5-d62d-88ac8bdfc59b"
      },
      "source": [
        "jupyter_settings()"
      ],
      "execution_count": 6,
      "outputs": [
        {
          "output_type": "stream",
          "text": [
            "Populating the interactive namespace from numpy and matplotlib\n"
          ],
          "name": "stdout"
        },
        {
          "output_type": "display_data",
          "data": {
            "text/html": [
              "<style>.container { width:100% !important; }</style>"
            ],
            "text/plain": [
              "<IPython.core.display.HTML object>"
            ]
          },
          "metadata": {
            "tags": []
          }
        }
      ]
    },
    {
      "cell_type": "markdown",
      "metadata": {
        "id": "cUggV-gQtCyr"
      },
      "source": [
        "### 0.2 Loading data"
      ]
    },
    {
      "cell_type": "code",
      "metadata": {
        "ExecuteTime": {
          "end_time": "2021-03-09T16:24:57.218704Z",
          "start_time": "2021-03-09T16:24:42.184130Z"
        },
        "id": "4kKMOfI0tCyr"
      },
      "source": [
        "# Google Colab\n",
        "df_sales_raw = pd.read_csv('https://raw.githubusercontent.com/miguelzeph/curso_ds_em_producao/master/data/train.csv',low_memory=False)\n",
        "df_store_raw = pd.read_csv('https://raw.githubusercontent.com/miguelzeph/curso_ds_em_producao/master/data/store.csv',low_memory=False)\n",
        "\n",
        "# Jupyter Local\n",
        "#df_sales_raw = pd.read_csv('./data/train.csv',low_memory=False)\n",
        "#df_store_raw = pd.read_csv('./data/store.csv',low_memory=False)\n",
        "\n",
        "\n",
        "# Merge ( Merge != Join != Concat)\n",
        "df_raw = pd.merge(df_sales_raw,df_store_raw, how = 'left', on='Store')"
      ],
      "execution_count": 7,
      "outputs": []
    },
    {
      "cell_type": "code",
      "metadata": {
        "ExecuteTime": {
          "end_time": "2021-03-09T16:24:57.494241Z",
          "start_time": "2021-03-09T16:24:57.221044Z"
        },
        "colab": {
          "base_uri": "https://localhost:8080/",
          "height": 117
        },
        "id": "c2jyi2N6tCys",
        "outputId": "261a8835-9880-4000-997f-73ad74505725"
      },
      "source": [
        "df_raw.sample()# Pega uma rows aleatória pra visualizar"
      ],
      "execution_count": 8,
      "outputs": [
        {
          "output_type": "execute_result",
          "data": {
            "text/html": [
              "<div>\n",
              "<style scoped>\n",
              "    .dataframe tbody tr th:only-of-type {\n",
              "        vertical-align: middle;\n",
              "    }\n",
              "\n",
              "    .dataframe tbody tr th {\n",
              "        vertical-align: top;\n",
              "    }\n",
              "\n",
              "    .dataframe thead th {\n",
              "        text-align: right;\n",
              "    }\n",
              "</style>\n",
              "<table border=\"1\" class=\"dataframe\">\n",
              "  <thead>\n",
              "    <tr style=\"text-align: right;\">\n",
              "      <th></th>\n",
              "      <th>Store</th>\n",
              "      <th>DayOfWeek</th>\n",
              "      <th>Date</th>\n",
              "      <th>Sales</th>\n",
              "      <th>Customers</th>\n",
              "      <th>Open</th>\n",
              "      <th>Promo</th>\n",
              "      <th>StateHoliday</th>\n",
              "      <th>SchoolHoliday</th>\n",
              "      <th>StoreType</th>\n",
              "      <th>Assortment</th>\n",
              "      <th>CompetitionDistance</th>\n",
              "      <th>CompetitionOpenSinceMonth</th>\n",
              "      <th>CompetitionOpenSinceYear</th>\n",
              "      <th>Promo2</th>\n",
              "      <th>Promo2SinceWeek</th>\n",
              "      <th>Promo2SinceYear</th>\n",
              "      <th>PromoInterval</th>\n",
              "    </tr>\n",
              "  </thead>\n",
              "  <tbody>\n",
              "    <tr>\n",
              "      <th>150366</th>\n",
              "      <td>957</td>\n",
              "      <td>4</td>\n",
              "      <td>2015-03-19</td>\n",
              "      <td>8615</td>\n",
              "      <td>916</td>\n",
              "      <td>1</td>\n",
              "      <td>1</td>\n",
              "      <td>0</td>\n",
              "      <td>0</td>\n",
              "      <td>d</td>\n",
              "      <td>c</td>\n",
              "      <td>1420.0</td>\n",
              "      <td>11.0</td>\n",
              "      <td>2012.0</td>\n",
              "      <td>0</td>\n",
              "      <td>NaN</td>\n",
              "      <td>NaN</td>\n",
              "      <td>NaN</td>\n",
              "    </tr>\n",
              "  </tbody>\n",
              "</table>\n",
              "</div>"
            ],
            "text/plain": [
              "        Store  DayOfWeek        Date  Sales  Customers  Open  Promo StateHoliday  SchoolHoliday StoreType Assortment  CompetitionDistance  CompetitionOpenSinceMonth  CompetitionOpenSinceYear  Promo2  Promo2SinceWeek  Promo2SinceYear PromoInterval\n",
              "150366    957          4  2015-03-19   8615        916     1      1            0              0         d          c               1420.0                       11.0                    2012.0       0              NaN              NaN           NaN"
            ]
          },
          "metadata": {
            "tags": []
          },
          "execution_count": 8
        }
      ]
    },
    {
      "cell_type": "markdown",
      "metadata": {
        "heading_collapsed": true,
        "id": "c4JVQXXitCyt"
      },
      "source": [
        "# 1.0 **Passo 1** - Descrição dos Dados"
      ]
    },
    {
      "cell_type": "markdown",
      "metadata": {
        "heading_collapsed": true,
        "hidden": true,
        "id": "xGCe96FvtCyt"
      },
      "source": [
        "#### Copy dos dados"
      ]
    },
    {
      "cell_type": "code",
      "metadata": {
        "ExecuteTime": {
          "end_time": "2021-03-09T16:24:57.576871Z",
          "start_time": "2021-03-09T16:24:57.497375Z"
        },
        "hidden": true,
        "id": "qOhqUKS6tCyu"
      },
      "source": [
        "# Sempre faça isso, pois em grandes projetos, você pode sobescrever os dados anteriores\n",
        "df1 = df_raw.copy()"
      ],
      "execution_count": 9,
      "outputs": []
    },
    {
      "cell_type": "markdown",
      "metadata": {
        "hidden": true,
        "id": "JTTj0RVqtCyu"
      },
      "source": [
        "### 1.1 Rename Columns (sempre faça isso para facilitar)"
      ]
    },
    {
      "cell_type": "code",
      "metadata": {
        "ExecuteTime": {
          "end_time": "2021-03-09T16:24:57.598281Z",
          "start_time": "2021-03-09T16:24:57.579613Z"
        },
        "colab": {
          "base_uri": "https://localhost:8080/"
        },
        "hidden": true,
        "id": "NGwFxVHctCyu",
        "outputId": "e838e96c-e4ea-47c2-dafa-3fe79ddfe811"
      },
      "source": [
        "df_raw.columns"
      ],
      "execution_count": 10,
      "outputs": [
        {
          "output_type": "execute_result",
          "data": {
            "text/plain": [
              "Index(['Store', 'DayOfWeek', 'Date', 'Sales', 'Customers', 'Open', 'Promo',\n",
              "       'StateHoliday', 'SchoolHoliday', 'StoreType', 'Assortment',\n",
              "       'CompetitionDistance', 'CompetitionOpenSinceMonth',\n",
              "       'CompetitionOpenSinceYear', 'Promo2', 'Promo2SinceWeek',\n",
              "       'Promo2SinceYear', 'PromoInterval'],\n",
              "      dtype='object')"
            ]
          },
          "metadata": {
            "tags": []
          },
          "execution_count": 10
        }
      ]
    },
    {
      "cell_type": "code",
      "metadata": {
        "ExecuteTime": {
          "end_time": "2021-03-09T16:24:57.695598Z",
          "start_time": "2021-03-09T16:24:57.601126Z"
        },
        "colab": {
          "base_uri": "https://localhost:8080/",
          "height": 35
        },
        "hidden": true,
        "id": "ilgwoBV5tCyv",
        "outputId": "7dbf452f-4728-443a-9c45-4f98e1979397"
      },
      "source": [
        "cols_old = ['Store', 'DayOfWeek', 'Date', 'Sales', 'Customers', 'Open', 'Promo',\n",
        "       'StateHoliday', 'SchoolHoliday', 'StoreType', 'Assortment',\n",
        "       'CompetitionDistance', 'CompetitionOpenSinceMonth',\n",
        "       'CompetitionOpenSinceYear', 'Promo2', 'Promo2SinceWeek',\n",
        "       'Promo2SinceYear', 'PromoInterval']\n",
        "cols_old[0]"
      ],
      "execution_count": 11,
      "outputs": [
        {
          "output_type": "execute_result",
          "data": {
            "application/vnd.google.colaboratory.intrinsic+json": {
              "type": "string"
            },
            "text/plain": [
              "'Store'"
            ]
          },
          "metadata": {
            "tags": []
          },
          "execution_count": 11
        }
      ]
    },
    {
      "cell_type": "code",
      "metadata": {
        "ExecuteTime": {
          "end_time": "2021-03-09T16:24:57.797800Z",
          "start_time": "2021-03-09T16:24:57.697953Z"
        },
        "hidden": true,
        "id": "t8ztEmobtCyv"
      },
      "source": [
        "# Função Lambda para aplicar\n",
        "snakecase = lambda x: inflection.underscore( x )\n",
        "\n",
        "# Map aplicar uma função em cada elemento de uma lista\n",
        "cols_new = list(map(snakecase,cols_old))\n",
        "\n",
        "# rename\n",
        "df1.columns = cols_new"
      ],
      "execution_count": 12,
      "outputs": []
    },
    {
      "cell_type": "code",
      "metadata": {
        "ExecuteTime": {
          "end_time": "2021-03-09T16:24:57.898953Z",
          "start_time": "2021-03-09T16:24:57.800207Z"
        },
        "colab": {
          "base_uri": "https://localhost:8080/"
        },
        "hidden": true,
        "id": "uAzJtRZ1tCyw",
        "scrolled": true,
        "outputId": "a01ebd3e-00e3-477e-c6cc-13c1de43265c"
      },
      "source": [
        "df1.columns"
      ],
      "execution_count": 13,
      "outputs": [
        {
          "output_type": "execute_result",
          "data": {
            "text/plain": [
              "Index(['store', 'day_of_week', 'date', 'sales', 'customers', 'open', 'promo',\n",
              "       'state_holiday', 'school_holiday', 'store_type', 'assortment',\n",
              "       'competition_distance', 'competition_open_since_month',\n",
              "       'competition_open_since_year', 'promo2', 'promo2_since_week',\n",
              "       'promo2_since_year', 'promo_interval'],\n",
              "      dtype='object')"
            ]
          },
          "metadata": {
            "tags": []
          },
          "execution_count": 13
        }
      ]
    },
    {
      "cell_type": "markdown",
      "metadata": {
        "hidden": true,
        "id": "xpNSVtoUtCyw"
      },
      "source": [
        "### 1.2 Data Dimensions"
      ]
    },
    {
      "cell_type": "code",
      "metadata": {
        "ExecuteTime": {
          "end_time": "2021-03-09T16:24:57.994411Z",
          "start_time": "2021-03-09T16:24:57.906361Z"
        },
        "colab": {
          "base_uri": "https://localhost:8080/"
        },
        "hidden": true,
        "id": "pFBMbDI1tCyw",
        "outputId": "7249f5b3-201c-4c32-eefe-4e771bfc0d59"
      },
      "source": [
        "print(f'number of rows: {df1.shape[0]}')\n",
        "print(f'number of rows: {df1.shape[1]}')"
      ],
      "execution_count": 14,
      "outputs": [
        {
          "output_type": "stream",
          "text": [
            "number of rows: 1017209\n",
            "number of rows: 18\n"
          ],
          "name": "stdout"
        }
      ]
    },
    {
      "cell_type": "markdown",
      "metadata": {
        "hidden": true,
        "id": "CjCAn3uMtCyx"
      },
      "source": [
        "### 1.3 Data type"
      ]
    },
    {
      "cell_type": "code",
      "metadata": {
        "ExecuteTime": {
          "end_time": "2021-03-09T16:24:58.095645Z",
          "start_time": "2021-03-09T16:24:57.997884Z"
        },
        "colab": {
          "base_uri": "https://localhost:8080/"
        },
        "hidden": true,
        "id": "Nf-WE68VtCyx",
        "outputId": "6e70be15-f6d9-461d-be04-00c0c3b8f526"
      },
      "source": [
        "df1.dtypes\n",
        "\n",
        "# NO PANDAS 'object' ele entende que é uma 'string'\n",
        "# Contudo, a \"date\" tem que estar sempre no formato de data!"
      ],
      "execution_count": 15,
      "outputs": [
        {
          "output_type": "execute_result",
          "data": {
            "text/plain": [
              "store                             int64\n",
              "day_of_week                       int64\n",
              "date                             object\n",
              "sales                             int64\n",
              "customers                         int64\n",
              "open                              int64\n",
              "promo                             int64\n",
              "state_holiday                    object\n",
              "school_holiday                    int64\n",
              "store_type                       object\n",
              "assortment                       object\n",
              "competition_distance            float64\n",
              "competition_open_since_month    float64\n",
              "competition_open_since_year     float64\n",
              "promo2                            int64\n",
              "promo2_since_week               float64\n",
              "promo2_since_year               float64\n",
              "promo_interval                   object\n",
              "dtype: object"
            ]
          },
          "metadata": {
            "tags": []
          },
          "execution_count": 15
        }
      ]
    },
    {
      "cell_type": "code",
      "metadata": {
        "ExecuteTime": {
          "end_time": "2021-03-09T16:24:58.439639Z",
          "start_time": "2021-03-09T16:24:58.100266Z"
        },
        "colab": {
          "base_uri": "https://localhost:8080/"
        },
        "hidden": true,
        "id": "1fGmwtIAtCyy",
        "outputId": "46363d70-ea2c-4645-b10c-c3ff5cfec003"
      },
      "source": [
        "# Mudar pra date type\n",
        "df1['date'] = pd.to_datetime( df1['date'] )\n",
        "# verifique agora\n",
        "df1.dtypes"
      ],
      "execution_count": 16,
      "outputs": [
        {
          "output_type": "execute_result",
          "data": {
            "text/plain": [
              "store                                    int64\n",
              "day_of_week                              int64\n",
              "date                            datetime64[ns]\n",
              "sales                                    int64\n",
              "customers                                int64\n",
              "open                                     int64\n",
              "promo                                    int64\n",
              "state_holiday                           object\n",
              "school_holiday                           int64\n",
              "store_type                              object\n",
              "assortment                              object\n",
              "competition_distance                   float64\n",
              "competition_open_since_month           float64\n",
              "competition_open_since_year            float64\n",
              "promo2                                   int64\n",
              "promo2_since_week                      float64\n",
              "promo2_since_year                      float64\n",
              "promo_interval                          object\n",
              "dtype: object"
            ]
          },
          "metadata": {
            "tags": []
          },
          "execution_count": 16
        }
      ]
    },
    {
      "cell_type": "markdown",
      "metadata": {
        "hidden": true,
        "id": "01apjCAStCyy"
      },
      "source": [
        "### 1.4 Check NA"
      ]
    },
    {
      "cell_type": "code",
      "metadata": {
        "ExecuteTime": {
          "end_time": "2021-03-09T16:24:58.786409Z",
          "start_time": "2021-03-09T16:24:58.442205Z"
        },
        "colab": {
          "base_uri": "https://localhost:8080/"
        },
        "hidden": true,
        "id": "OhJuw8JPtCyy",
        "scrolled": true,
        "outputId": "901ff8f6-85a8-4bef-cef6-23d4c372275d"
      },
      "source": [
        "df1.isna().sum()\n",
        "# Veja que temos colunas com muitos NA..."
      ],
      "execution_count": 17,
      "outputs": [
        {
          "output_type": "execute_result",
          "data": {
            "text/plain": [
              "store                                0\n",
              "day_of_week                          0\n",
              "date                                 0\n",
              "sales                                0\n",
              "customers                            0\n",
              "open                                 0\n",
              "promo                                0\n",
              "state_holiday                        0\n",
              "school_holiday                       0\n",
              "store_type                           0\n",
              "assortment                           0\n",
              "competition_distance              2642\n",
              "competition_open_since_month    323348\n",
              "competition_open_since_year     323348\n",
              "promo2                               0\n",
              "promo2_since_week               508031\n",
              "promo2_since_year               508031\n",
              "promo_interval                  508031\n",
              "dtype: int64"
            ]
          },
          "metadata": {
            "tags": []
          },
          "execution_count": 17
        }
      ]
    },
    {
      "cell_type": "code",
      "metadata": {
        "ExecuteTime": {
          "end_time": "2021-03-09T16:24:58.792754Z",
          "start_time": "2021-03-09T16:24:58.788838Z"
        },
        "hidden": true,
        "id": "4ZW9GV9ktCyz"
      },
      "source": [
        "#1-) podemos descartar as linhas -> df1.dropna()\n",
        "\n",
        "#2-) usar algorítmos de ML que você prevê os valores vazios.\n",
        "# (QUANDO VOCÊ NÃO TEM INFORMAÇÕES DOS DADOS... ou alguém para te tirar as dǘvidas)\n",
        "\n",
        "#3-) Entender o problema, você CONVERSANDO com o stakeholder ou usando sua LÓGICA"
      ],
      "execution_count": 18,
      "outputs": []
    },
    {
      "cell_type": "markdown",
      "metadata": {
        "hidden": true,
        "id": "W6bqfzE0tCyz"
      },
      "source": [
        "### 1.5 Fillout NA ( Preencher os NA)\n",
        "\n",
        "Optamos por usar o 3-) pois é uma boa prática para exercitar... ( o método 2-) você pode por exemplo criar um modelo ML (Decision Tree por exemplo) para prever os valores"
      ]
    },
    {
      "cell_type": "code",
      "metadata": {
        "ExecuteTime": {
          "end_time": "2021-03-09T16:27:39.894518Z",
          "start_time": "2021-03-09T16:24:58.796105Z"
        },
        "hidden": true,
        "id": "Dl8Zs8YTtCyz"
      },
      "source": [
        "# Método 3-)... vamos substituir por lógica\n",
        "\n",
        "#-------competition_distance              2642--------\n",
        "# Vamos supor que os valores NA nesta coluna é porque não existem competidores nas proximidades,\n",
        "df1['competition_distance'].max() # 75.860\n",
        "df1['competition_distance'] = df1['competition_distance'].apply(lambda x: 200000.0 if math.isnan(x) else x)\n",
        "df1['competition_distance'].max()# 200000.0\n",
        "\n",
        "#----------competition_open_since_month    323348-------\n",
        "# Motivo da loja estar vazia:\n",
        "# 1-) A loja não tem competidor próximo\n",
        "# 2-) Tenho um competidor próximo, mas não sabemos quando abriu\n",
        "df1['competition_open_since_month'] = df1.apply(lambda x: x['date'].month if math.isnan(x['competition_open_since_month']) else x['competition_open_since_month'],axis=1)\n",
        "\n",
        "#----------competition_open_since_year     323348-----\n",
        "# Mesma lógica, só que agora por year\n",
        "df1['competition_open_since_year'] = df1.apply(lambda x: x['date'].year if math.isnan(x['competition_open_since_year']) else x['competition_open_since_year'],axis=1)\n",
        "\n",
        "#---------promo2_since_week               508031-------\n",
        "# Mesma Lógica...\n",
        "df1['promo2_since_week'] = df1.apply(lambda x: x['date'].week if math.isnan(x['promo2_since_week']) else x['promo2_since_week'], axis=1)\n",
        "\n",
        "#promo2_since_year               508031\n",
        "df1['promo2_since_year'] = df1.apply(lambda x: x['date'].year if math.isnan(x['promo2_since_year']) else x['promo2_since_year'], axis=1)\n",
        "\n",
        "#-------promo_interval                  508031------\n",
        "df1['promo_interval'].fillna(0,inplace=True) # substituir os NaN por zero primeiro\n",
        "\n",
        "# criar um dict month_map (para fazer comparação com os promo_interval)\n",
        "month_map = {1:'Jan',2:'Fev',3:'Mar',4:'Apr',5:'May',6:'Jun',7:'Jul',8:'Aug',9:'Sep',10:'Oct',11:'Nov',12:'Dec'}\n",
        "\n",
        "# criar df\n",
        "df1['month_map'] = df1['date'].dt.month.map(month_map)\n",
        "\n",
        "#-----promo_interval                  508031-------\n",
        "df1['promo_interval'].fillna(0,inplace=True) # substituir os NaN por zero primeiro\n",
        "\n",
        "# criar um dict month_map (para fazer comparação com os promo_interval)\n",
        "month_map = {1:'Jan',2:'Fev',3:'Mar',4:'Apr',5:'May',6:'Jun',7:'Jul',8:'Aug',9:'Sep',10:'Oct',11:'Nov',12:'Dec'}\n",
        "\n",
        "# criar df\n",
        "df1['month_map'] = df1['date'].dt.month.map(month_map)\n",
        "\n",
        "# Se Data (month_map) estiver dentro da promoção (promo_interval), retorna 1... se não 0\n",
        "def f_promo_interval(x):\n",
        "\n",
        "  promo_interval = x[0]\n",
        "  month_map = x[1]\n",
        "\n",
        "  if promo_interval == 0:\n",
        "    return 0\n",
        "\n",
        "  if month_map in promo_interval:\n",
        "    return 1\n",
        "  return 0\n",
        "# criar uma nova coluna e aplicar a func\n",
        "df1['is_promo'] = df1[['promo_interval','month_map']].apply(f_promo_interval,axis=1)\n",
        "\n"
      ],
      "execution_count": 19,
      "outputs": []
    },
    {
      "cell_type": "code",
      "metadata": {
        "ExecuteTime": {
          "end_time": "2021-03-09T16:27:40.012266Z",
          "start_time": "2021-03-09T16:27:39.896459Z"
        },
        "colab": {
          "base_uri": "https://localhost:8080/",
          "height": 0
        },
        "hidden": true,
        "id": "h1atpg-iBGJU",
        "outputId": "ce7f5919-2c86-4757-ffe6-07a38fd6d92a"
      },
      "source": [
        "df1.sample(5).T # Visualizar T"
      ],
      "execution_count": 20,
      "outputs": [
        {
          "output_type": "execute_result",
          "data": {
            "text/html": [
              "<div>\n",
              "<style scoped>\n",
              "    .dataframe tbody tr th:only-of-type {\n",
              "        vertical-align: middle;\n",
              "    }\n",
              "\n",
              "    .dataframe tbody tr th {\n",
              "        vertical-align: top;\n",
              "    }\n",
              "\n",
              "    .dataframe thead th {\n",
              "        text-align: right;\n",
              "    }\n",
              "</style>\n",
              "<table border=\"1\" class=\"dataframe\">\n",
              "  <thead>\n",
              "    <tr style=\"text-align: right;\">\n",
              "      <th></th>\n",
              "      <th>818426</th>\n",
              "      <th>54824</th>\n",
              "      <th>30715</th>\n",
              "      <th>223242</th>\n",
              "      <th>772707</th>\n",
              "    </tr>\n",
              "  </thead>\n",
              "  <tbody>\n",
              "    <tr>\n",
              "      <th>store</th>\n",
              "      <td>802</td>\n",
              "      <td>190</td>\n",
              "      <td>611</td>\n",
              "      <td>243</td>\n",
              "      <td>798</td>\n",
              "    </tr>\n",
              "    <tr>\n",
              "      <th>day_of_week</th>\n",
              "      <td>5</td>\n",
              "      <td>5</td>\n",
              "      <td>6</td>\n",
              "      <td>1</td>\n",
              "      <td>4</td>\n",
              "    </tr>\n",
              "    <tr>\n",
              "      <th>date</th>\n",
              "      <td>2013-06-28 00:00:00</td>\n",
              "      <td>2015-06-12 00:00:00</td>\n",
              "      <td>2015-07-04 00:00:00</td>\n",
              "      <td>2015-01-12 00:00:00</td>\n",
              "      <td>2013-08-08 00:00:00</td>\n",
              "    </tr>\n",
              "    <tr>\n",
              "      <th>sales</th>\n",
              "      <td>6705</td>\n",
              "      <td>6492</td>\n",
              "      <td>4883</td>\n",
              "      <td>9842</td>\n",
              "      <td>6127</td>\n",
              "    </tr>\n",
              "    <tr>\n",
              "      <th>customers</th>\n",
              "      <td>507</td>\n",
              "      <td>646</td>\n",
              "      <td>418</td>\n",
              "      <td>1145</td>\n",
              "      <td>827</td>\n",
              "    </tr>\n",
              "    <tr>\n",
              "      <th>open</th>\n",
              "      <td>1</td>\n",
              "      <td>1</td>\n",
              "      <td>1</td>\n",
              "      <td>1</td>\n",
              "      <td>1</td>\n",
              "    </tr>\n",
              "    <tr>\n",
              "      <th>promo</th>\n",
              "      <td>0</td>\n",
              "      <td>0</td>\n",
              "      <td>0</td>\n",
              "      <td>1</td>\n",
              "      <td>0</td>\n",
              "    </tr>\n",
              "    <tr>\n",
              "      <th>state_holiday</th>\n",
              "      <td>0</td>\n",
              "      <td>0</td>\n",
              "      <td>0</td>\n",
              "      <td>0</td>\n",
              "      <td>0</td>\n",
              "    </tr>\n",
              "    <tr>\n",
              "      <th>school_holiday</th>\n",
              "      <td>1</td>\n",
              "      <td>0</td>\n",
              "      <td>0</td>\n",
              "      <td>0</td>\n",
              "      <td>1</td>\n",
              "    </tr>\n",
              "    <tr>\n",
              "      <th>store_type</th>\n",
              "      <td>a</td>\n",
              "      <td>a</td>\n",
              "      <td>a</td>\n",
              "      <td>a</td>\n",
              "      <td>a</td>\n",
              "    </tr>\n",
              "    <tr>\n",
              "      <th>assortment</th>\n",
              "      <td>c</td>\n",
              "      <td>a</td>\n",
              "      <td>a</td>\n",
              "      <td>a</td>\n",
              "      <td>a</td>\n",
              "    </tr>\n",
              "    <tr>\n",
              "      <th>competition_distance</th>\n",
              "      <td>910</td>\n",
              "      <td>1470</td>\n",
              "      <td>8080</td>\n",
              "      <td>310</td>\n",
              "      <td>9560</td>\n",
              "    </tr>\n",
              "    <tr>\n",
              "      <th>competition_open_since_month</th>\n",
              "      <td>6</td>\n",
              "      <td>12</td>\n",
              "      <td>12</td>\n",
              "      <td>1</td>\n",
              "      <td>4</td>\n",
              "    </tr>\n",
              "    <tr>\n",
              "      <th>competition_open_since_year</th>\n",
              "      <td>2013</td>\n",
              "      <td>2006</td>\n",
              "      <td>2002</td>\n",
              "      <td>2015</td>\n",
              "      <td>2001</td>\n",
              "    </tr>\n",
              "    <tr>\n",
              "      <th>promo2</th>\n",
              "      <td>1</td>\n",
              "      <td>1</td>\n",
              "      <td>1</td>\n",
              "      <td>1</td>\n",
              "      <td>0</td>\n",
              "    </tr>\n",
              "    <tr>\n",
              "      <th>promo2_since_week</th>\n",
              "      <td>22</td>\n",
              "      <td>40</td>\n",
              "      <td>40</td>\n",
              "      <td>5</td>\n",
              "      <td>32</td>\n",
              "    </tr>\n",
              "    <tr>\n",
              "      <th>promo2_since_year</th>\n",
              "      <td>2011</td>\n",
              "      <td>2014</td>\n",
              "      <td>2014</td>\n",
              "      <td>2013</td>\n",
              "      <td>2013</td>\n",
              "    </tr>\n",
              "    <tr>\n",
              "      <th>promo_interval</th>\n",
              "      <td>Feb,May,Aug,Nov</td>\n",
              "      <td>Jan,Apr,Jul,Oct</td>\n",
              "      <td>Jan,Apr,Jul,Oct</td>\n",
              "      <td>Feb,May,Aug,Nov</td>\n",
              "      <td>0</td>\n",
              "    </tr>\n",
              "    <tr>\n",
              "      <th>month_map</th>\n",
              "      <td>Jun</td>\n",
              "      <td>Jun</td>\n",
              "      <td>Jul</td>\n",
              "      <td>Jan</td>\n",
              "      <td>Aug</td>\n",
              "    </tr>\n",
              "    <tr>\n",
              "      <th>is_promo</th>\n",
              "      <td>0</td>\n",
              "      <td>0</td>\n",
              "      <td>1</td>\n",
              "      <td>0</td>\n",
              "      <td>0</td>\n",
              "    </tr>\n",
              "  </tbody>\n",
              "</table>\n",
              "</div>"
            ],
            "text/plain": [
              "                                           818426               54824                30715                223242               772707\n",
              "store                                         802                  190                  611                  243                  798\n",
              "day_of_week                                     5                    5                    6                    1                    4\n",
              "date                          2013-06-28 00:00:00  2015-06-12 00:00:00  2015-07-04 00:00:00  2015-01-12 00:00:00  2013-08-08 00:00:00\n",
              "sales                                        6705                 6492                 4883                 9842                 6127\n",
              "customers                                     507                  646                  418                 1145                  827\n",
              "open                                            1                    1                    1                    1                    1\n",
              "promo                                           0                    0                    0                    1                    0\n",
              "state_holiday                                   0                    0                    0                    0                    0\n",
              "school_holiday                                  1                    0                    0                    0                    1\n",
              "store_type                                      a                    a                    a                    a                    a\n",
              "assortment                                      c                    a                    a                    a                    a\n",
              "competition_distance                          910                 1470                 8080                  310                 9560\n",
              "competition_open_since_month                    6                   12                   12                    1                    4\n",
              "competition_open_since_year                  2013                 2006                 2002                 2015                 2001\n",
              "promo2                                          1                    1                    1                    1                    0\n",
              "promo2_since_week                              22                   40                   40                    5                   32\n",
              "promo2_since_year                            2011                 2014                 2014                 2013                 2013\n",
              "promo_interval                    Feb,May,Aug,Nov      Jan,Apr,Jul,Oct      Jan,Apr,Jul,Oct      Feb,May,Aug,Nov                    0\n",
              "month_map                                     Jun                  Jun                  Jul                  Jan                  Aug\n",
              "is_promo                                        0                    0                    1                    0                    0"
            ]
          },
          "metadata": {
            "tags": []
          },
          "execution_count": 20
        }
      ]
    },
    {
      "cell_type": "markdown",
      "metadata": {
        "hidden": true,
        "id": "hZZJGyMhHVcA"
      },
      "source": [
        "### 1.6 Check again Types\n",
        "\n",
        "Sempre bom revisar, pois as mudanças que fizemos podem mudar os tipos"
      ]
    },
    {
      "cell_type": "code",
      "metadata": {
        "ExecuteTime": {
          "end_time": "2021-03-09T16:27:40.027222Z",
          "start_time": "2021-03-09T16:27:40.014953Z"
        },
        "colab": {
          "base_uri": "https://localhost:8080/"
        },
        "hidden": true,
        "id": "74dyUVCb8lyi",
        "outputId": "5c90c586-3177-4218-8784-d29b0e943047"
      },
      "source": [
        "df1.dtypes"
      ],
      "execution_count": 21,
      "outputs": [
        {
          "output_type": "execute_result",
          "data": {
            "text/plain": [
              "store                                    int64\n",
              "day_of_week                              int64\n",
              "date                            datetime64[ns]\n",
              "sales                                    int64\n",
              "customers                                int64\n",
              "open                                     int64\n",
              "promo                                    int64\n",
              "state_holiday                           object\n",
              "school_holiday                           int64\n",
              "store_type                              object\n",
              "assortment                              object\n",
              "competition_distance                   float64\n",
              "competition_open_since_month           float64\n",
              "competition_open_since_year            float64\n",
              "promo2                                   int64\n",
              "promo2_since_week                      float64\n",
              "promo2_since_year                      float64\n",
              "promo_interval                          object\n",
              "month_map                               object\n",
              "is_promo                                 int64\n",
              "dtype: object"
            ]
          },
          "metadata": {
            "tags": []
          },
          "execution_count": 21
        }
      ]
    },
    {
      "cell_type": "code",
      "metadata": {
        "ExecuteTime": {
          "end_time": "2021-03-09T16:27:40.178416Z",
          "start_time": "2021-03-09T16:27:40.030790Z"
        },
        "hidden": true,
        "id": "S6i1ifkFHwWS"
      },
      "source": [
        "# Passar para inteiro\n",
        "\n",
        "df1['competition_open_since_month'] = df1['competition_open_since_month'].astype(int)\n",
        "df1['competition_open_since_year'] = df1['competition_open_since_year'].astype(int)\n",
        "df1['promo2_since_week'] = df1['promo2_since_week'].astype(int)\n",
        "df1['promo2_since_year'] = df1['promo2_since_year'].astype(int)\n"
      ],
      "execution_count": 22,
      "outputs": []
    },
    {
      "cell_type": "code",
      "metadata": {
        "ExecuteTime": {
          "end_time": "2021-03-09T16:27:40.255702Z",
          "start_time": "2021-03-09T16:27:40.180532Z"
        },
        "colab": {
          "base_uri": "https://localhost:8080/"
        },
        "hidden": true,
        "id": "7uuldLwEJBkT",
        "outputId": "ace6fd65-b0a0-47bf-d26c-815e39a4d7c7"
      },
      "source": [
        "# Verificar\n",
        "df1.dtypes"
      ],
      "execution_count": 23,
      "outputs": [
        {
          "output_type": "execute_result",
          "data": {
            "text/plain": [
              "store                                    int64\n",
              "day_of_week                              int64\n",
              "date                            datetime64[ns]\n",
              "sales                                    int64\n",
              "customers                                int64\n",
              "open                                     int64\n",
              "promo                                    int64\n",
              "state_holiday                           object\n",
              "school_holiday                           int64\n",
              "store_type                              object\n",
              "assortment                              object\n",
              "competition_distance                   float64\n",
              "competition_open_since_month             int64\n",
              "competition_open_since_year              int64\n",
              "promo2                                   int64\n",
              "promo2_since_week                        int64\n",
              "promo2_since_year                        int64\n",
              "promo_interval                          object\n",
              "month_map                               object\n",
              "is_promo                                 int64\n",
              "dtype: object"
            ]
          },
          "metadata": {
            "tags": []
          },
          "execution_count": 23
        }
      ]
    },
    {
      "cell_type": "markdown",
      "metadata": {
        "hidden": true,
        "id": "PUTBh10AJPOn"
      },
      "source": [
        "### 1.7 Descriptive Statistical"
      ]
    },
    {
      "cell_type": "code",
      "metadata": {
        "ExecuteTime": {
          "end_time": "2021-03-09T16:27:40.535892Z",
          "start_time": "2021-03-09T16:27:40.258332Z"
        },
        "hidden": true,
        "id": "O-eVbGRfJOF9"
      },
      "source": [
        "#Atributos Numéricos\n",
        "num_attributes = df1.select_dtypes(include = ['int64','float64'])\n",
        "\n",
        "#Atributos Categóricos\n",
        "cat_attributes = df1.select_dtypes(exclude = ['int64','float64','datetime64[ns]'])"
      ],
      "execution_count": 24,
      "outputs": []
    },
    {
      "cell_type": "code",
      "metadata": {
        "ExecuteTime": {
          "end_time": "2021-03-09T16:27:40.580820Z",
          "start_time": "2021-03-09T16:27:40.538208Z"
        },
        "colab": {
          "base_uri": "https://localhost:8080/"
        },
        "hidden": true,
        "id": "wkCjcFOsRXI0",
        "outputId": "3e851e50-fbd4-4813-8484-0eaa62b2fd3f"
      },
      "source": [
        "# Só para verificar se são strings msm\n",
        "cat_attributes['state_holiday'].unique()"
      ],
      "execution_count": 25,
      "outputs": [
        {
          "output_type": "execute_result",
          "data": {
            "text/plain": [
              "array(['0', 'a', 'b', 'c'], dtype=object)"
            ]
          },
          "metadata": {
            "tags": []
          },
          "execution_count": 25
        }
      ]
    },
    {
      "cell_type": "markdown",
      "metadata": {
        "heading_collapsed": true,
        "hidden": true,
        "id": "mtXbbSh0SBrM"
      },
      "source": [
        "### 1.7.1 Numerical Attributes"
      ]
    },
    {
      "cell_type": "markdown",
      "metadata": {
        "hidden": true,
        "id": "DkdwSDn4P0r_"
      },
      "source": [
        "##### 1.7.1.1 Metric of Central Tendency"
      ]
    },
    {
      "cell_type": "code",
      "metadata": {
        "ExecuteTime": {
          "end_time": "2021-03-09T16:27:40.976827Z",
          "start_time": "2021-03-09T16:27:40.583944Z"
        },
        "hidden": true,
        "id": "J-9mtqh2SH5q"
      },
      "source": [
        "# Central Tendency - Mean and Median\n",
        "ct1 = pd.DataFrame( num_attributes.apply( np.mean )).T\n",
        "ct2 = pd.DataFrame( num_attributes.apply( np.median )).T"
      ],
      "execution_count": 26,
      "outputs": []
    },
    {
      "cell_type": "markdown",
      "metadata": {
        "hidden": true,
        "id": "a0aE8JOpP9FH"
      },
      "source": [
        "##### 1.7.1.2 Metric of Dispersion"
      ]
    },
    {
      "cell_type": "code",
      "metadata": {
        "ExecuteTime": {
          "end_time": "2021-03-09T16:27:44.676544Z",
          "start_time": "2021-03-09T16:27:40.978992Z"
        },
        "hidden": true,
        "id": "7mf_XlOAP0a2"
      },
      "source": [
        "# Dispersion - std(desvio padrao), min, max, range(max-min), skew, kurtosis\n",
        "d1 = pd.DataFrame( num_attributes.apply( np.std ) ).T\n",
        "d2 = pd.DataFrame( num_attributes.apply( min ) ).T\n",
        "d3 = pd.DataFrame( num_attributes.apply( max ) ).T\n",
        "d4 = pd.DataFrame( num_attributes.apply( lambda x: x.max() - x.min() ) ).T\n",
        "d5 = pd.DataFrame( num_attributes.apply( lambda x: x.skew() ) ).T\n",
        "d6 = pd.DataFrame( num_attributes.apply( lambda x: x.kurtosis() ) ).T\n",
        "\n",
        "# Concatenate        Ordem que quero ver\n",
        "m = pd.concat( [d2, d3, d4, ct1, ct2, d1, d5, d6] ).T.reset_index()\n",
        "m.columns = ['attributes', 'min', 'max', 'range', 'mean', 'median','std','skew','kurtosis'] "
      ],
      "execution_count": 27,
      "outputs": []
    },
    {
      "cell_type": "code",
      "metadata": {
        "ExecuteTime": {
          "end_time": "2021-03-09T16:27:44.699524Z",
          "start_time": "2021-03-09T16:27:44.678535Z"
        },
        "colab": {
          "base_uri": "https://localhost:8080/",
          "height": 0
        },
        "hidden": true,
        "id": "mLSeG9YHXB-N",
        "outputId": "f48a279c-c6cb-45a7-bdff-b39f173096c9"
      },
      "source": [
        "m"
      ],
      "execution_count": 28,
      "outputs": [
        {
          "output_type": "execute_result",
          "data": {
            "text/html": [
              "<div>\n",
              "<style scoped>\n",
              "    .dataframe tbody tr th:only-of-type {\n",
              "        vertical-align: middle;\n",
              "    }\n",
              "\n",
              "    .dataframe tbody tr th {\n",
              "        vertical-align: top;\n",
              "    }\n",
              "\n",
              "    .dataframe thead th {\n",
              "        text-align: right;\n",
              "    }\n",
              "</style>\n",
              "<table border=\"1\" class=\"dataframe\">\n",
              "  <thead>\n",
              "    <tr style=\"text-align: right;\">\n",
              "      <th></th>\n",
              "      <th>attributes</th>\n",
              "      <th>min</th>\n",
              "      <th>max</th>\n",
              "      <th>range</th>\n",
              "      <th>mean</th>\n",
              "      <th>median</th>\n",
              "      <th>std</th>\n",
              "      <th>skew</th>\n",
              "      <th>kurtosis</th>\n",
              "    </tr>\n",
              "  </thead>\n",
              "  <tbody>\n",
              "    <tr>\n",
              "      <th>0</th>\n",
              "      <td>store</td>\n",
              "      <td>1.0</td>\n",
              "      <td>1115.0</td>\n",
              "      <td>1114.0</td>\n",
              "      <td>558.429727</td>\n",
              "      <td>558.0</td>\n",
              "      <td>321.908493</td>\n",
              "      <td>-0.000955</td>\n",
              "      <td>-1.200524</td>\n",
              "    </tr>\n",
              "    <tr>\n",
              "      <th>1</th>\n",
              "      <td>day_of_week</td>\n",
              "      <td>1.0</td>\n",
              "      <td>7.0</td>\n",
              "      <td>6.0</td>\n",
              "      <td>3.998341</td>\n",
              "      <td>4.0</td>\n",
              "      <td>1.997390</td>\n",
              "      <td>0.001593</td>\n",
              "      <td>-1.246873</td>\n",
              "    </tr>\n",
              "    <tr>\n",
              "      <th>2</th>\n",
              "      <td>sales</td>\n",
              "      <td>0.0</td>\n",
              "      <td>41551.0</td>\n",
              "      <td>41551.0</td>\n",
              "      <td>5773.818972</td>\n",
              "      <td>5744.0</td>\n",
              "      <td>3849.924283</td>\n",
              "      <td>0.641460</td>\n",
              "      <td>1.778375</td>\n",
              "    </tr>\n",
              "    <tr>\n",
              "      <th>3</th>\n",
              "      <td>customers</td>\n",
              "      <td>0.0</td>\n",
              "      <td>7388.0</td>\n",
              "      <td>7388.0</td>\n",
              "      <td>633.145946</td>\n",
              "      <td>609.0</td>\n",
              "      <td>464.411506</td>\n",
              "      <td>1.598650</td>\n",
              "      <td>7.091773</td>\n",
              "    </tr>\n",
              "    <tr>\n",
              "      <th>4</th>\n",
              "      <td>open</td>\n",
              "      <td>0.0</td>\n",
              "      <td>1.0</td>\n",
              "      <td>1.0</td>\n",
              "      <td>0.830107</td>\n",
              "      <td>1.0</td>\n",
              "      <td>0.375539</td>\n",
              "      <td>-1.758045</td>\n",
              "      <td>1.090723</td>\n",
              "    </tr>\n",
              "    <tr>\n",
              "      <th>5</th>\n",
              "      <td>promo</td>\n",
              "      <td>0.0</td>\n",
              "      <td>1.0</td>\n",
              "      <td>1.0</td>\n",
              "      <td>0.381515</td>\n",
              "      <td>0.0</td>\n",
              "      <td>0.485758</td>\n",
              "      <td>0.487838</td>\n",
              "      <td>-1.762018</td>\n",
              "    </tr>\n",
              "    <tr>\n",
              "      <th>6</th>\n",
              "      <td>school_holiday</td>\n",
              "      <td>0.0</td>\n",
              "      <td>1.0</td>\n",
              "      <td>1.0</td>\n",
              "      <td>0.178647</td>\n",
              "      <td>0.0</td>\n",
              "      <td>0.383056</td>\n",
              "      <td>1.677842</td>\n",
              "      <td>0.815154</td>\n",
              "    </tr>\n",
              "    <tr>\n",
              "      <th>7</th>\n",
              "      <td>competition_distance</td>\n",
              "      <td>20.0</td>\n",
              "      <td>200000.0</td>\n",
              "      <td>199980.0</td>\n",
              "      <td>5935.442677</td>\n",
              "      <td>2330.0</td>\n",
              "      <td>12547.646829</td>\n",
              "      <td>10.242344</td>\n",
              "      <td>147.789712</td>\n",
              "    </tr>\n",
              "    <tr>\n",
              "      <th>8</th>\n",
              "      <td>competition_open_since_month</td>\n",
              "      <td>1.0</td>\n",
              "      <td>12.0</td>\n",
              "      <td>11.0</td>\n",
              "      <td>6.786849</td>\n",
              "      <td>7.0</td>\n",
              "      <td>3.311085</td>\n",
              "      <td>-0.042076</td>\n",
              "      <td>-1.232607</td>\n",
              "    </tr>\n",
              "    <tr>\n",
              "      <th>9</th>\n",
              "      <td>competition_open_since_year</td>\n",
              "      <td>1900.0</td>\n",
              "      <td>2015.0</td>\n",
              "      <td>115.0</td>\n",
              "      <td>2010.324840</td>\n",
              "      <td>2012.0</td>\n",
              "      <td>5.515591</td>\n",
              "      <td>-7.235657</td>\n",
              "      <td>124.071304</td>\n",
              "    </tr>\n",
              "    <tr>\n",
              "      <th>10</th>\n",
              "      <td>promo2</td>\n",
              "      <td>0.0</td>\n",
              "      <td>1.0</td>\n",
              "      <td>1.0</td>\n",
              "      <td>0.500564</td>\n",
              "      <td>1.0</td>\n",
              "      <td>0.500000</td>\n",
              "      <td>-0.002255</td>\n",
              "      <td>-1.999999</td>\n",
              "    </tr>\n",
              "    <tr>\n",
              "      <th>11</th>\n",
              "      <td>promo2_since_week</td>\n",
              "      <td>1.0</td>\n",
              "      <td>52.0</td>\n",
              "      <td>51.0</td>\n",
              "      <td>23.619033</td>\n",
              "      <td>22.0</td>\n",
              "      <td>14.310057</td>\n",
              "      <td>0.178723</td>\n",
              "      <td>-1.184046</td>\n",
              "    </tr>\n",
              "    <tr>\n",
              "      <th>12</th>\n",
              "      <td>promo2_since_year</td>\n",
              "      <td>2009.0</td>\n",
              "      <td>2015.0</td>\n",
              "      <td>6.0</td>\n",
              "      <td>2012.793297</td>\n",
              "      <td>2013.0</td>\n",
              "      <td>1.662657</td>\n",
              "      <td>-0.784436</td>\n",
              "      <td>-0.210075</td>\n",
              "    </tr>\n",
              "    <tr>\n",
              "      <th>13</th>\n",
              "      <td>is_promo</td>\n",
              "      <td>0.0</td>\n",
              "      <td>1.0</td>\n",
              "      <td>1.0</td>\n",
              "      <td>0.161100</td>\n",
              "      <td>0.0</td>\n",
              "      <td>0.367623</td>\n",
              "      <td>1.843742</td>\n",
              "      <td>1.399388</td>\n",
              "    </tr>\n",
              "  </tbody>\n",
              "</table>\n",
              "</div>"
            ],
            "text/plain": [
              "                      attributes     min       max     range         mean  median           std       skew    kurtosis\n",
              "0                          store     1.0    1115.0    1114.0   558.429727   558.0    321.908493  -0.000955   -1.200524\n",
              "1                    day_of_week     1.0       7.0       6.0     3.998341     4.0      1.997390   0.001593   -1.246873\n",
              "2                          sales     0.0   41551.0   41551.0  5773.818972  5744.0   3849.924283   0.641460    1.778375\n",
              "3                      customers     0.0    7388.0    7388.0   633.145946   609.0    464.411506   1.598650    7.091773\n",
              "4                           open     0.0       1.0       1.0     0.830107     1.0      0.375539  -1.758045    1.090723\n",
              "5                          promo     0.0       1.0       1.0     0.381515     0.0      0.485758   0.487838   -1.762018\n",
              "6                 school_holiday     0.0       1.0       1.0     0.178647     0.0      0.383056   1.677842    0.815154\n",
              "7           competition_distance    20.0  200000.0  199980.0  5935.442677  2330.0  12547.646829  10.242344  147.789712\n",
              "8   competition_open_since_month     1.0      12.0      11.0     6.786849     7.0      3.311085  -0.042076   -1.232607\n",
              "9    competition_open_since_year  1900.0    2015.0     115.0  2010.324840  2012.0      5.515591  -7.235657  124.071304\n",
              "10                        promo2     0.0       1.0       1.0     0.500564     1.0      0.500000  -0.002255   -1.999999\n",
              "11             promo2_since_week     1.0      52.0      51.0    23.619033    22.0     14.310057   0.178723   -1.184046\n",
              "12             promo2_since_year  2009.0    2015.0       6.0  2012.793297  2013.0      1.662657  -0.784436   -0.210075\n",
              "13                      is_promo     0.0       1.0       1.0     0.161100     0.0      0.367623   1.843742    1.399388"
            ]
          },
          "metadata": {
            "tags": []
          },
          "execution_count": 28
        }
      ]
    },
    {
      "cell_type": "code",
      "metadata": {
        "ExecuteTime": {
          "end_time": "2021-03-09T16:27:49.043738Z",
          "start_time": "2021-03-09T16:27:44.704799Z"
        },
        "colab": {
          "base_uri": "https://localhost:8080/",
          "height": 0
        },
        "hidden": true,
        "id": "q0PIg-AACVPd",
        "outputId": "f16db304-7cb2-4220-8b66-a9757a4fea3a"
      },
      "source": [
        "# Análises\n",
        "\n",
        "# SALES\n",
        "# - veja que a média e mediana são muito pŕoximas, logo não há um deslocamento da distribuição normal muito grande.\n",
        "# - A skew é uma representação do quão deslocado está sua distribuição normal, quanto mais próximo de ZERO, mais centralizada está.\n",
        "# - A Kutrosi próximo de 1, é o ideal para uma distribuição normal, contudo, valores altos de kurtosi, refletem no tamanho do pico\n",
        "\n",
        "sns.distplot(df1['sales'])"
      ],
      "execution_count": 29,
      "outputs": [
        {
          "output_type": "stream",
          "text": [
            "/usr/local/lib/python3.7/dist-packages/seaborn/distributions.py:2557: FutureWarning: `distplot` is a deprecated function and will be removed in a future version. Please adapt your code to use either `displot` (a figure-level function with similar flexibility) or `histplot` (an axes-level function for histograms).\n",
            "  warnings.warn(msg, FutureWarning)\n"
          ],
          "name": "stderr"
        },
        {
          "output_type": "execute_result",
          "data": {
            "text/plain": [
              "<matplotlib.axes._subplots.AxesSubplot at 0x7f4d7d450b50>"
            ]
          },
          "metadata": {
            "tags": []
          },
          "execution_count": 29
        },
        {
          "output_type": "display_data",
          "data": {
            "image/png": "[encoded data removed]",
            "text/plain": [
              "<Figure size 1800x864 with 1 Axes>"
            ]
          },
          "metadata": {
            "tags": []
          }
        }
      ]
    },
    {
      "cell_type": "code",
      "metadata": {
        "ExecuteTime": {
          "end_time": "2021-03-09T16:27:52.986276Z",
          "start_time": "2021-03-09T16:27:49.051372Z"
        },
        "colab": {
          "base_uri": "https://localhost:8080/",
          "height": 0
        },
        "hidden": true,
        "id": "OLrtX_9UFav9",
        "outputId": "71599726-61e3-4d16-a16d-4a3fdb2e16a0"
      },
      "source": [
        "# COMPETITION_DISTANCE\n",
        "# - veja que a Skew está em 10... que significa que provavelmente tem um grande deslocamento nesta distribuição normal.\n",
        "# - A uma Kurtosis gigantescac de 147... Logo deve ter dado um pico gigantesco\n",
        "\n",
        "# Só de olhar a Skew e Kurtosis, parece que temos uma distribuição de Poisson... logo existe uma concentração muito alta\n",
        "# de valores no começo.\n",
        "\n",
        "sns.distplot(df1['competition_distance'])\n"
      ],
      "execution_count": 30,
      "outputs": [
        {
          "output_type": "stream",
          "text": [
            "/usr/local/lib/python3.7/dist-packages/seaborn/distributions.py:2557: FutureWarning: `distplot` is a deprecated function and will be removed in a future version. Please adapt your code to use either `displot` (a figure-level function with similar flexibility) or `histplot` (an axes-level function for histograms).\n",
            "  warnings.warn(msg, FutureWarning)\n"
          ],
          "name": "stderr"
        },
        {
          "output_type": "execute_result",
          "data": {
            "text/plain": [
              "<matplotlib.axes._subplots.AxesSubplot at 0x7f4d5a237e50>"
            ]
          },
          "metadata": {
            "tags": []
          },
          "execution_count": 30
        },
        {
          "output_type": "display_data",
          "data": {
            "image/png": "[encoded data removed]",
            "text/plain": [
              "<Figure size 1800x864 with 1 Axes>"
            ]
          },
          "metadata": {
            "tags": []
          }
        }
      ]
    },
    {
      "cell_type": "code",
      "metadata": {
        "hidden": true,
        "id": "LXcShh0mHS1U"
      },
      "source": [
        ""
      ],
      "execution_count": 30,
      "outputs": []
    },
    {
      "cell_type": "code",
      "metadata": {
        "ExecuteTime": {
          "end_time": "2021-03-09T16:27:56.853528Z",
          "start_time": "2021-03-09T16:27:52.989202Z"
        },
        "colab": {
          "base_uri": "https://localhost:8080/",
          "height": 0
        },
        "hidden": true,
        "id": "DzIlRo_yGhMB",
        "outputId": "46d00e37-23e9-4938-b82b-0fe67d84bfd6"
      },
      "source": [
        "# COSTUMERS\n",
        "# - Média de 633 pessoas na loja por dia, com desvio parão de 464... Logo, em um dia eu POSSO ter de 200 a 1000 pessoas em um dia\n",
        "sns.distplot(df1['customers'])"
      ],
      "execution_count": 31,
      "outputs": [
        {
          "output_type": "stream",
          "text": [
            "/usr/local/lib/python3.7/dist-packages/seaborn/distributions.py:2557: FutureWarning: `distplot` is a deprecated function and will be removed in a future version. Please adapt your code to use either `displot` (a figure-level function with similar flexibility) or `histplot` (an axes-level function for histograms).\n",
            "  warnings.warn(msg, FutureWarning)\n"
          ],
          "name": "stderr"
        },
        {
          "output_type": "execute_result",
          "data": {
            "text/plain": [
              "<matplotlib.axes._subplots.AxesSubplot at 0x7f4d770a86d0>"
            ]
          },
          "metadata": {
            "tags": []
          },
          "execution_count": 31
        },
        {
          "output_type": "display_data",
          "data": {
            "image/png": "[encoded data removed]",
            "text/plain": [
              "<Figure size 1800x864 with 1 Axes>"
            ]
          },
          "metadata": {
            "tags": []
          }
        }
      ]
    },
    {
      "cell_type": "markdown",
      "metadata": {
        "heading_collapsed": true,
        "hidden": true,
        "id": "H_rlZz3eHp5z"
      },
      "source": [
        "##### 1.7.1.2 Categorical Attributes"
      ]
    },
    {
      "cell_type": "code",
      "metadata": {
        "ExecuteTime": {
          "end_time": "2021-03-09T16:27:57.041696Z",
          "start_time": "2021-03-09T16:27:56.855470Z"
        },
        "colab": {
          "base_uri": "https://localhost:8080/"
        },
        "hidden": true,
        "id": "3vw5daMZHf0x",
        "outputId": "b1b3a2ad-2115-4bb0-b07a-52b0aa3fdf64"
      },
      "source": [
        "cat_attributes.apply(lambda x: x.unique().shape[0])"
      ],
      "execution_count": 32,
      "outputs": [
        {
          "output_type": "execute_result",
          "data": {
            "text/plain": [
              "state_holiday      4\n",
              "store_type         4\n",
              "assortment         3\n",
              "promo_interval     4\n",
              "month_map         12\n",
              "dtype: int64"
            ]
          },
          "metadata": {
            "tags": []
          },
          "execution_count": 32
        }
      ]
    },
    {
      "cell_type": "code",
      "metadata": {
        "ExecuteTime": {
          "end_time": "2021-03-09T16:27:59.231629Z",
          "start_time": "2021-03-09T16:27:57.043970Z"
        },
        "colab": {
          "base_uri": "https://localhost:8080/",
          "height": 0
        },
        "hidden": true,
        "id": "03RY9guIH9hN",
        "scrolled": true,
        "outputId": "73357011-1bbb-4993-e5f6-b5260489d6a8"
      },
      "source": [
        "plt.rcParams[\"figure.figsize\"] = (18,10)\n",
        "\n",
        "aux1 = df1[ (df1['state_holiday'] != 0) & (df1['sales'] > 0) ]\n",
        "\n",
        "plt.subplot(1,3,1)\n",
        "sns.boxplot(\n",
        "    x='state_holiday',\n",
        "    y='sales',\n",
        "    data=aux1\n",
        ")\n",
        "plt.subplot(1,3,2)\n",
        "sns.boxplot(\n",
        "    x='store_type',\n",
        "    y='sales',\n",
        "    data=aux1\n",
        ")\n",
        "plt.subplot(1,3,3)\n",
        "sns.boxplot(\n",
        "    x='assortment',\n",
        "    y='sales',\n",
        "    data=aux1\n",
        ")"
      ],
      "execution_count": 33,
      "outputs": [
        {
          "output_type": "execute_result",
          "data": {
            "text/plain": [
              "<matplotlib.axes._subplots.AxesSubplot at 0x7f4d72cfaa10>"
            ]
          },
          "metadata": {
            "tags": []
          },
          "execution_count": 33
        },
        {
          "output_type": "display_data",
          "data": {
            "image/png": "[encoded data removed]",
            "text/plain": [
              "<Figure size 1296x720 with 3 Axes>"
            ]
          },
          "metadata": {
            "tags": []
          }
        }
      ]
    },
    {
      "cell_type": "markdown",
      "metadata": {
        "heading_collapsed": true,
        "id": "gv4rfnFcDzSh"
      },
      "source": [
        "# 2.0 **Passo 2** - Feature Engineering"
      ]
    },
    {
      "cell_type": "code",
      "metadata": {
        "hidden": true,
        "id": "7IwhO9lFaTRv"
      },
      "source": [
        ""
      ],
      "execution_count": 33,
      "outputs": []
    },
    {
      "cell_type": "code",
      "metadata": {
        "hidden": true,
        "id": "etjAXWDZaTRw"
      },
      "source": [
        ""
      ],
      "execution_count": 33,
      "outputs": []
    },
    {
      "cell_type": "code",
      "metadata": {
        "ExecuteTime": {
          "end_time": "2021-03-09T16:27:59.364170Z",
          "start_time": "2021-03-09T16:27:59.234718Z"
        },
        "hidden": true,
        "id": "xQ3ZJyWYaTRw"
      },
      "source": [
        "df2 = df1.copy()"
      ],
      "execution_count": 34,
      "outputs": []
    },
    {
      "cell_type": "markdown",
      "metadata": {
        "hidden": true,
        "id": "gcCFTpsitcuu"
      },
      "source": [
        "## 2.1 Mind Map Hypostesis"
      ]
    },
    {
      "cell_type": "markdown",
      "metadata": {
        "hidden": true,
        "id": "BdSAOVhqrlFh"
      },
      "source": [
        "Usaremos o Coggle, para criar os mind map hypothesis.\n",
        "\n",
        "1 - Nosso Fenômeno -> Vendas Diáreas  (Fica no centro)\n",
        "\n",
        "2 - Nossos agentes -> Clientes, Localização, Produtos, Lojas, Temporal ( Ficam nos ramos)\n",
        "\n",
        "3 - Características dos Agentes -> (vários...) ficam nos Ramos dos Agentes"
      ]
    },
    {
      "cell_type": "code",
      "metadata": {
        "ExecuteTime": {
          "end_time": "2021-03-09T16:27:59.370315Z",
          "start_time": "2021-03-09T16:27:59.366914Z"
        },
        "hidden": true,
        "id": "COX9fsJ9FEyi"
      },
      "source": [
        "#img jupyter notebook\n",
        "#<img src = \"./img/MindMapHypothesis.png\">"
      ],
      "execution_count": 35,
      "outputs": []
    },
    {
      "cell_type": "markdown",
      "metadata": {
        "hidden": true,
        "id": "qKMi0_OhaTRx"
      },
      "source": [
        "img gogole colab\n",
        "\n",
        "<img src =\"https://github.com/miguelzeph/curso_ds_em_producao/blob/master/img/MindMapHypothesis.png?raw=true\" >"
      ]
    },
    {
      "cell_type": "markdown",
      "metadata": {
        "hidden": true,
        "id": "E38EH6Qbtowp"
      },
      "source": [
        "## 2.2 Criação das Hipóteses"
      ]
    },
    {
      "cell_type": "markdown",
      "metadata": {
        "heading_collapsed": true,
        "hidden": true,
        "id": "kZyA62Eot5wj"
      },
      "source": [
        "### 2.2.1 Hipoteses **Loja**"
      ]
    },
    {
      "cell_type": "markdown",
      "metadata": {
        "hidden": true,
        "id": "UesqAwk_00A3"
      },
      "source": [
        "1 - Lojas com n maior de funcionários deveriam vender mais ( não temos n de func )\n",
        "\n",
        "2 - Lojas com maior capacidade de estoque deveriam vender mais ( não tenho dados do estoque )\n",
        "\n",
        "3 - Lojas com maior porte deveriam vender mais ( Não tenho o porte da Loja )\n",
        "\n",
        "4 - Lojas com sortimento maios, deveriam vender mais ( Ok, tenho os tipos de sortimento)\n",
        "\n",
        "5 - Lojas com competidores mais próximos deveriam vender menos ( Ok,Tenho informações dos competidores )\n",
        "\n",
        "6 - Lojas com competidores à mais tempo deveriam vender mais ( Ok ) "
      ]
    },
    {
      "cell_type": "markdown",
      "metadata": {
        "heading_collapsed": true,
        "hidden": true,
        "id": "OMLuqCIYuE7h"
      },
      "source": [
        "### 2.2.2 Hipoteses **Produtos**"
      ]
    },
    {
      "cell_type": "markdown",
      "metadata": {
        "hidden": true,
        "id": "l2NPisgV3IXX"
      },
      "source": [
        "1 - Lojas que investem mais em Marketing deveriam vender mais.\n",
        "\n",
        "2 - Lojas com maior exposição de produtos deveriam vender mais.\n",
        "\n",
        "3 - Lojas com produtos com preço menor deveriam vender mais.\n",
        "\n",
        "4 - Lojas com promoções mais agressivas deveriam vender mais.\n",
        "\n",
        "5 - Lojas com promoções ativas por mais temo deveriam vender mais. (ok)\n",
        "\n",
        "6 - Lojas com mais dias de promoção deveriam vender mais. (ok)\n",
        "\n",
        "7 - Lojas com mais promoções consecutivas deveriam vender mais. (ok)"
      ]
    },
    {
      "cell_type": "markdown",
      "metadata": {
        "heading_collapsed": true,
        "hidden": true,
        "id": "hWq3Afc2uFA6"
      },
      "source": [
        "### 2.2.3 Hipoteses **Tempo**"
      ]
    },
    {
      "cell_type": "markdown",
      "metadata": {
        "hidden": true,
        "id": "X4_teKX04O-x"
      },
      "source": [
        "1 - Lojas abertas no feriado de natal deveriam vender mais\n",
        "\n",
        "2 - Lojas deveriam vender mais ao longo dos anos\n",
        "\n",
        "3 - Lojas deveriam vender mais no segundo semetre do ano\n",
        "\n",
        "4 - Lojas deveriam vender mais depois do dia 10 de cada mês\n",
        "\n",
        "5 - Lojas deveriam vender menos aos finais de semana.\n",
        "\n",
        "6 - Lojas deveriam vender menos durante os feriados escolares."
      ]
    },
    {
      "cell_type": "markdown",
      "metadata": {
        "heading_collapsed": true,
        "hidden": true,
        "id": "DBPWgHy52yYK"
      },
      "source": [
        "## 2.3 Lista Final de Hipósteses"
      ]
    },
    {
      "cell_type": "markdown",
      "metadata": {
        "hidden": true,
        "id": "LbZn444T26BS"
      },
      "source": [
        "**LOJAS**\n",
        "\n",
        "4 - Lojas com sortimento maios, deveriam vender mais ( Ok, tenho os tipos de sortimento)\n",
        "\n",
        "5 - Lojas com competidores mais próximos deveriam vender menos ( Ok,Tenho informações dos competidores )\n",
        "\n",
        "6 - Lojas com competidores à mais tempo deveriam vender mais ( Ok )\n",
        "\n",
        "**PRODUTOS**\n",
        "\n",
        "5 - Lojas com promoções ativas por mais temo deveriam vender mais. \n",
        "\n",
        "6 - Lojas com mais dias de promoção deveriam vender mais.\n",
        "\n",
        "7 - Lojas com mais promoções consecutivas deveriam vender mais.\n",
        "\n",
        "**TEMPO**\n",
        "\n",
        "1 - Lojas abertas no feriado de natal deveriam vender mais\n",
        "\n",
        "2 - Lojas deveriam vender mais ao longo dos anos\n",
        "\n",
        "3 - Lojas deveriam vender mais no segundo semetre do ano\n",
        "\n",
        "4 - Lojas deveriam vender mais depois do dia 10 de cada mês\n",
        "\n",
        "5 - Lojas deveriam vender menos aos finais de semana.\n",
        "\n",
        "6 - Lojas deveriam vender menos durante os feriados escolares.\n",
        "\n",
        "\n"
      ]
    },
    {
      "cell_type": "markdown",
      "metadata": {
        "hidden": true,
        "id": "rYuvkhml4u7t"
      },
      "source": [
        "Se o modelo não performar bem, **teremos que pegar pegar mais dados** para performar..."
      ]
    },
    {
      "cell_type": "markdown",
      "metadata": {
        "hidden": true,
        "id": "7LMfn5qUaTR0"
      },
      "source": [
        "## 2.4 Feature Engineering\n",
        "\n",
        "Aqui vamos derivar as **variáveis**"
      ]
    },
    {
      "cell_type": "code",
      "metadata": {
        "ExecuteTime": {
          "end_time": "2021-03-09T16:29:11.058314Z",
          "start_time": "2021-03-09T16:27:59.373363Z"
        },
        "colab": {
          "base_uri": "https://localhost:8080/"
        },
        "hidden": true,
        "id": "SgG2niAT4LiP",
        "outputId": "48261366-ccd2-453c-878b-2a298b5455de"
      },
      "source": [
        "# year\n",
        "df2['year'] = df2['date'].dt.year\n",
        "# month\n",
        "df2['month'] = df2['date'].dt.month\n",
        "# day\n",
        "df2['day'] = df2['date'].dt.day\n",
        "# week of year\n",
        "df2['week_of_year'] = df2['date'].dt.weekofyear\n",
        "# year week\n",
        "df2['year_week'] = df2['date'].dt.strftime( \"%Y-%W\" )\n",
        "\n",
        "# competition since\n",
        "df2['competition_since'] = df2.apply( lambda x: datetime.datetime(year=x['competition_open_since_year'],month=x['competition_open_since_month'],day=1 ),axis=1)\n",
        "df2['competition_time_month'] = ( ( df2['date'] - df2['competition_since'] )/30 ).apply( lambda x: x.days ).astype(int)\n",
        "\n",
        "\n",
        "\n",
        "# promo since\n",
        "df2['promo_since'] = df2['promo2_since_year'].astype( str ) + '-' + df2['promo2_since_week'].astype( str )\n",
        "df2['promo_since'] = df2['promo_since'].apply( lambda x: datetime.datetime.strptime( x + '-1', '%Y-%W-%w') - datetime.timedelta( days = 7 ))\n",
        "df2['promo_time_week'] = ( ( df2['date'] - df2['promo_since'] )/7 ).apply(lambda x: x.days).astype( int )\n",
        "\n",
        "\n",
        "# assortment\n",
        "df2['assortment'] = df2['assortment'].apply(lambda x: 'basic' if x == 'a' else 'extra' if x == 'b' else 'extended')\n",
        "\n",
        "# state holiday\n",
        "df2['state_holiday'] = df2['state_holiday'].apply( lambda x: 'public_holiday' if x == 'a' else 'easter_holiday' if x == 'b' else 'christmas' if x == 'c' else 'regular_day')"
      ],
      "execution_count": 36,
      "outputs": [
        {
          "output_type": "stream",
          "text": [
            "/usr/local/lib/python3.7/dist-packages/ipykernel_launcher.py:8: FutureWarning: Series.dt.weekofyear and Series.dt.week have been deprecated.  Please use Series.dt.isocalendar().week instead.\n",
            "  \n"
          ],
          "name": "stderr"
        }
      ]
    },
    {
      "cell_type": "code",
      "metadata": {
        "ExecuteTime": {
          "end_time": "2021-03-09T16:29:11.090253Z",
          "start_time": "2021-03-09T16:29:11.060749Z"
        },
        "colab": {
          "base_uri": "https://localhost:8080/",
          "height": 0
        },
        "hidden": true,
        "id": "4D8WuHM3aTR0",
        "scrolled": true,
        "outputId": "f7890862-839f-483f-9d08-a0a37238c81f"
      },
      "source": [
        "df2.head().T"
      ],
      "execution_count": 37,
      "outputs": [
        {
          "output_type": "execute_result",
          "data": {
            "text/html": [
              "<div>\n",
              "<style scoped>\n",
              "    .dataframe tbody tr th:only-of-type {\n",
              "        vertical-align: middle;\n",
              "    }\n",
              "\n",
              "    .dataframe tbody tr th {\n",
              "        vertical-align: top;\n",
              "    }\n",
              "\n",
              "    .dataframe thead th {\n",
              "        text-align: right;\n",
              "    }\n",
              "</style>\n",
              "<table border=\"1\" class=\"dataframe\">\n",
              "  <thead>\n",
              "    <tr style=\"text-align: right;\">\n",
              "      <th></th>\n",
              "      <th>0</th>\n",
              "      <th>1</th>\n",
              "      <th>2</th>\n",
              "      <th>3</th>\n",
              "      <th>4</th>\n",
              "    </tr>\n",
              "  </thead>\n",
              "  <tbody>\n",
              "    <tr>\n",
              "      <th>store</th>\n",
              "      <td>1</td>\n",
              "      <td>2</td>\n",
              "      <td>3</td>\n",
              "      <td>4</td>\n",
              "      <td>5</td>\n",
              "    </tr>\n",
              "    <tr>\n",
              "      <th>day_of_week</th>\n",
              "      <td>5</td>\n",
              "      <td>5</td>\n",
              "      <td>5</td>\n",
              "      <td>5</td>\n",
              "      <td>5</td>\n",
              "    </tr>\n",
              "    <tr>\n",
              "      <th>date</th>\n",
              "      <td>2015-07-31 00:00:00</td>\n",
              "      <td>2015-07-31 00:00:00</td>\n",
              "      <td>2015-07-31 00:00:00</td>\n",
              "      <td>2015-07-31 00:00:00</td>\n",
              "      <td>2015-07-31 00:00:00</td>\n",
              "    </tr>\n",
              "    <tr>\n",
              "      <th>sales</th>\n",
              "      <td>5263</td>\n",
              "      <td>6064</td>\n",
              "      <td>8314</td>\n",
              "      <td>13995</td>\n",
              "      <td>4822</td>\n",
              "    </tr>\n",
              "    <tr>\n",
              "      <th>customers</th>\n",
              "      <td>555</td>\n",
              "      <td>625</td>\n",
              "      <td>821</td>\n",
              "      <td>1498</td>\n",
              "      <td>559</td>\n",
              "    </tr>\n",
              "    <tr>\n",
              "      <th>open</th>\n",
              "      <td>1</td>\n",
              "      <td>1</td>\n",
              "      <td>1</td>\n",
              "      <td>1</td>\n",
              "      <td>1</td>\n",
              "    </tr>\n",
              "    <tr>\n",
              "      <th>promo</th>\n",
              "      <td>1</td>\n",
              "      <td>1</td>\n",
              "      <td>1</td>\n",
              "      <td>1</td>\n",
              "      <td>1</td>\n",
              "    </tr>\n",
              "    <tr>\n",
              "      <th>state_holiday</th>\n",
              "      <td>regular_day</td>\n",
              "      <td>regular_day</td>\n",
              "      <td>regular_day</td>\n",
              "      <td>regular_day</td>\n",
              "      <td>regular_day</td>\n",
              "    </tr>\n",
              "    <tr>\n",
              "      <th>school_holiday</th>\n",
              "      <td>1</td>\n",
              "      <td>1</td>\n",
              "      <td>1</td>\n",
              "      <td>1</td>\n",
              "      <td>1</td>\n",
              "    </tr>\n",
              "    <tr>\n",
              "      <th>store_type</th>\n",
              "      <td>c</td>\n",
              "      <td>a</td>\n",
              "      <td>a</td>\n",
              "      <td>c</td>\n",
              "      <td>a</td>\n",
              "    </tr>\n",
              "    <tr>\n",
              "      <th>assortment</th>\n",
              "      <td>basic</td>\n",
              "      <td>basic</td>\n",
              "      <td>basic</td>\n",
              "      <td>extended</td>\n",
              "      <td>basic</td>\n",
              "    </tr>\n",
              "    <tr>\n",
              "      <th>competition_distance</th>\n",
              "      <td>1270</td>\n",
              "      <td>570</td>\n",
              "      <td>14130</td>\n",
              "      <td>620</td>\n",
              "      <td>29910</td>\n",
              "    </tr>\n",
              "    <tr>\n",
              "      <th>competition_open_since_month</th>\n",
              "      <td>9</td>\n",
              "      <td>11</td>\n",
              "      <td>12</td>\n",
              "      <td>9</td>\n",
              "      <td>4</td>\n",
              "    </tr>\n",
              "    <tr>\n",
              "      <th>competition_open_since_year</th>\n",
              "      <td>2008</td>\n",
              "      <td>2007</td>\n",
              "      <td>2006</td>\n",
              "      <td>2009</td>\n",
              "      <td>2015</td>\n",
              "    </tr>\n",
              "    <tr>\n",
              "      <th>promo2</th>\n",
              "      <td>0</td>\n",
              "      <td>1</td>\n",
              "      <td>1</td>\n",
              "      <td>0</td>\n",
              "      <td>0</td>\n",
              "    </tr>\n",
              "    <tr>\n",
              "      <th>promo2_since_week</th>\n",
              "      <td>31</td>\n",
              "      <td>13</td>\n",
              "      <td>14</td>\n",
              "      <td>31</td>\n",
              "      <td>31</td>\n",
              "    </tr>\n",
              "    <tr>\n",
              "      <th>promo2_since_year</th>\n",
              "      <td>2015</td>\n",
              "      <td>2010</td>\n",
              "      <td>2011</td>\n",
              "      <td>2015</td>\n",
              "      <td>2015</td>\n",
              "    </tr>\n",
              "    <tr>\n",
              "      <th>promo_interval</th>\n",
              "      <td>0</td>\n",
              "      <td>Jan,Apr,Jul,Oct</td>\n",
              "      <td>Jan,Apr,Jul,Oct</td>\n",
              "      <td>0</td>\n",
              "      <td>0</td>\n",
              "    </tr>\n",
              "    <tr>\n",
              "      <th>month_map</th>\n",
              "      <td>Jul</td>\n",
              "      <td>Jul</td>\n",
              "      <td>Jul</td>\n",
              "      <td>Jul</td>\n",
              "      <td>Jul</td>\n",
              "    </tr>\n",
              "    <tr>\n",
              "      <th>is_promo</th>\n",
              "      <td>0</td>\n",
              "      <td>1</td>\n",
              "      <td>1</td>\n",
              "      <td>0</td>\n",
              "      <td>0</td>\n",
              "    </tr>\n",
              "    <tr>\n",
              "      <th>year</th>\n",
              "      <td>2015</td>\n",
              "      <td>2015</td>\n",
              "      <td>2015</td>\n",
              "      <td>2015</td>\n",
              "      <td>2015</td>\n",
              "    </tr>\n",
              "    <tr>\n",
              "      <th>month</th>\n",
              "      <td>7</td>\n",
              "      <td>7</td>\n",
              "      <td>7</td>\n",
              "      <td>7</td>\n",
              "      <td>7</td>\n",
              "    </tr>\n",
              "    <tr>\n",
              "      <th>day</th>\n",
              "      <td>31</td>\n",
              "      <td>31</td>\n",
              "      <td>31</td>\n",
              "      <td>31</td>\n",
              "      <td>31</td>\n",
              "    </tr>\n",
              "    <tr>\n",
              "      <th>week_of_year</th>\n",
              "      <td>31</td>\n",
              "      <td>31</td>\n",
              "      <td>31</td>\n",
              "      <td>31</td>\n",
              "      <td>31</td>\n",
              "    </tr>\n",
              "    <tr>\n",
              "      <th>year_week</th>\n",
              "      <td>2015-30</td>\n",
              "      <td>2015-30</td>\n",
              "      <td>2015-30</td>\n",
              "      <td>2015-30</td>\n",
              "      <td>2015-30</td>\n",
              "    </tr>\n",
              "    <tr>\n",
              "      <th>competition_since</th>\n",
              "      <td>2008-09-01 00:00:00</td>\n",
              "      <td>2007-11-01 00:00:00</td>\n",
              "      <td>2006-12-01 00:00:00</td>\n",
              "      <td>2009-09-01 00:00:00</td>\n",
              "      <td>2015-04-01 00:00:00</td>\n",
              "    </tr>\n",
              "    <tr>\n",
              "      <th>competition_time_month</th>\n",
              "      <td>84</td>\n",
              "      <td>94</td>\n",
              "      <td>105</td>\n",
              "      <td>71</td>\n",
              "      <td>4</td>\n",
              "    </tr>\n",
              "    <tr>\n",
              "      <th>promo_since</th>\n",
              "      <td>2015-07-27 00:00:00</td>\n",
              "      <td>2010-03-22 00:00:00</td>\n",
              "      <td>2011-03-28 00:00:00</td>\n",
              "      <td>2015-07-27 00:00:00</td>\n",
              "      <td>2015-07-27 00:00:00</td>\n",
              "    </tr>\n",
              "    <tr>\n",
              "      <th>promo_time_week</th>\n",
              "      <td>0</td>\n",
              "      <td>279</td>\n",
              "      <td>226</td>\n",
              "      <td>0</td>\n",
              "      <td>0</td>\n",
              "    </tr>\n",
              "  </tbody>\n",
              "</table>\n",
              "</div>"
            ],
            "text/plain": [
              "                                                0                    1                    2                    3                    4\n",
              "store                                           1                    2                    3                    4                    5\n",
              "day_of_week                                     5                    5                    5                    5                    5\n",
              "date                          2015-07-31 00:00:00  2015-07-31 00:00:00  2015-07-31 00:00:00  2015-07-31 00:00:00  2015-07-31 00:00:00\n",
              "sales                                        5263                 6064                 8314                13995                 4822\n",
              "customers                                     555                  625                  821                 1498                  559\n",
              "open                                            1                    1                    1                    1                    1\n",
              "promo                                           1                    1                    1                    1                    1\n",
              "state_holiday                         regular_day          regular_day          regular_day          regular_day          regular_day\n",
              "school_holiday                                  1                    1                    1                    1                    1\n",
              "store_type                                      c                    a                    a                    c                    a\n",
              "assortment                                  basic                basic                basic             extended                basic\n",
              "competition_distance                         1270                  570                14130                  620                29910\n",
              "competition_open_since_month                    9                   11                   12                    9                    4\n",
              "competition_open_since_year                  2008                 2007                 2006                 2009                 2015\n",
              "promo2                                          0                    1                    1                    0                    0\n",
              "promo2_since_week                              31                   13                   14                   31                   31\n",
              "promo2_since_year                            2015                 2010                 2011                 2015                 2015\n",
              "promo_interval                                  0      Jan,Apr,Jul,Oct      Jan,Apr,Jul,Oct                    0                    0\n",
              "month_map                                     Jul                  Jul                  Jul                  Jul                  Jul\n",
              "is_promo                                        0                    1                    1                    0                    0\n",
              "year                                         2015                 2015                 2015                 2015                 2015\n",
              "month                                           7                    7                    7                    7                    7\n",
              "day                                            31                   31                   31                   31                   31\n",
              "week_of_year                                   31                   31                   31                   31                   31\n",
              "year_week                                 2015-30              2015-30              2015-30              2015-30              2015-30\n",
              "competition_since             2008-09-01 00:00:00  2007-11-01 00:00:00  2006-12-01 00:00:00  2009-09-01 00:00:00  2015-04-01 00:00:00\n",
              "competition_time_month                         84                   94                  105                   71                    4\n",
              "promo_since                   2015-07-27 00:00:00  2010-03-22 00:00:00  2011-03-28 00:00:00  2015-07-27 00:00:00  2015-07-27 00:00:00\n",
              "promo_time_week                                 0                  279                  226                    0                    0"
            ]
          },
          "metadata": {
            "tags": []
          },
          "execution_count": 37
        }
      ]
    },
    {
      "cell_type": "markdown",
      "metadata": {
        "heading_collapsed": true,
        "id": "6uA232fsaTR2"
      },
      "source": [
        "# 3.0 Passo 3 - Filtragem de Variáveis"
      ]
    },
    {
      "cell_type": "code",
      "metadata": {
        "ExecuteTime": {
          "end_time": "2021-03-09T16:29:11.516897Z",
          "start_time": "2021-03-09T16:29:11.092420Z"
        },
        "hidden": true,
        "id": "JW7AYz49aTR2"
      },
      "source": [
        "df3 = df2.copy()"
      ],
      "execution_count": 38,
      "outputs": []
    },
    {
      "cell_type": "code",
      "metadata": {
        "ExecuteTime": {
          "end_time": "2021-03-09T16:29:11.555285Z",
          "start_time": "2021-03-09T16:29:11.519244Z"
        },
        "colab": {
          "base_uri": "https://localhost:8080/",
          "height": 309
        },
        "hidden": true,
        "id": "TVpAyo1daTR2",
        "outputId": "41510dc7-6192-474f-f5fa-910d8e056ddf"
      },
      "source": [
        "df3.head()"
      ],
      "execution_count": 39,
      "outputs": [
        {
          "output_type": "execute_result",
          "data": {
            "text/html": [
              "<div>\n",
              "<style scoped>\n",
              "    .dataframe tbody tr th:only-of-type {\n",
              "        vertical-align: middle;\n",
              "    }\n",
              "\n",
              "    .dataframe tbody tr th {\n",
              "        vertical-align: top;\n",
              "    }\n",
              "\n",
              "    .dataframe thead th {\n",
              "        text-align: right;\n",
              "    }\n",
              "</style>\n",
              "<table border=\"1\" class=\"dataframe\">\n",
              "  <thead>\n",
              "    <tr style=\"text-align: right;\">\n",
              "      <th></th>\n",
              "      <th>store</th>\n",
              "      <th>day_of_week</th>\n",
              "      <th>date</th>\n",
              "      <th>sales</th>\n",
              "      <th>customers</th>\n",
              "      <th>open</th>\n",
              "      <th>promo</th>\n",
              "      <th>state_holiday</th>\n",
              "      <th>school_holiday</th>\n",
              "      <th>store_type</th>\n",
              "      <th>assortment</th>\n",
              "      <th>competition_distance</th>\n",
              "      <th>competition_open_since_month</th>\n",
              "      <th>competition_open_since_year</th>\n",
              "      <th>promo2</th>\n",
              "      <th>promo2_since_week</th>\n",
              "      <th>promo2_since_year</th>\n",
              "      <th>promo_interval</th>\n",
              "      <th>month_map</th>\n",
              "      <th>is_promo</th>\n",
              "      <th>year</th>\n",
              "      <th>month</th>\n",
              "      <th>day</th>\n",
              "      <th>week_of_year</th>\n",
              "      <th>year_week</th>\n",
              "      <th>competition_since</th>\n",
              "      <th>competition_time_month</th>\n",
              "      <th>promo_since</th>\n",
              "      <th>promo_time_week</th>\n",
              "    </tr>\n",
              "  </thead>\n",
              "  <tbody>\n",
              "    <tr>\n",
              "      <th>0</th>\n",
              "      <td>1</td>\n",
              "      <td>5</td>\n",
              "      <td>2015-07-31</td>\n",
              "      <td>5263</td>\n",
              "      <td>555</td>\n",
              "      <td>1</td>\n",
              "      <td>1</td>\n",
              "      <td>regular_day</td>\n",
              "      <td>1</td>\n",
              "      <td>c</td>\n",
              "      <td>basic</td>\n",
              "      <td>1270.0</td>\n",
              "      <td>9</td>\n",
              "      <td>2008</td>\n",
              "      <td>0</td>\n",
              "      <td>31</td>\n",
              "      <td>2015</td>\n",
              "      <td>0</td>\n",
              "      <td>Jul</td>\n",
              "      <td>0</td>\n",
              "      <td>2015</td>\n",
              "      <td>7</td>\n",
              "      <td>31</td>\n",
              "      <td>31</td>\n",
              "      <td>2015-30</td>\n",
              "      <td>2008-09-01</td>\n",
              "      <td>84</td>\n",
              "      <td>2015-07-27</td>\n",
              "      <td>0</td>\n",
              "    </tr>\n",
              "    <tr>\n",
              "      <th>1</th>\n",
              "      <td>2</td>\n",
              "      <td>5</td>\n",
              "      <td>2015-07-31</td>\n",
              "      <td>6064</td>\n",
              "      <td>625</td>\n",
              "      <td>1</td>\n",
              "      <td>1</td>\n",
              "      <td>regular_day</td>\n",
              "      <td>1</td>\n",
              "      <td>a</td>\n",
              "      <td>basic</td>\n",
              "      <td>570.0</td>\n",
              "      <td>11</td>\n",
              "      <td>2007</td>\n",
              "      <td>1</td>\n",
              "      <td>13</td>\n",
              "      <td>2010</td>\n",
              "      <td>Jan,Apr,Jul,Oct</td>\n",
              "      <td>Jul</td>\n",
              "      <td>1</td>\n",
              "      <td>2015</td>\n",
              "      <td>7</td>\n",
              "      <td>31</td>\n",
              "      <td>31</td>\n",
              "      <td>2015-30</td>\n",
              "      <td>2007-11-01</td>\n",
              "      <td>94</td>\n",
              "      <td>2010-03-22</td>\n",
              "      <td>279</td>\n",
              "    </tr>\n",
              "    <tr>\n",
              "      <th>2</th>\n",
              "      <td>3</td>\n",
              "      <td>5</td>\n",
              "      <td>2015-07-31</td>\n",
              "      <td>8314</td>\n",
              "      <td>821</td>\n",
              "      <td>1</td>\n",
              "      <td>1</td>\n",
              "      <td>regular_day</td>\n",
              "      <td>1</td>\n",
              "      <td>a</td>\n",
              "      <td>basic</td>\n",
              "      <td>14130.0</td>\n",
              "      <td>12</td>\n",
              "      <td>2006</td>\n",
              "      <td>1</td>\n",
              "      <td>14</td>\n",
              "      <td>2011</td>\n",
              "      <td>Jan,Apr,Jul,Oct</td>\n",
              "      <td>Jul</td>\n",
              "      <td>1</td>\n",
              "      <td>2015</td>\n",
              "      <td>7</td>\n",
              "      <td>31</td>\n",
              "      <td>31</td>\n",
              "      <td>2015-30</td>\n",
              "      <td>2006-12-01</td>\n",
              "      <td>105</td>\n",
              "      <td>2011-03-28</td>\n",
              "      <td>226</td>\n",
              "    </tr>\n",
              "    <tr>\n",
              "      <th>3</th>\n",
              "      <td>4</td>\n",
              "      <td>5</td>\n",
              "      <td>2015-07-31</td>\n",
              "      <td>13995</td>\n",
              "      <td>1498</td>\n",
              "      <td>1</td>\n",
              "      <td>1</td>\n",
              "      <td>regular_day</td>\n",
              "      <td>1</td>\n",
              "      <td>c</td>\n",
              "      <td>extended</td>\n",
              "      <td>620.0</td>\n",
              "      <td>9</td>\n",
              "      <td>2009</td>\n",
              "      <td>0</td>\n",
              "      <td>31</td>\n",
              "      <td>2015</td>\n",
              "      <td>0</td>\n",
              "      <td>Jul</td>\n",
              "      <td>0</td>\n",
              "      <td>2015</td>\n",
              "      <td>7</td>\n",
              "      <td>31</td>\n",
              "      <td>31</td>\n",
              "      <td>2015-30</td>\n",
              "      <td>2009-09-01</td>\n",
              "      <td>71</td>\n",
              "      <td>2015-07-27</td>\n",
              "      <td>0</td>\n",
              "    </tr>\n",
              "    <tr>\n",
              "      <th>4</th>\n",
              "      <td>5</td>\n",
              "      <td>5</td>\n",
              "      <td>2015-07-31</td>\n",
              "      <td>4822</td>\n",
              "      <td>559</td>\n",
              "      <td>1</td>\n",
              "      <td>1</td>\n",
              "      <td>regular_day</td>\n",
              "      <td>1</td>\n",
              "      <td>a</td>\n",
              "      <td>basic</td>\n",
              "      <td>29910.0</td>\n",
              "      <td>4</td>\n",
              "      <td>2015</td>\n",
              "      <td>0</td>\n",
              "      <td>31</td>\n",
              "      <td>2015</td>\n",
              "      <td>0</td>\n",
              "      <td>Jul</td>\n",
              "      <td>0</td>\n",
              "      <td>2015</td>\n",
              "      <td>7</td>\n",
              "      <td>31</td>\n",
              "      <td>31</td>\n",
              "      <td>2015-30</td>\n",
              "      <td>2015-04-01</td>\n",
              "      <td>4</td>\n",
              "      <td>2015-07-27</td>\n",
              "      <td>0</td>\n",
              "    </tr>\n",
              "  </tbody>\n",
              "</table>\n",
              "</div>"
            ],
            "text/plain": [
              "   store  day_of_week       date  sales  customers  open  promo state_holiday  school_holiday store_type assortment  competition_distance  competition_open_since_month  competition_open_since_year  promo2  promo2_since_week  promo2_since_year   promo_interval month_map  is_promo  year  month  day  week_of_year year_week competition_since  competition_time_month promo_since  promo_time_week\n",
              "0      1            5 2015-07-31   5263        555     1      1   regular_day               1          c      basic                1270.0                             9                         2008       0                 31               2015                0       Jul         0  2015      7   31            31   2015-30        2008-09-01                      84  2015-07-27                0\n",
              "1      2            5 2015-07-31   6064        625     1      1   regular_day               1          a      basic                 570.0                            11                         2007       1                 13               2010  Jan,Apr,Jul,Oct       Jul         1  2015      7   31            31   2015-30        2007-11-01                      94  2010-03-22              279\n",
              "2      3            5 2015-07-31   8314        821     1      1   regular_day               1          a      basic               14130.0                            12                         2006       1                 14               2011  Jan,Apr,Jul,Oct       Jul         1  2015      7   31            31   2015-30        2006-12-01                     105  2011-03-28              226\n",
              "3      4            5 2015-07-31  13995       1498     1      1   regular_day               1          c   extended                 620.0                             9                         2009       0                 31               2015                0       Jul         0  2015      7   31            31   2015-30        2009-09-01                      71  2015-07-27                0\n",
              "4      5            5 2015-07-31   4822        559     1      1   regular_day               1          a      basic               29910.0                             4                         2015       0                 31               2015                0       Jul         0  2015      7   31            31   2015-30        2015-04-01                       4  2015-07-27                0"
            ]
          },
          "metadata": {
            "tags": []
          },
          "execution_count": 39
        }
      ]
    },
    {
      "cell_type": "markdown",
      "metadata": {
        "hidden": true,
        "id": "03GIUfaYaTR3"
      },
      "source": [
        "## 3.1 Filtragem das Linhas"
      ]
    },
    {
      "cell_type": "code",
      "metadata": {
        "ExecuteTime": {
          "end_time": "2021-03-09T16:29:11.814529Z",
          "start_time": "2021-03-09T16:29:11.558102Z"
        },
        "hidden": true,
        "id": "VQQ9Djx-aTR4"
      },
      "source": [
        "# open -> 1=aberta e 0= fechada... não tem aprendizado nisso, logo, quero só as linhas que open == 1\n",
        "#\"open\" != 0\n",
        "# sales -> mesma ideia de cima\n",
        "#\"sales\" > 0\n",
        "\n",
        "df3 = df3[(df3['open'] != 0) & (df3['sales'] > 0)]"
      ],
      "execution_count": 40,
      "outputs": []
    },
    {
      "cell_type": "markdown",
      "metadata": {
        "hidden": true,
        "id": "MQMOG3nraTR4"
      },
      "source": [
        "## 3.2 Selecao das Colunas"
      ]
    },
    {
      "cell_type": "code",
      "metadata": {
        "ExecuteTime": {
          "end_time": "2021-03-09T16:29:11.988785Z",
          "start_time": "2021-03-09T16:29:11.816992Z"
        },
        "hidden": true,
        "id": "cYlnE4-jaTR5"
      },
      "source": [
        "# Customers, eu não tenho ele daqui a 6 semanas (restrição de negócios- nao tenho no momento da predição)\n",
        "'customers'\n",
        "# Open após a filtragem também não tem valor.\n",
        "\n",
        "cols_drop = ['customers','open','promo_interval','month_map']\n",
        "df3 = df3.drop( cols_drop, axis=1 )"
      ],
      "execution_count": 41,
      "outputs": []
    },
    {
      "cell_type": "markdown",
      "metadata": {
        "heading_collapsed": true,
        "id": "eSGsXM9NaTR5"
      },
      "source": [
        "# 4.0 Passo 4 - Análise Exploratória de Dados (EDA - Exploration Data Analysis)\n",
        "\n",
        "**objetivo da EDA**\n",
        "\n",
        "- Ganhar experiência de Negócio\n",
        "- Validar Hipóteses de Negócio (**insights** novos)\n",
        "- Selecionar Variáveis importantes para o Modelo (fazer uma seleção preliminar para comparar com a análise futura usando algorítimos de escolha de variáveis)\n",
        "\n",
        "**Insights** é tudo que você choca a crença de alguém, por exemplo, a pessoa acredita em uma hipótese, e você através dos dados mostra totalmente o inverso... isso é um Insight... Vale ressaltar que você não gera um Insight quando as pessoas já sabem de algo ( exemplo: lojas antigas vendem menos ao longo do ano... as pessoas que trabalham na empresa já sabem disso, logo, mesmo você comprovando isso com dados, você não gerou um insight)"
      ]
    },
    {
      "cell_type": "code",
      "metadata": {
        "ExecuteTime": {
          "end_time": "2021-03-09T16:29:12.205301Z",
          "start_time": "2021-03-09T16:29:11.991087Z"
        },
        "hidden": true,
        "id": "4025EyYRaTR8"
      },
      "source": [
        "df4 = df3.copy()"
      ],
      "execution_count": 42,
      "outputs": []
    },
    {
      "cell_type": "code",
      "metadata": {
        "ExecuteTime": {
          "end_time": "2021-03-09T16:29:12.255788Z",
          "start_time": "2021-03-09T16:29:12.207560Z"
        },
        "colab": {
          "base_uri": "https://localhost:8080/",
          "height": 213
        },
        "hidden": true,
        "id": "-CRTJy53aTR9",
        "outputId": "995e08fd-f4ea-49bf-fa5c-0807cdcd8a00"
      },
      "source": [
        "df4.head(3)"
      ],
      "execution_count": 43,
      "outputs": [
        {
          "output_type": "execute_result",
          "data": {
            "text/html": [
              "<div>\n",
              "<style scoped>\n",
              "    .dataframe tbody tr th:only-of-type {\n",
              "        vertical-align: middle;\n",
              "    }\n",
              "\n",
              "    .dataframe tbody tr th {\n",
              "        vertical-align: top;\n",
              "    }\n",
              "\n",
              "    .dataframe thead th {\n",
              "        text-align: right;\n",
              "    }\n",
              "</style>\n",
              "<table border=\"1\" class=\"dataframe\">\n",
              "  <thead>\n",
              "    <tr style=\"text-align: right;\">\n",
              "      <th></th>\n",
              "      <th>store</th>\n",
              "      <th>day_of_week</th>\n",
              "      <th>date</th>\n",
              "      <th>sales</th>\n",
              "      <th>promo</th>\n",
              "      <th>state_holiday</th>\n",
              "      <th>school_holiday</th>\n",
              "      <th>store_type</th>\n",
              "      <th>assortment</th>\n",
              "      <th>competition_distance</th>\n",
              "      <th>competition_open_since_month</th>\n",
              "      <th>competition_open_since_year</th>\n",
              "      <th>promo2</th>\n",
              "      <th>promo2_since_week</th>\n",
              "      <th>promo2_since_year</th>\n",
              "      <th>is_promo</th>\n",
              "      <th>year</th>\n",
              "      <th>month</th>\n",
              "      <th>day</th>\n",
              "      <th>week_of_year</th>\n",
              "      <th>year_week</th>\n",
              "      <th>competition_since</th>\n",
              "      <th>competition_time_month</th>\n",
              "      <th>promo_since</th>\n",
              "      <th>promo_time_week</th>\n",
              "    </tr>\n",
              "  </thead>\n",
              "  <tbody>\n",
              "    <tr>\n",
              "      <th>0</th>\n",
              "      <td>1</td>\n",
              "      <td>5</td>\n",
              "      <td>2015-07-31</td>\n",
              "      <td>5263</td>\n",
              "      <td>1</td>\n",
              "      <td>regular_day</td>\n",
              "      <td>1</td>\n",
              "      <td>c</td>\n",
              "      <td>basic</td>\n",
              "      <td>1270.0</td>\n",
              "      <td>9</td>\n",
              "      <td>2008</td>\n",
              "      <td>0</td>\n",
              "      <td>31</td>\n",
              "      <td>2015</td>\n",
              "      <td>0</td>\n",
              "      <td>2015</td>\n",
              "      <td>7</td>\n",
              "      <td>31</td>\n",
              "      <td>31</td>\n",
              "      <td>2015-30</td>\n",
              "      <td>2008-09-01</td>\n",
              "      <td>84</td>\n",
              "      <td>2015-07-27</td>\n",
              "      <td>0</td>\n",
              "    </tr>\n",
              "    <tr>\n",
              "      <th>1</th>\n",
              "      <td>2</td>\n",
              "      <td>5</td>\n",
              "      <td>2015-07-31</td>\n",
              "      <td>6064</td>\n",
              "      <td>1</td>\n",
              "      <td>regular_day</td>\n",
              "      <td>1</td>\n",
              "      <td>a</td>\n",
              "      <td>basic</td>\n",
              "      <td>570.0</td>\n",
              "      <td>11</td>\n",
              "      <td>2007</td>\n",
              "      <td>1</td>\n",
              "      <td>13</td>\n",
              "      <td>2010</td>\n",
              "      <td>1</td>\n",
              "      <td>2015</td>\n",
              "      <td>7</td>\n",
              "      <td>31</td>\n",
              "      <td>31</td>\n",
              "      <td>2015-30</td>\n",
              "      <td>2007-11-01</td>\n",
              "      <td>94</td>\n",
              "      <td>2010-03-22</td>\n",
              "      <td>279</td>\n",
              "    </tr>\n",
              "    <tr>\n",
              "      <th>2</th>\n",
              "      <td>3</td>\n",
              "      <td>5</td>\n",
              "      <td>2015-07-31</td>\n",
              "      <td>8314</td>\n",
              "      <td>1</td>\n",
              "      <td>regular_day</td>\n",
              "      <td>1</td>\n",
              "      <td>a</td>\n",
              "      <td>basic</td>\n",
              "      <td>14130.0</td>\n",
              "      <td>12</td>\n",
              "      <td>2006</td>\n",
              "      <td>1</td>\n",
              "      <td>14</td>\n",
              "      <td>2011</td>\n",
              "      <td>1</td>\n",
              "      <td>2015</td>\n",
              "      <td>7</td>\n",
              "      <td>31</td>\n",
              "      <td>31</td>\n",
              "      <td>2015-30</td>\n",
              "      <td>2006-12-01</td>\n",
              "      <td>105</td>\n",
              "      <td>2011-03-28</td>\n",
              "      <td>226</td>\n",
              "    </tr>\n",
              "  </tbody>\n",
              "</table>\n",
              "</div>"
            ],
            "text/plain": [
              "   store  day_of_week       date  sales  promo state_holiday  school_holiday store_type assortment  competition_distance  competition_open_since_month  competition_open_since_year  promo2  promo2_since_week  promo2_since_year  is_promo  year  month  day  week_of_year year_week competition_since  competition_time_month promo_since  promo_time_week\n",
              "0      1            5 2015-07-31   5263      1   regular_day               1          c      basic                1270.0                             9                         2008       0                 31               2015         0  2015      7   31            31   2015-30        2008-09-01                      84  2015-07-27                0\n",
              "1      2            5 2015-07-31   6064      1   regular_day               1          a      basic                 570.0                            11                         2007       1                 13               2010         1  2015      7   31            31   2015-30        2007-11-01                      94  2010-03-22              279\n",
              "2      3            5 2015-07-31   8314      1   regular_day               1          a      basic               14130.0                            12                         2006       1                 14               2011         1  2015      7   31            31   2015-30        2006-12-01                     105  2011-03-28              226"
            ]
          },
          "metadata": {
            "tags": []
          },
          "execution_count": 43
        }
      ]
    },
    {
      "cell_type": "markdown",
      "metadata": {
        "heading_collapsed": true,
        "hidden": true,
        "id": "4xnTkUBwaTR9"
      },
      "source": [
        "## 4.1 Análise Univariada\n",
        "\n",
        "Analisa-se apenas uma variável (agente)"
      ]
    },
    {
      "cell_type": "markdown",
      "metadata": {
        "heading_collapsed": true,
        "hidden": true,
        "id": "QX1biOdkaTR-"
      },
      "source": [
        "### 4.1.1 Response Variable"
      ]
    },
    {
      "cell_type": "code",
      "metadata": {
        "ExecuteTime": {
          "end_time": "2021-03-09T16:29:15.774652Z",
          "start_time": "2021-03-09T16:29:12.257812Z"
        },
        "colab": {
          "base_uri": "https://localhost:8080/",
          "height": 0
        },
        "hidden": true,
        "id": "zxWvLlPoaTR-",
        "outputId": "3b9974f8-653d-4fc9-d6bc-017a210b4e92"
      },
      "source": [
        "sns.distplot(df4['sales']) # Sales = RESPOSTA = FENÔMENO = Objetivo que queremos modelar"
      ],
      "execution_count": 44,
      "outputs": [
        {
          "output_type": "stream",
          "text": [
            "/usr/local/lib/python3.7/dist-packages/seaborn/distributions.py:2557: FutureWarning: `distplot` is a deprecated function and will be removed in a future version. Please adapt your code to use either `displot` (a figure-level function with similar flexibility) or `histplot` (an axes-level function for histograms).\n",
            "  warnings.warn(msg, FutureWarning)\n"
          ],
          "name": "stderr"
        },
        {
          "output_type": "execute_result",
          "data": {
            "text/plain": [
              "<matplotlib.axes._subplots.AxesSubplot at 0x7f4d770a8a10>"
            ]
          },
          "metadata": {
            "tags": []
          },
          "execution_count": 44
        },
        {
          "output_type": "display_data",
          "data": {
            "image/png": "[encoded data removed]",
            "text/plain": [
              "<Figure size 1296x720 with 1 Axes>"
            ]
          },
          "metadata": {
            "tags": []
          }
        }
      ]
    },
    {
      "cell_type": "markdown",
      "metadata": {
        "hidden": true,
        "id": "9Mm7YMtFaTR-"
      },
      "source": [
        "Veja que a distribuição acima está bem próxima de uma distribuição normal (gaussiana). Por que se importar com isso? Porque os algoritimos de ML eles são criados em algumas premissas... por exemplo, que os dados sejam INDEPENDENTES e normalmente distribuidos (gauss). Quanto mais próximo de uma normal for sua RESPOSTA/SAÍDA/FENÔMENO, melhor seu modelo irá performar. Para isso você pode fazer algumas transformações"
      ]
    },
    {
      "cell_type": "code",
      "metadata": {
        "ExecuteTime": {
          "end_time": "2021-03-09T16:29:19.203843Z",
          "start_time": "2021-03-09T16:29:15.777889Z"
        },
        "colab": {
          "base_uri": "https://localhost:8080/",
          "height": 0
        },
        "hidden": true,
        "id": "qvssD2cXaTR_",
        "scrolled": false,
        "outputId": "bd439dfb-df15-4074-bc2c-7020610e1905"
      },
      "source": [
        "# np.log1p - multiplica todos os valores de vendas por um log\n",
        "sns.distplot(np.log1p(df4['sales']))"
      ],
      "execution_count": 45,
      "outputs": [
        {
          "output_type": "stream",
          "text": [
            "/usr/local/lib/python3.7/dist-packages/seaborn/distributions.py:2557: FutureWarning: `distplot` is a deprecated function and will be removed in a future version. Please adapt your code to use either `displot` (a figure-level function with similar flexibility) or `histplot` (an axes-level function for histograms).\n",
            "  warnings.warn(msg, FutureWarning)\n"
          ],
          "name": "stderr"
        },
        {
          "output_type": "execute_result",
          "data": {
            "text/plain": [
              "<matplotlib.axes._subplots.AxesSubplot at 0x7f4d6cb707d0>"
            ]
          },
          "metadata": {
            "tags": []
          },
          "execution_count": 45
        },
        {
          "output_type": "display_data",
          "data": {
            "image/png": "[encoded data removed]",
            "text/plain": [
              "<Figure size 1296x720 with 1 Axes>"
            ]
          },
          "metadata": {
            "tags": []
          }
        }
      ]
    },
    {
      "cell_type": "code",
      "metadata": {
        "ExecuteTime": {
          "end_time": "2021-03-09T16:29:19.889456Z",
          "start_time": "2021-03-09T16:29:19.207228Z"
        },
        "colab": {
          "base_uri": "https://localhost:8080/",
          "height": 0
        },
        "hidden": true,
        "id": "pwXJkhzfaTR_",
        "outputId": "999917b3-dc36-465e-c78c-48ce6b88b3a1"
      },
      "source": [
        "sns.distplot( df4['sales'], kde = False ) # Sales = RESPOSTA = FENÔMENO = Objetivo que queremos modelar\n",
        "\n",
        "# Aqui conseguimos ver os eixos y com os números reais"
      ],
      "execution_count": 46,
      "outputs": [
        {
          "output_type": "stream",
          "text": [
            "/usr/local/lib/python3.7/dist-packages/seaborn/distributions.py:2557: FutureWarning: `distplot` is a deprecated function and will be removed in a future version. Please adapt your code to use either `displot` (a figure-level function with similar flexibility) or `histplot` (an axes-level function for histograms).\n",
            "  warnings.warn(msg, FutureWarning)\n"
          ],
          "name": "stderr"
        },
        {
          "output_type": "execute_result",
          "data": {
            "text/plain": [
              "<matplotlib.axes._subplots.AxesSubplot at 0x7f4d777370d0>"
            ]
          },
          "metadata": {
            "tags": []
          },
          "execution_count": 46
        },
        {
          "output_type": "display_data",
          "data": {
            "image/png": "[encoded data removed]",
            "text/plain": [
              "<Figure size 1296x720 with 1 Axes>"
            ]
          },
          "metadata": {
            "tags": []
          }
        }
      ]
    },
    {
      "cell_type": "markdown",
      "metadata": {
        "heading_collapsed": true,
        "hidden": true,
        "id": "RUTNSV5uaTR_"
      },
      "source": [
        "### 4.1.2 Numerical Variable"
      ]
    },
    {
      "cell_type": "code",
      "metadata": {
        "ExecuteTime": {
          "end_time": "2021-03-09T16:29:23.393302Z",
          "start_time": "2021-03-09T16:29:19.892256Z"
        },
        "colab": {
          "base_uri": "https://localhost:8080/",
          "height": 0
        },
        "hidden": true,
        "id": "ARpOa6pcaTR_",
        "outputId": "51c0ea85-ad3f-4e69-f051-5e7746fb3369"
      },
      "source": [
        "num_attributes.hist(bins = 25); #  bins = São as divisões de intervalos"
      ],
      "execution_count": 47,
      "outputs": [
        {
          "output_type": "stream",
          "text": [
            "Error in callback <function install_repl_displayhook.<locals>.post_execute at 0x7f4d91020950> (for post_execute):\n"
          ],
          "name": "stdout"
        },
        {
          "output_type": "error",
          "ename": "KeyboardInterrupt",
          "evalue": "ignored",
          "traceback": [
            "\u001b[0;31m---------------------------------------------------------------------------\u001b[0m",
            "\u001b[0;31mKeyboardInterrupt\u001b[0m                         Traceback (most recent call last)",
            "\u001b[0;32m/usr/local/lib/python3.7/dist-packages/matplotlib/pyplot.py\u001b[0m in \u001b[0;36mpost_execute\u001b[0;34m()\u001b[0m\n\u001b[1;32m    107\u001b[0m             \u001b[0;32mdef\u001b[0m \u001b[0mpost_execute\u001b[0m\u001b[0;34m(\u001b[0m\u001b[0;34m)\u001b[0m\u001b[0;34m:\u001b[0m\u001b[0;34m\u001b[0m\u001b[0;34m\u001b[0m\u001b[0m\n\u001b[1;32m    108\u001b[0m                 \u001b[0;32mif\u001b[0m \u001b[0mmatplotlib\u001b[0m\u001b[0;34m.\u001b[0m\u001b[0mis_interactive\u001b[0m\u001b[0;34m(\u001b[0m\u001b[0;34m)\u001b[0m\u001b[0;34m:\u001b[0m\u001b[0;34m\u001b[0m\u001b[0;34m\u001b[0m\u001b[0m\n\u001b[0;32m--> 109\u001b[0;31m                     \u001b[0mdraw_all\u001b[0m\u001b[0;34m(\u001b[0m\u001b[0;34m)\u001b[0m\u001b[0;34m\u001b[0m\u001b[0;34m\u001b[0m\u001b[0m\n\u001b[0m\u001b[1;32m    110\u001b[0m \u001b[0;34m\u001b[0m\u001b[0m\n\u001b[1;32m    111\u001b[0m             \u001b[0;31m# IPython >= 2\u001b[0m\u001b[0;34m\u001b[0m\u001b[0;34m\u001b[0m\u001b[0;34m\u001b[0m\u001b[0m\n",
            "\u001b[0;32m/usr/local/lib/python3.7/dist-packages/matplotlib/_pylab_helpers.py\u001b[0m in \u001b[0;36mdraw_all\u001b[0;34m(cls, force)\u001b[0m\n\u001b[1;32m    125\u001b[0m         \u001b[0;32mfor\u001b[0m \u001b[0mf_mgr\u001b[0m \u001b[0;32min\u001b[0m \u001b[0mcls\u001b[0m\u001b[0;34m.\u001b[0m\u001b[0mget_all_fig_managers\u001b[0m\u001b[0;34m(\u001b[0m\u001b[0;34m)\u001b[0m\u001b[0;34m:\u001b[0m\u001b[0;34m\u001b[0m\u001b[0;34m\u001b[0m\u001b[0m\n\u001b[1;32m    126\u001b[0m             \u001b[0;32mif\u001b[0m \u001b[0mforce\u001b[0m \u001b[0;32mor\u001b[0m \u001b[0mf_mgr\u001b[0m\u001b[0;34m.\u001b[0m\u001b[0mcanvas\u001b[0m\u001b[0;34m.\u001b[0m\u001b[0mfigure\u001b[0m\u001b[0;34m.\u001b[0m\u001b[0mstale\u001b[0m\u001b[0;34m:\u001b[0m\u001b[0;34m\u001b[0m\u001b[0;34m\u001b[0m\u001b[0m\n\u001b[0;32m--> 127\u001b[0;31m                 \u001b[0mf_mgr\u001b[0m\u001b[0;34m.\u001b[0m\u001b[0mcanvas\u001b[0m\u001b[0;34m.\u001b[0m\u001b[0mdraw_idle\u001b[0m\u001b[0;34m(\u001b[0m\u001b[0;34m)\u001b[0m\u001b[0;34m\u001b[0m\u001b[0;34m\u001b[0m\u001b[0m\n\u001b[0m\u001b[1;32m    128\u001b[0m \u001b[0;34m\u001b[0m\u001b[0m\n\u001b[1;32m    129\u001b[0m \u001b[0matexit\u001b[0m\u001b[0;34m.\u001b[0m\u001b[0mregister\u001b[0m\u001b[0;34m(\u001b[0m\u001b[0mGcf\u001b[0m\u001b[0;34m.\u001b[0m\u001b[0mdestroy_all\u001b[0m\u001b[0;34m)\u001b[0m\u001b[0;34m\u001b[0m\u001b[0;34m\u001b[0m\u001b[0m\n",
            "\u001b[0;32m/usr/local/lib/python3.7/dist-packages/matplotlib/backend_bases.py\u001b[0m in \u001b[0;36mdraw_idle\u001b[0;34m(self, *args, **kwargs)\u001b[0m\n\u001b[1;32m   1945\u001b[0m         \u001b[0;32mif\u001b[0m \u001b[0;32mnot\u001b[0m \u001b[0mself\u001b[0m\u001b[0;34m.\u001b[0m\u001b[0m_is_idle_drawing\u001b[0m\u001b[0;34m:\u001b[0m\u001b[0;34m\u001b[0m\u001b[0;34m\u001b[0m\u001b[0m\n\u001b[1;32m   1946\u001b[0m             \u001b[0;32mwith\u001b[0m \u001b[0mself\u001b[0m\u001b[0;34m.\u001b[0m\u001b[0m_idle_draw_cntx\u001b[0m\u001b[0;34m(\u001b[0m\u001b[0;34m)\u001b[0m\u001b[0;34m:\u001b[0m\u001b[0;34m\u001b[0m\u001b[0;34m\u001b[0m\u001b[0m\n\u001b[0;32m-> 1947\u001b[0;31m                 \u001b[0mself\u001b[0m\u001b[0;34m.\u001b[0m\u001b[0mdraw\u001b[0m\u001b[0;34m(\u001b[0m\u001b[0;34m*\u001b[0m\u001b[0margs\u001b[0m\u001b[0;34m,\u001b[0m \u001b[0;34m**\u001b[0m\u001b[0mkwargs\u001b[0m\u001b[0;34m)\u001b[0m\u001b[0;34m\u001b[0m\u001b[0;34m\u001b[0m\u001b[0m\n\u001b[0m\u001b[1;32m   1948\u001b[0m \u001b[0;34m\u001b[0m\u001b[0m\n\u001b[1;32m   1949\u001b[0m     \u001b[0;34m@\u001b[0m\u001b[0mcbook\u001b[0m\u001b[0;34m.\u001b[0m\u001b[0mdeprecated\u001b[0m\u001b[0;34m(\u001b[0m\u001b[0;34m\"3.2\"\u001b[0m\u001b[0;34m)\u001b[0m\u001b[0;34m\u001b[0m\u001b[0;34m\u001b[0m\u001b[0m\n",
            "\u001b[0;32m/usr/local/lib/python3.7/dist-packages/matplotlib/backends/backend_agg.py\u001b[0m in \u001b[0;36mdraw\u001b[0;34m(self)\u001b[0m\n\u001b[1;32m    391\u001b[0m              (self.toolbar._wait_cursor_for_draw_cm() if self.toolbar\n\u001b[1;32m    392\u001b[0m               else nullcontext()):\n\u001b[0;32m--> 393\u001b[0;31m             \u001b[0mself\u001b[0m\u001b[0;34m.\u001b[0m\u001b[0mfigure\u001b[0m\u001b[0;34m.\u001b[0m\u001b[0mdraw\u001b[0m\u001b[0;34m(\u001b[0m\u001b[0mself\u001b[0m\u001b[0;34m.\u001b[0m\u001b[0mrenderer\u001b[0m\u001b[0;34m)\u001b[0m\u001b[0;34m\u001b[0m\u001b[0;34m\u001b[0m\u001b[0m\n\u001b[0m\u001b[1;32m    394\u001b[0m             \u001b[0;31m# A GUI class may be need to update a window using this draw, so\u001b[0m\u001b[0;34m\u001b[0m\u001b[0;34m\u001b[0m\u001b[0;34m\u001b[0m\u001b[0m\n\u001b[1;32m    395\u001b[0m             \u001b[0;31m# don't forget to call the superclass.\u001b[0m\u001b[0;34m\u001b[0m\u001b[0;34m\u001b[0m\u001b[0;34m\u001b[0m\u001b[0m\n",
            "\u001b[0;32m/usr/local/lib/python3.7/dist-packages/matplotlib/artist.py\u001b[0m in \u001b[0;36mdraw_wrapper\u001b[0;34m(artist, renderer, *args, **kwargs)\u001b[0m\n\u001b[1;32m     36\u001b[0m                 \u001b[0mrenderer\u001b[0m\u001b[0;34m.\u001b[0m\u001b[0mstart_filter\u001b[0m\u001b[0;34m(\u001b[0m\u001b[0;34m)\u001b[0m\u001b[0;34m\u001b[0m\u001b[0;34m\u001b[0m\u001b[0m\n\u001b[1;32m     37\u001b[0m \u001b[0;34m\u001b[0m\u001b[0m\n\u001b[0;32m---> 38\u001b[0;31m             \u001b[0;32mreturn\u001b[0m \u001b[0mdraw\u001b[0m\u001b[0;34m(\u001b[0m\u001b[0martist\u001b[0m\u001b[0;34m,\u001b[0m \u001b[0mrenderer\u001b[0m\u001b[0;34m,\u001b[0m \u001b[0;34m*\u001b[0m\u001b[0margs\u001b[0m\u001b[0;34m,\u001b[0m \u001b[0;34m**\u001b[0m\u001b[0mkwargs\u001b[0m\u001b[0;34m)\u001b[0m\u001b[0;34m\u001b[0m\u001b[0;34m\u001b[0m\u001b[0m\n\u001b[0m\u001b[1;32m     39\u001b[0m         \u001b[0;32mfinally\u001b[0m\u001b[0;34m:\u001b[0m\u001b[0;34m\u001b[0m\u001b[0;34m\u001b[0m\u001b[0m\n\u001b[1;32m     40\u001b[0m             \u001b[0;32mif\u001b[0m \u001b[0martist\u001b[0m\u001b[0;34m.\u001b[0m\u001b[0mget_agg_filter\u001b[0m\u001b[0;34m(\u001b[0m\u001b[0;34m)\u001b[0m \u001b[0;32mis\u001b[0m \u001b[0;32mnot\u001b[0m \u001b[0;32mNone\u001b[0m\u001b[0;34m:\u001b[0m\u001b[0;34m\u001b[0m\u001b[0;34m\u001b[0m\u001b[0m\n",
            "\u001b[0;32m/usr/local/lib/python3.7/dist-packages/matplotlib/figure.py\u001b[0m in \u001b[0;36mdraw\u001b[0;34m(self, renderer)\u001b[0m\n\u001b[1;32m   1734\u001b[0m             \u001b[0mself\u001b[0m\u001b[0;34m.\u001b[0m\u001b[0mpatch\u001b[0m\u001b[0;34m.\u001b[0m\u001b[0mdraw\u001b[0m\u001b[0;34m(\u001b[0m\u001b[0mrenderer\u001b[0m\u001b[0;34m)\u001b[0m\u001b[0;34m\u001b[0m\u001b[0;34m\u001b[0m\u001b[0m\n\u001b[1;32m   1735\u001b[0m             mimage._draw_list_compositing_images(\n\u001b[0;32m-> 1736\u001b[0;31m                 renderer, self, artists, self.suppressComposite)\n\u001b[0m\u001b[1;32m   1737\u001b[0m \u001b[0;34m\u001b[0m\u001b[0m\n\u001b[1;32m   1738\u001b[0m             \u001b[0mrenderer\u001b[0m\u001b[0;34m.\u001b[0m\u001b[0mclose_group\u001b[0m\u001b[0;34m(\u001b[0m\u001b[0;34m'figure'\u001b[0m\u001b[0;34m)\u001b[0m\u001b[0;34m\u001b[0m\u001b[0;34m\u001b[0m\u001b[0m\n",
            "\u001b[0;32m/usr/local/lib/python3.7/dist-packages/matplotlib/image.py\u001b[0m in \u001b[0;36m_draw_list_compositing_images\u001b[0;34m(renderer, parent, artists, suppress_composite)\u001b[0m\n\u001b[1;32m    135\u001b[0m     \u001b[0;32mif\u001b[0m \u001b[0mnot_composite\u001b[0m \u001b[0;32mor\u001b[0m \u001b[0;32mnot\u001b[0m \u001b[0mhas_images\u001b[0m\u001b[0;34m:\u001b[0m\u001b[0;34m\u001b[0m\u001b[0;34m\u001b[0m\u001b[0m\n\u001b[1;32m    136\u001b[0m         \u001b[0;32mfor\u001b[0m \u001b[0ma\u001b[0m \u001b[0;32min\u001b[0m \u001b[0martists\u001b[0m\u001b[0;34m:\u001b[0m\u001b[0;34m\u001b[0m\u001b[0;34m\u001b[0m\u001b[0m\n\u001b[0;32m--> 137\u001b[0;31m             \u001b[0ma\u001b[0m\u001b[0;34m.\u001b[0m\u001b[0mdraw\u001b[0m\u001b[0;34m(\u001b[0m\u001b[0mrenderer\u001b[0m\u001b[0;34m)\u001b[0m\u001b[0;34m\u001b[0m\u001b[0;34m\u001b[0m\u001b[0m\n\u001b[0m\u001b[1;32m    138\u001b[0m     \u001b[0;32melse\u001b[0m\u001b[0;34m:\u001b[0m\u001b[0;34m\u001b[0m\u001b[0;34m\u001b[0m\u001b[0m\n\u001b[1;32m    139\u001b[0m         \u001b[0;31m# Composite any adjacent images together\u001b[0m\u001b[0;34m\u001b[0m\u001b[0;34m\u001b[0m\u001b[0;34m\u001b[0m\u001b[0m\n",
            "\u001b[0;32m/usr/local/lib/python3.7/dist-packages/matplotlib/artist.py\u001b[0m in \u001b[0;36mdraw_wrapper\u001b[0;34m(artist, renderer, *args, **kwargs)\u001b[0m\n\u001b[1;32m     36\u001b[0m                 \u001b[0mrenderer\u001b[0m\u001b[0;34m.\u001b[0m\u001b[0mstart_filter\u001b[0m\u001b[0;34m(\u001b[0m\u001b[0;34m)\u001b[0m\u001b[0;34m\u001b[0m\u001b[0;34m\u001b[0m\u001b[0m\n\u001b[1;32m     37\u001b[0m \u001b[0;34m\u001b[0m\u001b[0m\n\u001b[0;32m---> 38\u001b[0;31m             \u001b[0;32mreturn\u001b[0m \u001b[0mdraw\u001b[0m\u001b[0;34m(\u001b[0m\u001b[0martist\u001b[0m\u001b[0;34m,\u001b[0m \u001b[0mrenderer\u001b[0m\u001b[0;34m,\u001b[0m \u001b[0;34m*\u001b[0m\u001b[0margs\u001b[0m\u001b[0;34m,\u001b[0m \u001b[0;34m**\u001b[0m\u001b[0mkwargs\u001b[0m\u001b[0;34m)\u001b[0m\u001b[0;34m\u001b[0m\u001b[0;34m\u001b[0m\u001b[0m\n\u001b[0m\u001b[1;32m     39\u001b[0m         \u001b[0;32mfinally\u001b[0m\u001b[0;34m:\u001b[0m\u001b[0;34m\u001b[0m\u001b[0;34m\u001b[0m\u001b[0m\n\u001b[1;32m     40\u001b[0m             \u001b[0;32mif\u001b[0m \u001b[0martist\u001b[0m\u001b[0;34m.\u001b[0m\u001b[0mget_agg_filter\u001b[0m\u001b[0;34m(\u001b[0m\u001b[0;34m)\u001b[0m \u001b[0;32mis\u001b[0m \u001b[0;32mnot\u001b[0m \u001b[0;32mNone\u001b[0m\u001b[0;34m:\u001b[0m\u001b[0;34m\u001b[0m\u001b[0;34m\u001b[0m\u001b[0m\n",
            "\u001b[0;32m/usr/local/lib/python3.7/dist-packages/matplotlib/axes/_base.py\u001b[0m in \u001b[0;36mdraw\u001b[0;34m(self, renderer, inframe)\u001b[0m\n\u001b[1;32m   2628\u001b[0m             \u001b[0mrenderer\u001b[0m\u001b[0;34m.\u001b[0m\u001b[0mstop_rasterizing\u001b[0m\u001b[0;34m(\u001b[0m\u001b[0;34m)\u001b[0m\u001b[0;34m\u001b[0m\u001b[0;34m\u001b[0m\u001b[0m\n\u001b[1;32m   2629\u001b[0m \u001b[0;34m\u001b[0m\u001b[0m\n\u001b[0;32m-> 2630\u001b[0;31m         \u001b[0mmimage\u001b[0m\u001b[0;34m.\u001b[0m\u001b[0m_draw_list_compositing_images\u001b[0m\u001b[0;34m(\u001b[0m\u001b[0mrenderer\u001b[0m\u001b[0;34m,\u001b[0m \u001b[0mself\u001b[0m\u001b[0;34m,\u001b[0m \u001b[0martists\u001b[0m\u001b[0;34m)\u001b[0m\u001b[0;34m\u001b[0m\u001b[0;34m\u001b[0m\u001b[0m\n\u001b[0m\u001b[1;32m   2631\u001b[0m \u001b[0;34m\u001b[0m\u001b[0m\n\u001b[1;32m   2632\u001b[0m         \u001b[0mrenderer\u001b[0m\u001b[0;34m.\u001b[0m\u001b[0mclose_group\u001b[0m\u001b[0;34m(\u001b[0m\u001b[0;34m'axes'\u001b[0m\u001b[0;34m)\u001b[0m\u001b[0;34m\u001b[0m\u001b[0;34m\u001b[0m\u001b[0m\n",
            "\u001b[0;32m/usr/local/lib/python3.7/dist-packages/matplotlib/image.py\u001b[0m in \u001b[0;36m_draw_list_compositing_images\u001b[0;34m(renderer, parent, artists, suppress_composite)\u001b[0m\n\u001b[1;32m    135\u001b[0m     \u001b[0;32mif\u001b[0m \u001b[0mnot_composite\u001b[0m \u001b[0;32mor\u001b[0m \u001b[0;32mnot\u001b[0m \u001b[0mhas_images\u001b[0m\u001b[0;34m:\u001b[0m\u001b[0;34m\u001b[0m\u001b[0;34m\u001b[0m\u001b[0m\n\u001b[1;32m    136\u001b[0m         \u001b[0;32mfor\u001b[0m \u001b[0ma\u001b[0m \u001b[0;32min\u001b[0m \u001b[0martists\u001b[0m\u001b[0;34m:\u001b[0m\u001b[0;34m\u001b[0m\u001b[0;34m\u001b[0m\u001b[0m\n\u001b[0;32m--> 137\u001b[0;31m             \u001b[0ma\u001b[0m\u001b[0;34m.\u001b[0m\u001b[0mdraw\u001b[0m\u001b[0;34m(\u001b[0m\u001b[0mrenderer\u001b[0m\u001b[0;34m)\u001b[0m\u001b[0;34m\u001b[0m\u001b[0;34m\u001b[0m\u001b[0m\n\u001b[0m\u001b[1;32m    138\u001b[0m     \u001b[0;32melse\u001b[0m\u001b[0;34m:\u001b[0m\u001b[0;34m\u001b[0m\u001b[0;34m\u001b[0m\u001b[0m\n\u001b[1;32m    139\u001b[0m         \u001b[0;31m# Composite any adjacent images together\u001b[0m\u001b[0;34m\u001b[0m\u001b[0;34m\u001b[0m\u001b[0;34m\u001b[0m\u001b[0m\n",
            "\u001b[0;32m/usr/local/lib/python3.7/dist-packages/matplotlib/artist.py\u001b[0m in \u001b[0;36mdraw_wrapper\u001b[0;34m(artist, renderer, *args, **kwargs)\u001b[0m\n\u001b[1;32m     36\u001b[0m                 \u001b[0mrenderer\u001b[0m\u001b[0;34m.\u001b[0m\u001b[0mstart_filter\u001b[0m\u001b[0;34m(\u001b[0m\u001b[0;34m)\u001b[0m\u001b[0;34m\u001b[0m\u001b[0;34m\u001b[0m\u001b[0m\n\u001b[1;32m     37\u001b[0m \u001b[0;34m\u001b[0m\u001b[0m\n\u001b[0;32m---> 38\u001b[0;31m             \u001b[0;32mreturn\u001b[0m \u001b[0mdraw\u001b[0m\u001b[0;34m(\u001b[0m\u001b[0martist\u001b[0m\u001b[0;34m,\u001b[0m \u001b[0mrenderer\u001b[0m\u001b[0;34m,\u001b[0m \u001b[0;34m*\u001b[0m\u001b[0margs\u001b[0m\u001b[0;34m,\u001b[0m \u001b[0;34m**\u001b[0m\u001b[0mkwargs\u001b[0m\u001b[0;34m)\u001b[0m\u001b[0;34m\u001b[0m\u001b[0;34m\u001b[0m\u001b[0m\n\u001b[0m\u001b[1;32m     39\u001b[0m         \u001b[0;32mfinally\u001b[0m\u001b[0;34m:\u001b[0m\u001b[0;34m\u001b[0m\u001b[0;34m\u001b[0m\u001b[0m\n\u001b[1;32m     40\u001b[0m             \u001b[0;32mif\u001b[0m \u001b[0martist\u001b[0m\u001b[0;34m.\u001b[0m\u001b[0mget_agg_filter\u001b[0m\u001b[0;34m(\u001b[0m\u001b[0;34m)\u001b[0m \u001b[0;32mis\u001b[0m \u001b[0;32mnot\u001b[0m \u001b[0;32mNone\u001b[0m\u001b[0;34m:\u001b[0m\u001b[0;34m\u001b[0m\u001b[0;34m\u001b[0m\u001b[0m\n",
            "\u001b[0;32m/usr/local/lib/python3.7/dist-packages/matplotlib/patches.py\u001b[0m in \u001b[0;36mdraw\u001b[0;34m(self, renderer)\u001b[0m\n\u001b[1;32m    600\u001b[0m                       \u001b[0;31m# do not draw the hatches if the facecolor is fully\u001b[0m\u001b[0;34m\u001b[0m\u001b[0;34m\u001b[0m\u001b[0;34m\u001b[0m\u001b[0m\n\u001b[1;32m    601\u001b[0m                       \u001b[0;31m# transparent, but do if it is None.\u001b[0m\u001b[0;34m\u001b[0m\u001b[0;34m\u001b[0m\u001b[0;34m\u001b[0m\u001b[0m\n\u001b[0;32m--> 602\u001b[0;31m                       self._facecolor if self._facecolor[3] else None)\n\u001b[0m\u001b[1;32m    603\u001b[0m \u001b[0;34m\u001b[0m\u001b[0m\n\u001b[1;32m    604\u001b[0m     \u001b[0;32mdef\u001b[0m \u001b[0mget_path\u001b[0m\u001b[0;34m(\u001b[0m\u001b[0mself\u001b[0m\u001b[0;34m)\u001b[0m\u001b[0;34m:\u001b[0m\u001b[0;34m\u001b[0m\u001b[0;34m\u001b[0m\u001b[0m\n",
            "\u001b[0;32m/usr/local/lib/python3.7/dist-packages/matplotlib/backends/backend_agg.py\u001b[0m in \u001b[0;36mdraw_path\u001b[0;34m(self, gc, path, transform, rgbFace)\u001b[0m\n\u001b[1;32m    150\u001b[0m         \u001b[0;32melse\u001b[0m\u001b[0;34m:\u001b[0m\u001b[0;34m\u001b[0m\u001b[0;34m\u001b[0m\u001b[0m\n\u001b[1;32m    151\u001b[0m             \u001b[0;32mtry\u001b[0m\u001b[0;34m:\u001b[0m\u001b[0;34m\u001b[0m\u001b[0;34m\u001b[0m\u001b[0m\n\u001b[0;32m--> 152\u001b[0;31m                 \u001b[0mself\u001b[0m\u001b[0;34m.\u001b[0m\u001b[0m_renderer\u001b[0m\u001b[0;34m.\u001b[0m\u001b[0mdraw_path\u001b[0m\u001b[0;34m(\u001b[0m\u001b[0mgc\u001b[0m\u001b[0;34m,\u001b[0m \u001b[0mpath\u001b[0m\u001b[0;34m,\u001b[0m \u001b[0mtransform\u001b[0m\u001b[0;34m,\u001b[0m \u001b[0mrgbFace\u001b[0m\u001b[0;34m)\u001b[0m\u001b[0;34m\u001b[0m\u001b[0;34m\u001b[0m\u001b[0m\n\u001b[0m\u001b[1;32m    153\u001b[0m             \u001b[0;32mexcept\u001b[0m \u001b[0mOverflowError\u001b[0m\u001b[0;34m:\u001b[0m\u001b[0;34m\u001b[0m\u001b[0;34m\u001b[0m\u001b[0m\n\u001b[1;32m    154\u001b[0m                 raise OverflowError(\"Exceeded cell block limit (set \"\n",
            "\u001b[0;32m/usr/local/lib/python3.7/dist-packages/matplotlib/transforms.py\u001b[0m in \u001b[0;36m__array__\u001b[0;34m(self, *args, **kwargs)\u001b[0m\n\u001b[1;32m    277\u001b[0m \u001b[0;34m\u001b[0m\u001b[0m\n\u001b[1;32m    278\u001b[0m     \u001b[0;32mdef\u001b[0m \u001b[0m__array__\u001b[0m\u001b[0;34m(\u001b[0m\u001b[0mself\u001b[0m\u001b[0;34m,\u001b[0m \u001b[0;34m*\u001b[0m\u001b[0margs\u001b[0m\u001b[0;34m,\u001b[0m \u001b[0;34m**\u001b[0m\u001b[0mkwargs\u001b[0m\u001b[0;34m)\u001b[0m\u001b[0;34m:\u001b[0m\u001b[0;34m\u001b[0m\u001b[0;34m\u001b[0m\u001b[0m\n\u001b[0;32m--> 279\u001b[0;31m         \u001b[0;32mreturn\u001b[0m \u001b[0mself\u001b[0m\u001b[0;34m.\u001b[0m\u001b[0mget_points\u001b[0m\u001b[0;34m(\u001b[0m\u001b[0;34m)\u001b[0m\u001b[0;34m\u001b[0m\u001b[0;34m\u001b[0m\u001b[0m\n\u001b[0m\u001b[1;32m    280\u001b[0m \u001b[0;34m\u001b[0m\u001b[0m\n\u001b[1;32m    281\u001b[0m     \u001b[0;34m@\u001b[0m\u001b[0mcbook\u001b[0m\u001b[0;34m.\u001b[0m\u001b[0mdeprecated\u001b[0m\u001b[0;34m(\u001b[0m\u001b[0;34m\"3.2\"\u001b[0m\u001b[0;34m)\u001b[0m\u001b[0;34m\u001b[0m\u001b[0;34m\u001b[0m\u001b[0m\n",
            "\u001b[0;32m/usr/local/lib/python3.7/dist-packages/matplotlib/transforms.py\u001b[0m in \u001b[0;36mget_points\u001b[0;34m(self)\u001b[0m\n\u001b[1;32m   1024\u001b[0m                  \u001b[0;34m[\u001b[0m\u001b[0mp\u001b[0m\u001b[0;34m[\u001b[0m\u001b[0;36m1\u001b[0m\u001b[0;34m,\u001b[0m \u001b[0;36m0\u001b[0m\u001b[0;34m]\u001b[0m\u001b[0;34m,\u001b[0m \u001b[0mp\u001b[0m\u001b[0;34m[\u001b[0m\u001b[0;36m0\u001b[0m\u001b[0;34m,\u001b[0m \u001b[0;36m1\u001b[0m\u001b[0;34m]\u001b[0m\u001b[0;34m]\u001b[0m\u001b[0;34m,\u001b[0m\u001b[0;34m\u001b[0m\u001b[0;34m\u001b[0m\u001b[0m\n\u001b[1;32m   1025\u001b[0m                  \u001b[0;34m[\u001b[0m\u001b[0mp\u001b[0m\u001b[0;34m[\u001b[0m\u001b[0;36m0\u001b[0m\u001b[0;34m,\u001b[0m \u001b[0;36m0\u001b[0m\u001b[0;34m]\u001b[0m\u001b[0;34m,\u001b[0m \u001b[0mp\u001b[0m\u001b[0;34m[\u001b[0m\u001b[0;36m1\u001b[0m\u001b[0;34m,\u001b[0m \u001b[0;36m1\u001b[0m\u001b[0;34m]\u001b[0m\u001b[0;34m]\u001b[0m\u001b[0;34m,\u001b[0m\u001b[0;34m\u001b[0m\u001b[0;34m\u001b[0m\u001b[0m\n\u001b[0;32m-> 1026\u001b[0;31m                  [p[1, 0], p[1, 1]]])\n\u001b[0m\u001b[1;32m   1027\u001b[0m             \u001b[0mpoints\u001b[0m \u001b[0;34m=\u001b[0m \u001b[0mnp\u001b[0m\u001b[0;34m.\u001b[0m\u001b[0mma\u001b[0m\u001b[0;34m.\u001b[0m\u001b[0mfilled\u001b[0m\u001b[0;34m(\u001b[0m\u001b[0mpoints\u001b[0m\u001b[0;34m,\u001b[0m \u001b[0;36m0.0\u001b[0m\u001b[0;34m)\u001b[0m\u001b[0;34m\u001b[0m\u001b[0;34m\u001b[0m\u001b[0m\n\u001b[1;32m   1028\u001b[0m \u001b[0;34m\u001b[0m\u001b[0m\n",
            "\u001b[0;32m/usr/local/lib/python3.7/dist-packages/matplotlib/transforms.py\u001b[0m in \u001b[0;36mtransform\u001b[0;34m(self, values)\u001b[0m\n\u001b[1;32m   1403\u001b[0m \u001b[0;34m\u001b[0m\u001b[0m\n\u001b[1;32m   1404\u001b[0m         \u001b[0;31m# Transform the values\u001b[0m\u001b[0;34m\u001b[0m\u001b[0;34m\u001b[0m\u001b[0;34m\u001b[0m\u001b[0m\n\u001b[0;32m-> 1405\u001b[0;31m         \u001b[0mres\u001b[0m \u001b[0;34m=\u001b[0m \u001b[0mself\u001b[0m\u001b[0;34m.\u001b[0m\u001b[0mtransform_affine\u001b[0m\u001b[0;34m(\u001b[0m\u001b[0mself\u001b[0m\u001b[0;34m.\u001b[0m\u001b[0mtransform_non_affine\u001b[0m\u001b[0;34m(\u001b[0m\u001b[0mvalues\u001b[0m\u001b[0;34m)\u001b[0m\u001b[0;34m)\u001b[0m\u001b[0;34m\u001b[0m\u001b[0;34m\u001b[0m\u001b[0m\n\u001b[0m\u001b[1;32m   1406\u001b[0m \u001b[0;34m\u001b[0m\u001b[0m\n\u001b[1;32m   1407\u001b[0m         \u001b[0;31m# Convert the result back to the shape of the input values.\u001b[0m\u001b[0;34m\u001b[0m\u001b[0;34m\u001b[0m\u001b[0;34m\u001b[0m\u001b[0m\n",
            "\u001b[0;32m/usr/local/lib/python3.7/dist-packages/matplotlib/transforms.py\u001b[0m in \u001b[0;36mtransform_affine\u001b[0;34m(self, points)\u001b[0m\n\u001b[1;32m   2363\u001b[0m     \u001b[0;32mdef\u001b[0m \u001b[0mtransform_affine\u001b[0m\u001b[0;34m(\u001b[0m\u001b[0mself\u001b[0m\u001b[0;34m,\u001b[0m \u001b[0mpoints\u001b[0m\u001b[0;34m)\u001b[0m\u001b[0;34m:\u001b[0m\u001b[0;34m\u001b[0m\u001b[0;34m\u001b[0m\u001b[0m\n\u001b[1;32m   2364\u001b[0m         \u001b[0;31m# docstring inherited\u001b[0m\u001b[0;34m\u001b[0m\u001b[0;34m\u001b[0m\u001b[0;34m\u001b[0m\u001b[0m\n\u001b[0;32m-> 2365\u001b[0;31m         \u001b[0;32mreturn\u001b[0m \u001b[0mself\u001b[0m\u001b[0;34m.\u001b[0m\u001b[0mget_affine\u001b[0m\u001b[0;34m(\u001b[0m\u001b[0;34m)\u001b[0m\u001b[0;34m.\u001b[0m\u001b[0mtransform\u001b[0m\u001b[0;34m(\u001b[0m\u001b[0mpoints\u001b[0m\u001b[0;34m)\u001b[0m\u001b[0;34m\u001b[0m\u001b[0;34m\u001b[0m\u001b[0m\n\u001b[0m\u001b[1;32m   2366\u001b[0m \u001b[0;34m\u001b[0m\u001b[0m\n\u001b[1;32m   2367\u001b[0m     \u001b[0;32mdef\u001b[0m \u001b[0mtransform_non_affine\u001b[0m\u001b[0;34m(\u001b[0m\u001b[0mself\u001b[0m\u001b[0;34m,\u001b[0m \u001b[0mpoints\u001b[0m\u001b[0;34m)\u001b[0m\u001b[0;34m:\u001b[0m\u001b[0;34m\u001b[0m\u001b[0;34m\u001b[0m\u001b[0m\n",
            "\u001b[0;32m/usr/local/lib/python3.7/dist-packages/matplotlib/transforms.py\u001b[0m in \u001b[0;36mget_affine\u001b[0;34m(self)\u001b[0m\n\u001b[1;32m   2391\u001b[0m         \u001b[0;32melse\u001b[0m\u001b[0;34m:\u001b[0m\u001b[0;34m\u001b[0m\u001b[0;34m\u001b[0m\u001b[0m\n\u001b[1;32m   2392\u001b[0m             return Affine2D(np.dot(self._b.get_affine().get_matrix(),\n\u001b[0;32m-> 2393\u001b[0;31m                                 self._a.get_affine().get_matrix()))\n\u001b[0m\u001b[1;32m   2394\u001b[0m \u001b[0;34m\u001b[0m\u001b[0m\n\u001b[1;32m   2395\u001b[0m     \u001b[0;32mdef\u001b[0m \u001b[0minverted\u001b[0m\u001b[0;34m(\u001b[0m\u001b[0mself\u001b[0m\u001b[0;34m)\u001b[0m\u001b[0;34m:\u001b[0m\u001b[0;34m\u001b[0m\u001b[0;34m\u001b[0m\u001b[0m\n",
            "\u001b[0;32m/usr/local/lib/python3.7/dist-packages/matplotlib/transforms.py\u001b[0m in \u001b[0;36mget_affine\u001b[0;34m(self)\u001b[0m\n\u001b[1;32m   2391\u001b[0m         \u001b[0;32melse\u001b[0m\u001b[0;34m:\u001b[0m\u001b[0;34m\u001b[0m\u001b[0;34m\u001b[0m\u001b[0m\n\u001b[1;32m   2392\u001b[0m             return Affine2D(np.dot(self._b.get_affine().get_matrix(),\n\u001b[0;32m-> 2393\u001b[0;31m                                 self._a.get_affine().get_matrix()))\n\u001b[0m\u001b[1;32m   2394\u001b[0m \u001b[0;34m\u001b[0m\u001b[0m\n\u001b[1;32m   2395\u001b[0m     \u001b[0;32mdef\u001b[0m \u001b[0minverted\u001b[0m\u001b[0;34m(\u001b[0m\u001b[0mself\u001b[0m\u001b[0;34m)\u001b[0m\u001b[0;34m:\u001b[0m\u001b[0;34m\u001b[0m\u001b[0;34m\u001b[0m\u001b[0m\n",
            "\u001b[0;32m/usr/local/lib/python3.7/dist-packages/matplotlib/transforms.py\u001b[0m in \u001b[0;36mget_matrix\u001b[0;34m(self)\u001b[0m\n\u001b[1;32m   2565\u001b[0m         \u001b[0;31m# docstring inherited\u001b[0m\u001b[0;34m\u001b[0m\u001b[0;34m\u001b[0m\u001b[0;34m\u001b[0m\u001b[0m\n\u001b[1;32m   2566\u001b[0m         \u001b[0;32mif\u001b[0m \u001b[0mself\u001b[0m\u001b[0;34m.\u001b[0m\u001b[0m_invalid\u001b[0m\u001b[0;34m:\u001b[0m\u001b[0;34m\u001b[0m\u001b[0;34m\u001b[0m\u001b[0m\n\u001b[0;32m-> 2567\u001b[0;31m             \u001b[0moutl\u001b[0m\u001b[0;34m,\u001b[0m \u001b[0moutb\u001b[0m\u001b[0;34m,\u001b[0m \u001b[0moutw\u001b[0m\u001b[0;34m,\u001b[0m \u001b[0mouth\u001b[0m \u001b[0;34m=\u001b[0m \u001b[0mself\u001b[0m\u001b[0;34m.\u001b[0m\u001b[0m_boxout\u001b[0m\u001b[0;34m.\u001b[0m\u001b[0mbounds\u001b[0m\u001b[0;34m\u001b[0m\u001b[0;34m\u001b[0m\u001b[0m\n\u001b[0m\u001b[1;32m   2568\u001b[0m             \u001b[0;32mif\u001b[0m \u001b[0mDEBUG\u001b[0m \u001b[0;32mand\u001b[0m \u001b[0;34m(\u001b[0m\u001b[0moutw\u001b[0m \u001b[0;34m==\u001b[0m \u001b[0;36m0\u001b[0m \u001b[0;32mor\u001b[0m \u001b[0mouth\u001b[0m \u001b[0;34m==\u001b[0m \u001b[0;36m0\u001b[0m\u001b[0;34m)\u001b[0m\u001b[0;34m:\u001b[0m\u001b[0;34m\u001b[0m\u001b[0;34m\u001b[0m\u001b[0m\n\u001b[1;32m   2569\u001b[0m                 \u001b[0;32mraise\u001b[0m \u001b[0mValueError\u001b[0m\u001b[0;34m(\u001b[0m\u001b[0;34m\"Transforming to a singular bounding box.\"\u001b[0m\u001b[0;34m)\u001b[0m\u001b[0;34m\u001b[0m\u001b[0;34m\u001b[0m\u001b[0m\n",
            "\u001b[0;32m/usr/local/lib/python3.7/dist-packages/matplotlib/transforms.py\u001b[0m in \u001b[0;36mbounds\u001b[0;34m(self)\u001b[0m\n\u001b[1;32m    413\u001b[0m     \u001b[0;32mdef\u001b[0m \u001b[0mbounds\u001b[0m\u001b[0;34m(\u001b[0m\u001b[0mself\u001b[0m\u001b[0;34m)\u001b[0m\u001b[0;34m:\u001b[0m\u001b[0;34m\u001b[0m\u001b[0;34m\u001b[0m\u001b[0m\n\u001b[1;32m    414\u001b[0m         \u001b[0;34m\"\"\"Return (:attr:`x0`, :attr:`y0`, :attr:`width`, :attr:`height`).\"\"\"\u001b[0m\u001b[0;34m\u001b[0m\u001b[0;34m\u001b[0m\u001b[0m\n\u001b[0;32m--> 415\u001b[0;31m         \u001b[0;34m(\u001b[0m\u001b[0mx0\u001b[0m\u001b[0;34m,\u001b[0m \u001b[0my0\u001b[0m\u001b[0;34m)\u001b[0m\u001b[0;34m,\u001b[0m \u001b[0;34m(\u001b[0m\u001b[0mx1\u001b[0m\u001b[0;34m,\u001b[0m \u001b[0my1\u001b[0m\u001b[0;34m)\u001b[0m \u001b[0;34m=\u001b[0m \u001b[0mself\u001b[0m\u001b[0;34m.\u001b[0m\u001b[0mget_points\u001b[0m\u001b[0;34m(\u001b[0m\u001b[0;34m)\u001b[0m\u001b[0;34m\u001b[0m\u001b[0;34m\u001b[0m\u001b[0m\n\u001b[0m\u001b[1;32m    416\u001b[0m         \u001b[0;32mreturn\u001b[0m \u001b[0;34m(\u001b[0m\u001b[0mx0\u001b[0m\u001b[0;34m,\u001b[0m \u001b[0my0\u001b[0m\u001b[0;34m,\u001b[0m \u001b[0mx1\u001b[0m \u001b[0;34m-\u001b[0m \u001b[0mx0\u001b[0m\u001b[0;34m,\u001b[0m \u001b[0my1\u001b[0m \u001b[0;34m-\u001b[0m \u001b[0my0\u001b[0m\u001b[0;34m)\u001b[0m\u001b[0;34m\u001b[0m\u001b[0;34m\u001b[0m\u001b[0m\n\u001b[1;32m    417\u001b[0m \u001b[0;34m\u001b[0m\u001b[0m\n",
            "\u001b[0;31mKeyboardInterrupt\u001b[0m: "
          ]
        },
        {
          "output_type": "display_data",
          "data": {
            "image/png": "[encoded data removed]",
            "text/plain": [
              "<Figure size 1296x720 with 16 Axes>"
            ]
          },
          "metadata": {
            "tags": []
          }
        }
      ]
    },
    {
      "cell_type": "markdown",
      "metadata": {
        "heading_collapsed": true,
        "hidden": true,
        "id": "iL12_pkCaTSA"
      },
      "source": [
        "### 4.1.3 Categorical Variable"
      ]
    },
    {
      "cell_type": "code",
      "metadata": {
        "ExecuteTime": {
          "end_time": "2021-03-09T16:29:23.441064Z",
          "start_time": "2021-03-09T16:29:23.397077Z"
        },
        "colab": {
          "base_uri": "https://localhost:8080/"
        },
        "hidden": true,
        "id": "UITv9VXEaTSA",
        "scrolled": true,
        "outputId": "e11da6e4-17ad-4f2e-bcc8-1522a0e701d7"
      },
      "source": [
        "df4['state_holiday'].drop_duplicates()"
      ],
      "execution_count": 48,
      "outputs": [
        {
          "output_type": "execute_result",
          "data": {
            "text/plain": [
              "0            regular_day\n",
              "63559     public_holiday\n",
              "129424    easter_holiday\n",
              "241126         christmas\n",
              "Name: state_holiday, dtype: object"
            ]
          },
          "metadata": {
            "tags": []
          },
          "execution_count": 48
        }
      ]
    },
    {
      "cell_type": "code",
      "metadata": {
        "ExecuteTime": {
          "end_time": "2021-03-09T16:29:23.557761Z",
          "start_time": "2021-03-09T16:29:23.445664Z"
        },
        "colab": {
          "base_uri": "https://localhost:8080/"
        },
        "hidden": true,
        "id": "-YB4Hp24aTSA",
        "outputId": "34c60b72-fcd0-4eb4-c849-89f47655acd3"
      },
      "source": [
        "df4['state_holiday'].unique()"
      ],
      "execution_count": 49,
      "outputs": [
        {
          "output_type": "execute_result",
          "data": {
            "text/plain": [
              "array(['regular_day', 'public_holiday', 'easter_holiday', 'christmas'],\n",
              "      dtype=object)"
            ]
          },
          "metadata": {
            "tags": []
          },
          "execution_count": 49
        }
      ]
    },
    {
      "cell_type": "code",
      "metadata": {
        "ExecuteTime": {
          "end_time": "2021-03-09T16:29:32.055889Z",
          "start_time": "2021-03-09T16:29:23.560562Z"
        },
        "colab": {
          "base_uri": "https://localhost:8080/",
          "height": 0
        },
        "hidden": true,
        "id": "7J4yqT1MaTSB",
        "scrolled": false,
        "outputId": "b017119b-606d-40df-9274-1b0dda6ea85a"
      },
      "source": [
        "# Vamos plotar CONTAGEM x DISTRIBUIÇÃO\n",
        "\n",
        "\n",
        "# State_Holiday\n",
        "plt.subplot( 3, 2 ,1 ) # linha,coluna,pos\n",
        "\n",
        "a = df4[df4['state_holiday'] != 'regular_day']\n",
        "sns.countplot( a['state_holiday'] )\n",
        "\n",
        "plt.subplot( 3 , 2, 2)\n",
        "\n",
        "sns.kdeplot( df4[df4['state_holiday'] == 'public_holiday']['sales'], label = 'public_holiday' , shade = True )\n",
        "sns.kdeplot( df4[df4['state_holiday'] == 'easter_holiday']['sales'], label = 'easter_holiday' , shade = True )\n",
        "sns.kdeplot( df4[df4['state_holiday'] == 'christmas']['sales'], label = 'christmas' , shade = True )\n",
        "\n",
        "# Store_type\n",
        "plt.subplot( 3, 2 ,3 ) # linha,coluna,pos\n",
        "\n",
        "sns.countplot( df4['store_type'] )\n",
        "\n",
        "plt.subplot( 3, 2 ,4 ) # linha,coluna,pos\n",
        "\n",
        "sns.kdeplot( df4[df4['store_type'] == 'a']['sales'], label = 'a' , shade = True )\n",
        "sns.kdeplot( df4[df4['store_type'] == 'b']['sales'], label = 'b' , shade = True )\n",
        "sns.kdeplot( df4[df4['store_type'] == 'c']['sales'], label = 'c' , shade = True )\n",
        "sns.kdeplot( df4[df4['store_type'] == 'd']['sales'], label = 'd' , shade = True )\n",
        "\n",
        "# Assortment\n",
        "plt.subplot( 3, 2 ,5 ) # linha,coluna,pos\n",
        "\n",
        "sns.countplot( df4['assortment'] )\n",
        "\n",
        "plt.subplot( 3, 2 ,6 ) # linha,coluna,pos\n",
        "\n",
        "sns.kdeplot( df4[df4['assortment'] == 'extended']['sales'], label = 'extended' , shade = True )\n",
        "sns.kdeplot( df4[df4['assortment'] == 'basic']['sales'], label = 'basic' , shade = True )\n",
        "sns.kdeplot( df4[df4['assortment'] == 'extra']['sales'], label = 'extra' , shade = True )\n",
        "\n"
      ],
      "execution_count": 50,
      "outputs": [
        {
          "output_type": "stream",
          "text": [
            "/usr/local/lib/python3.7/dist-packages/seaborn/_decorators.py:43: FutureWarning: Pass the following variable as a keyword arg: x. From version 0.12, the only valid positional argument will be `data`, and passing other arguments without an explicit keyword will result in an error or misinterpretation.\n",
            "  FutureWarning\n",
            "/usr/local/lib/python3.7/dist-packages/seaborn/_decorators.py:43: FutureWarning: Pass the following variable as a keyword arg: x. From version 0.12, the only valid positional argument will be `data`, and passing other arguments without an explicit keyword will result in an error or misinterpretation.\n",
            "  FutureWarning\n",
            "/usr/local/lib/python3.7/dist-packages/seaborn/_decorators.py:43: FutureWarning: Pass the following variable as a keyword arg: x. From version 0.12, the only valid positional argument will be `data`, and passing other arguments without an explicit keyword will result in an error or misinterpretation.\n",
            "  FutureWarning\n"
          ],
          "name": "stderr"
        },
        {
          "output_type": "execute_result",
          "data": {
            "text/plain": [
              "<matplotlib.axes._subplots.AxesSubplot at 0x7f4d77efdd90>"
            ]
          },
          "metadata": {
            "tags": []
          },
          "execution_count": 50
        },
        {
          "output_type": "display_data",
          "data": {
            "image/png": "[encoded data removed]",
            "text/plain": [
              "<Figure size 1296x720 with 6 Axes>"
            ]
          },
          "metadata": {
            "tags": []
          }
        }
      ]
    },
    {
      "cell_type": "markdown",
      "metadata": {
        "heading_collapsed": true,
        "hidden": true,
        "id": "TuLRJLIyaTSB"
      },
      "source": [
        "## 4.2 Análise Bivariada\n",
        "\n",
        "Analisa-se apenas uma variável (agente) com o resultado (fenômeno... nosso objetivo)"
      ]
    },
    {
      "cell_type": "markdown",
      "metadata": {
        "heading_collapsed": true,
        "hidden": true,
        "id": "b0BwhOBbaTSB"
      },
      "source": [
        "### **Hipótese 1** Lojas com sortimento maior, deveriam vender mais\n",
        "\n",
        "<span style='color:red'>**FALSA**</span> vendem menos...\n",
        "\n",
        "<span style = 'color:green'>**insights** => Lojas com sortimento maior, vendem menos</span>\n",
        "\n",
        "<span style = 'color:blue'>**Relevância para o modelo** => minha visão: fraca, corr_pearson: não dá para aplicar em string </span>"
      ]
    },
    {
      "cell_type": "code",
      "metadata": {
        "ExecuteTime": {
          "end_time": "2021-03-09T16:29:32.160428Z",
          "start_time": "2021-03-09T16:29:32.060890Z"
        },
        "colab": {
          "base_uri": "https://localhost:8080/",
          "height": 0
        },
        "hidden": true,
        "id": "fI5GLMhTaTSB",
        "outputId": "9065cae6-ab3f-410b-86c9-179f52699dda"
      },
      "source": [
        "aux1 = df4[['assortment','sales']].groupby('assortment').sum().reset_index()\n",
        "aux1"
      ],
      "execution_count": 51,
      "outputs": [
        {
          "output_type": "execute_result",
          "data": {
            "text/html": [
              "<div>\n",
              "<style scoped>\n",
              "    .dataframe tbody tr th:only-of-type {\n",
              "        vertical-align: middle;\n",
              "    }\n",
              "\n",
              "    .dataframe tbody tr th {\n",
              "        vertical-align: top;\n",
              "    }\n",
              "\n",
              "    .dataframe thead th {\n",
              "        text-align: right;\n",
              "    }\n",
              "</style>\n",
              "<table border=\"1\" class=\"dataframe\">\n",
              "  <thead>\n",
              "    <tr style=\"text-align: right;\">\n",
              "      <th></th>\n",
              "      <th>assortment</th>\n",
              "      <th>sales</th>\n",
              "    </tr>\n",
              "  </thead>\n",
              "  <tbody>\n",
              "    <tr>\n",
              "      <th>0</th>\n",
              "      <td>basic</td>\n",
              "      <td>2945750070</td>\n",
              "    </tr>\n",
              "    <tr>\n",
              "      <th>1</th>\n",
              "      <td>extended</td>\n",
              "      <td>2856484241</td>\n",
              "    </tr>\n",
              "    <tr>\n",
              "      <th>2</th>\n",
              "      <td>extra</td>\n",
              "      <td>70946312</td>\n",
              "    </tr>\n",
              "  </tbody>\n",
              "</table>\n",
              "</div>"
            ],
            "text/plain": [
              "  assortment       sales\n",
              "0      basic  2945750070\n",
              "1   extended  2856484241\n",
              "2      extra    70946312"
            ]
          },
          "metadata": {
            "tags": []
          },
          "execution_count": 51
        }
      ]
    },
    {
      "cell_type": "code",
      "metadata": {
        "ExecuteTime": {
          "end_time": "2021-03-09T16:29:32.465772Z",
          "start_time": "2021-03-09T16:29:32.163782Z"
        },
        "colab": {
          "base_uri": "https://localhost:8080/",
          "height": 0
        },
        "hidden": true,
        "id": "xlawz0WsaTSC",
        "outputId": "fc1dd6a1-0b4a-4022-d8ca-b70f20ea73f1"
      },
      "source": [
        "sns.barplot( x = 'assortment', y = 'sales', data = aux1)"
      ],
      "execution_count": 52,
      "outputs": [
        {
          "output_type": "execute_result",
          "data": {
            "text/plain": [
              "<matplotlib.axes._subplots.AxesSubplot at 0x7f4d6ff433d0>"
            ]
          },
          "metadata": {
            "tags": []
          },
          "execution_count": 52
        },
        {
          "output_type": "display_data",
          "data": {
            "image/png": "[encoded data removed]",
            "text/plain": [
              "<Figure size 1296x720 with 1 Axes>"
            ]
          },
          "metadata": {
            "tags": []
          }
        }
      ]
    },
    {
      "cell_type": "code",
      "metadata": {
        "ExecuteTime": {
          "end_time": "2021-03-09T16:29:32.747316Z",
          "start_time": "2021-03-09T16:29:32.468969Z"
        },
        "colab": {
          "base_uri": "https://localhost:8080/",
          "height": 0
        },
        "hidden": true,
        "id": "3Dgl13jcaTSC",
        "scrolled": true,
        "outputId": "536a8d48-a856-4a00-92cb-2c3dd6779714"
      },
      "source": [
        "aux2 = df4[['year_week','assortment','sales']].groupby(['year_week','assortment']).sum().reset_index()\n",
        "aux2.head()"
      ],
      "execution_count": 53,
      "outputs": [
        {
          "output_type": "execute_result",
          "data": {
            "text/html": [
              "<div>\n",
              "<style scoped>\n",
              "    .dataframe tbody tr th:only-of-type {\n",
              "        vertical-align: middle;\n",
              "    }\n",
              "\n",
              "    .dataframe tbody tr th {\n",
              "        vertical-align: top;\n",
              "    }\n",
              "\n",
              "    .dataframe thead th {\n",
              "        text-align: right;\n",
              "    }\n",
              "</style>\n",
              "<table border=\"1\" class=\"dataframe\">\n",
              "  <thead>\n",
              "    <tr style=\"text-align: right;\">\n",
              "      <th></th>\n",
              "      <th>year_week</th>\n",
              "      <th>assortment</th>\n",
              "      <th>sales</th>\n",
              "    </tr>\n",
              "  </thead>\n",
              "  <tbody>\n",
              "    <tr>\n",
              "      <th>0</th>\n",
              "      <td>2013-00</td>\n",
              "      <td>basic</td>\n",
              "      <td>13434262</td>\n",
              "    </tr>\n",
              "    <tr>\n",
              "      <th>1</th>\n",
              "      <td>2013-00</td>\n",
              "      <td>extended</td>\n",
              "      <td>12425669</td>\n",
              "    </tr>\n",
              "    <tr>\n",
              "      <th>2</th>\n",
              "      <td>2013-00</td>\n",
              "      <td>extra</td>\n",
              "      <td>269404</td>\n",
              "    </tr>\n",
              "    <tr>\n",
              "      <th>3</th>\n",
              "      <td>2013-01</td>\n",
              "      <td>basic</td>\n",
              "      <td>26007250</td>\n",
              "    </tr>\n",
              "    <tr>\n",
              "      <th>4</th>\n",
              "      <td>2013-01</td>\n",
              "      <td>extended</td>\n",
              "      <td>22917693</td>\n",
              "    </tr>\n",
              "  </tbody>\n",
              "</table>\n",
              "</div>"
            ],
            "text/plain": [
              "  year_week assortment     sales\n",
              "0   2013-00      basic  13434262\n",
              "1   2013-00   extended  12425669\n",
              "2   2013-00      extra    269404\n",
              "3   2013-01      basic  26007250\n",
              "4   2013-01   extended  22917693"
            ]
          },
          "metadata": {
            "tags": []
          },
          "execution_count": 53
        }
      ]
    },
    {
      "cell_type": "code",
      "metadata": {
        "ExecuteTime": {
          "end_time": "2021-03-09T16:29:32.782271Z",
          "start_time": "2021-03-09T16:29:32.752487Z"
        },
        "colab": {
          "base_uri": "https://localhost:8080/",
          "height": 0
        },
        "hidden": true,
        "id": "Sys8mcBVaTSC",
        "outputId": "e475366c-cf1d-4b88-a79b-ffbebc72ff30"
      },
      "source": [
        "aux3 = aux2.pivot(index = 'year_week', columns ='assortment' , values ='sales' )\n",
        "aux3.head()"
      ],
      "execution_count": 54,
      "outputs": [
        {
          "output_type": "execute_result",
          "data": {
            "text/html": [
              "<div>\n",
              "<style scoped>\n",
              "    .dataframe tbody tr th:only-of-type {\n",
              "        vertical-align: middle;\n",
              "    }\n",
              "\n",
              "    .dataframe tbody tr th {\n",
              "        vertical-align: top;\n",
              "    }\n",
              "\n",
              "    .dataframe thead th {\n",
              "        text-align: right;\n",
              "    }\n",
              "</style>\n",
              "<table border=\"1\" class=\"dataframe\">\n",
              "  <thead>\n",
              "    <tr style=\"text-align: right;\">\n",
              "      <th>assortment</th>\n",
              "      <th>basic</th>\n",
              "      <th>extended</th>\n",
              "      <th>extra</th>\n",
              "    </tr>\n",
              "    <tr>\n",
              "      <th>year_week</th>\n",
              "      <th></th>\n",
              "      <th></th>\n",
              "      <th></th>\n",
              "    </tr>\n",
              "  </thead>\n",
              "  <tbody>\n",
              "    <tr>\n",
              "      <th>2013-00</th>\n",
              "      <td>13434262</td>\n",
              "      <td>12425669</td>\n",
              "      <td>269404</td>\n",
              "    </tr>\n",
              "    <tr>\n",
              "      <th>2013-01</th>\n",
              "      <td>26007250</td>\n",
              "      <td>22917693</td>\n",
              "      <td>350279</td>\n",
              "    </tr>\n",
              "    <tr>\n",
              "      <th>2013-02</th>\n",
              "      <td>17970974</td>\n",
              "      <td>16029584</td>\n",
              "      <td>377207</td>\n",
              "    </tr>\n",
              "    <tr>\n",
              "      <th>2013-03</th>\n",
              "      <td>24392076</td>\n",
              "      <td>21243431</td>\n",
              "      <td>404662</td>\n",
              "    </tr>\n",
              "    <tr>\n",
              "      <th>2013-04</th>\n",
              "      <td>19972891</td>\n",
              "      <td>18130077</td>\n",
              "      <td>363061</td>\n",
              "    </tr>\n",
              "  </tbody>\n",
              "</table>\n",
              "</div>"
            ],
            "text/plain": [
              "assortment     basic  extended   extra\n",
              "year_week                             \n",
              "2013-00     13434262  12425669  269404\n",
              "2013-01     26007250  22917693  350279\n",
              "2013-02     17970974  16029584  377207\n",
              "2013-03     24392076  21243431  404662\n",
              "2013-04     19972891  18130077  363061"
            ]
          },
          "metadata": {
            "tags": []
          },
          "execution_count": 54
        }
      ]
    },
    {
      "cell_type": "code",
      "metadata": {
        "ExecuteTime": {
          "end_time": "2021-03-09T16:29:33.403465Z",
          "start_time": "2021-03-09T16:29:32.784586Z"
        },
        "colab": {
          "base_uri": "https://localhost:8080/",
          "height": 0
        },
        "hidden": true,
        "id": "JhhzE3IRaTSD",
        "scrolled": false,
        "outputId": "ecc9205c-dd53-4920-9795-f152918f19de"
      },
      "source": [
        "aux3.plot()"
      ],
      "execution_count": 55,
      "outputs": [
        {
          "output_type": "execute_result",
          "data": {
            "text/plain": [
              "<matplotlib.axes._subplots.AxesSubplot at 0x7f4d7043c4d0>"
            ]
          },
          "metadata": {
            "tags": []
          },
          "execution_count": 55
        },
        {
          "output_type": "display_data",
          "data": {
            "image/png": "[encoded data removed]",
            "text/plain": [
              "<Figure size 1296x720 with 1 Axes>"
            ]
          },
          "metadata": {
            "tags": []
          }
        }
      ]
    },
    {
      "cell_type": "markdown",
      "metadata": {
        "hidden": true,
        "id": "6UVgZ_PnaTSD"
      },
      "source": [
        "Essa será uma variável importante para o modelo, pois o Extra tem um volume e comportamento muito diferentes do extended e basic."
      ]
    },
    {
      "cell_type": "code",
      "metadata": {
        "ExecuteTime": {
          "end_time": "2021-03-09T16:29:33.726847Z",
          "start_time": "2021-03-09T16:29:33.406987Z"
        },
        "colab": {
          "base_uri": "https://localhost:8080/",
          "height": 0
        },
        "hidden": true,
        "id": "cLu3hX-7aTSD",
        "scrolled": false,
        "outputId": "a01a89cc-d792-4066-ba6d-f621d4cbcc4d"
      },
      "source": [
        "aux3['extra'].plot()"
      ],
      "execution_count": 56,
      "outputs": [
        {
          "output_type": "execute_result",
          "data": {
            "text/plain": [
              "<matplotlib.axes._subplots.AxesSubplot at 0x7f4d704e41d0>"
            ]
          },
          "metadata": {
            "tags": []
          },
          "execution_count": 56
        },
        {
          "output_type": "display_data",
          "data": {
            "image/png": "[encoded data removed]",
            "text/plain": [
              "<Figure size 1296x720 with 1 Axes>"
            ]
          },
          "metadata": {
            "tags": []
          }
        }
      ]
    },
    {
      "cell_type": "code",
      "metadata": {
        "ExecuteTime": {
          "end_time": "2021-03-09T16:29:33.754364Z",
          "start_time": "2021-03-09T16:29:33.737808Z"
        },
        "colab": {
          "base_uri": "https://localhost:8080/",
          "height": 0
        },
        "hidden": true,
        "id": "wZUQTAUoaTSE",
        "outputId": "663d0b69-dab0-424e-f65c-87ac7214de37"
      },
      "source": [
        "aux1"
      ],
      "execution_count": 57,
      "outputs": [
        {
          "output_type": "execute_result",
          "data": {
            "text/html": [
              "<div>\n",
              "<style scoped>\n",
              "    .dataframe tbody tr th:only-of-type {\n",
              "        vertical-align: middle;\n",
              "    }\n",
              "\n",
              "    .dataframe tbody tr th {\n",
              "        vertical-align: top;\n",
              "    }\n",
              "\n",
              "    .dataframe thead th {\n",
              "        text-align: right;\n",
              "    }\n",
              "</style>\n",
              "<table border=\"1\" class=\"dataframe\">\n",
              "  <thead>\n",
              "    <tr style=\"text-align: right;\">\n",
              "      <th></th>\n",
              "      <th>assortment</th>\n",
              "      <th>sales</th>\n",
              "    </tr>\n",
              "  </thead>\n",
              "  <tbody>\n",
              "    <tr>\n",
              "      <th>0</th>\n",
              "      <td>basic</td>\n",
              "      <td>2945750070</td>\n",
              "    </tr>\n",
              "    <tr>\n",
              "      <th>1</th>\n",
              "      <td>extended</td>\n",
              "      <td>2856484241</td>\n",
              "    </tr>\n",
              "    <tr>\n",
              "      <th>2</th>\n",
              "      <td>extra</td>\n",
              "      <td>70946312</td>\n",
              "    </tr>\n",
              "  </tbody>\n",
              "</table>\n",
              "</div>"
            ],
            "text/plain": [
              "  assortment       sales\n",
              "0      basic  2945750070\n",
              "1   extended  2856484241\n",
              "2      extra    70946312"
            ]
          },
          "metadata": {
            "tags": []
          },
          "execution_count": 57
        }
      ]
    },
    {
      "cell_type": "code",
      "metadata": {
        "ExecuteTime": {
          "end_time": "2021-03-09T16:29:33.857552Z",
          "start_time": "2021-03-09T16:29:33.757195Z"
        },
        "hidden": true,
        "id": "FlWfVQewaTSE"
      },
      "source": [
        "\n",
        "# Não dá para fazer o CORR, pois o assortment é STRING\n",
        "#sns.heatmap( df4[['sales','assortment']].corr(method= 'pearson'), annot = True)"
      ],
      "execution_count": 58,
      "outputs": []
    },
    {
      "cell_type": "markdown",
      "metadata": {
        "heading_collapsed": true,
        "hidden": true,
        "id": "uKun-AylaTSE"
      },
      "source": [
        "### **Hipótese 2** Lojas com competidores mais próximos deveriam vender menos\n",
        "\n",
        "<span style='color:red'>**FALSA**</span> vendem mais...\n",
        "\n",
        "\n",
        "<span style = 'color:green'>**insights** => Competidores próximos, vendem mais</span>\n",
        "\n",
        "<span style = 'color:blue'>**Relevância para o modelo** => minha visão: média, corr_pearson: -0.2 </span>"
      ]
    },
    {
      "cell_type": "code",
      "metadata": {
        "ExecuteTime": {
          "end_time": "2021-03-09T16:29:44.546038Z",
          "start_time": "2021-03-09T16:29:33.863376Z"
        },
        "hidden": true,
        "id": "moTEh-V9aTSE"
      },
      "source": [
        "aux1 = df4[['competition_distance','sales']].groupby('competition_distance').sum().reset_index()\n",
        "# Ficou ruim de enxergar, preciso melhorar os bins\n",
        "sns.barplot( x = 'competition_distance', y = 'sales', data=aux1)"
      ],
      "execution_count": null,
      "outputs": []
    },
    {
      "cell_type": "code",
      "metadata": {
        "ExecuteTime": {
          "end_time": "2021-03-09T16:29:44.589211Z",
          "start_time": "2021-03-09T16:29:44.549460Z"
        },
        "hidden": true,
        "id": "9lvdGObmaTSF"
      },
      "source": [
        "# Como o gráfico ficou ruim para enxergar Vamos lá fazer algumas modificações\n",
        "\n",
        "# criar os intervalos (bins)\n",
        "bins = list(np.arange(0,20000,1000))\n",
        "# preciso saber em qual grupo ele encaixa\n",
        "aux1['competition_distance_binned'] = pd.cut( aux1['competition_distance'], bins = bins)\n",
        "aux1.head()"
      ],
      "execution_count": null,
      "outputs": []
    },
    {
      "cell_type": "code",
      "metadata": {
        "ExecuteTime": {
          "end_time": "2021-03-09T16:29:44.755577Z",
          "start_time": "2021-03-09T16:29:44.596066Z"
        },
        "hidden": true,
        "id": "pQLDX3NbaTSF"
      },
      "source": [
        "aux2 = aux1[['competition_distance_binned','sales']].groupby('competition_distance_binned').sum().reset_index()\n",
        "aux2.head()"
      ],
      "execution_count": null,
      "outputs": []
    },
    {
      "cell_type": "code",
      "metadata": {
        "ExecuteTime": {
          "end_time": "2021-03-09T16:29:45.327954Z",
          "start_time": "2021-03-09T16:29:44.757964Z"
        },
        "hidden": true,
        "id": "8mp3SvPAaTSF"
      },
      "source": [
        "grafic = sns.barplot(x='competition_distance_binned', y = 'sales', data = aux2)\n",
        "plt.xticks(rotation=75);\n",
        "# COMPETIDORES PRÓXIMOS PERTO VENDEM MAIS para essa empresa"
      ],
      "execution_count": null,
      "outputs": []
    },
    {
      "cell_type": "code",
      "metadata": {
        "ExecuteTime": {
          "end_time": "2021-03-09T16:29:47.026647Z",
          "start_time": "2021-03-09T16:29:45.330720Z"
        },
        "hidden": true,
        "id": "PZ-Rdqm8aTSG"
      },
      "source": [
        "plt.subplot(1,3,1)\n",
        "sns.scatterplot(x='competition_distance',y='sales',data=aux1)\n",
        "\n",
        "plt.subplot(1,3,2)\n",
        "grafic = sns.barplot(x='competition_distance_binned', y = 'sales', data = aux2)\n",
        "plt.xticks(rotation=75)\n",
        "\n",
        "plt.subplot(1,3,3)\n",
        "sns.heatmap( aux1.corr( method = 'pearson'), annot = True );"
      ],
      "execution_count": null,
      "outputs": []
    },
    {
      "cell_type": "markdown",
      "metadata": {
        "hidden": true,
        "id": "dPZVMxs_aTSG"
      },
      "source": [
        "Veja o gráfico de correlação acima, Sales x Competition_Distance = -0.23... O negativo significa que temos uma razão inversamente proporcional, ou seja, quanto mais distante o concorrente está, menor a venda.\n",
        "\n",
        "Além disso, iremos utilizar a variável Competition_distance, pois ela tem -0.23 de correlação com SALES"
      ]
    },
    {
      "cell_type": "markdown",
      "metadata": {
        "hidden": true,
        "id": "ONAbcg13aTSG"
      },
      "source": [
        "<span style='color:blue'>**corr(method='pearson')** -> vai de -1 até 1... Ele analisa a correlação entre as variáveis da seguinte maneira, se for negativo, significa que são inversamente proporcionais, se for positivo significa que são diretamente proporcionais... se for zero, é por que não apresentam correlação, de modo geral quando mais próximo de zero menos correlação apresentam as variáveis."
      ]
    },
    {
      "cell_type": "markdown",
      "metadata": {
        "ExecuteTime": {
          "end_time": "2021-03-04T10:50:17.284520Z",
          "start_time": "2021-03-04T10:50:17.281646Z"
        },
        "heading_collapsed": true,
        "hidden": true,
        "id": "Rjy2MO6daTSG"
      },
      "source": [
        "### **Hipótese 3** Lojas com competidores à mais tempo deveriam vender mais \n",
        "\n",
        "<span style='color:red'>**FALSA**</span> vendem menos...\n",
        "\n",
        "\n",
        "<span style = 'color:green'>**insights** => Competidores mais tempo, vendem menos</span>\n",
        "\n",
        "<span style = 'color:blue'>**Relevância para o modelo** => minha visão: fraca, corr_pearson: -0.1 </span>"
      ]
    },
    {
      "cell_type": "code",
      "metadata": {
        "ExecuteTime": {
          "end_time": "2021-03-09T16:29:47.078212Z",
          "start_time": "2021-03-09T16:29:47.029483Z"
        },
        "hidden": true,
        "id": "XqFIgJ0OaTSH",
        "scrolled": true
      },
      "source": [
        "aux1 = df4[['competition_time_month','sales']].groupby('competition_time_month').sum().reset_index()\n",
        "aux1.tail()"
      ],
      "execution_count": null,
      "outputs": []
    },
    {
      "cell_type": "code",
      "metadata": {
        "ExecuteTime": {
          "end_time": "2021-03-09T16:29:52.330940Z",
          "start_time": "2021-03-09T16:29:47.083132Z"
        },
        "hidden": true,
        "id": "20_g5OShaTSI"
      },
      "source": [
        "sns.barplot(x=aux1['competition_time_month'], y = aux1['sales'])\n",
        "# ruim de enxergar..."
      ],
      "execution_count": null,
      "outputs": []
    },
    {
      "cell_type": "code",
      "metadata": {
        "ExecuteTime": {
          "end_time": "2021-03-09T16:29:55.922957Z",
          "start_time": "2021-03-09T16:29:52.333801Z"
        },
        "hidden": true,
        "id": "JnqkNcn4aTSI",
        "scrolled": false
      },
      "source": [
        "plt.subplot(1,3,1)\n",
        "# vamos fazer um filtro para visualizar melhor\n",
        "aux2 = aux1[ (aux1['competition_time_month'] <120) & (aux1['competition_time_month'] != 0) ]\n",
        "sns.barplot(x=aux2['competition_time_month'], y = aux2['sales'])\n",
        "plt.xticks(rotation=90);\n",
        "\n",
        "plt.subplot(1,3,2)\n",
        "sns.regplot(x = 'competition_time_month', y = 'sales', data = aux2)\n",
        "\n",
        "plt.subplot(1,3,3)\n",
        "sns.heatmap(aux1.corr(method='pearson'), annot = True)"
      ],
      "execution_count": null,
      "outputs": []
    },
    {
      "cell_type": "markdown",
      "metadata": {
        "hidden": true,
        "id": "Kc9UsKc4aTSJ"
      },
      "source": [
        "Apresenta uma correlação muito baixa, -0.1, talvez nem seja relevante para o modelo de Sales (vamos deixar ver a opinião do algorítimo depois)"
      ]
    },
    {
      "cell_type": "markdown",
      "metadata": {
        "heading_collapsed": true,
        "hidden": true,
        "id": "GJDmljs5aTSK"
      },
      "source": [
        "### **Hipótese 4** Lojas com promoções ativas por mais temo deveriam vender mais. \n",
        "\n",
        "<span style='color:red'>**FALSA**</span> vendem menos após um certo período de tempo\n",
        "\n",
        "\n",
        "<span style = 'color:green'>**insights** => Vendem menos, provavelmente deve ser um insight </span>\n",
        "\n",
        "<span style = 'color:blue'>**Relevância para o modelo** => minha visão: fraca, corr_pearson: -0.029 </span>"
      ]
    },
    {
      "cell_type": "code",
      "metadata": {
        "ExecuteTime": {
          "end_time": "2021-03-09T16:30:02.935215Z",
          "start_time": "2021-03-09T16:29:55.926354Z"
        },
        "hidden": true,
        "id": "Xug1LktraTSL"
      },
      "source": [
        "aux1 = df4[['promo_time_week','sales']].groupby('promo_time_week').sum().reset_index()\n",
        "#sns.barplot(x = 'promo_time_week', y = 'sales', data = aux1) # MUITOS DADOS... fazer filtro\n",
        "\n",
        "aux2 = aux1[aux1['promo_time_week'] > 0 ] # promo extendida\n",
        "aux3 = aux1[aux1['promo_time_week'] < 0 ] # promo normal\n",
        "\n",
        "plt.subplot(2,2,1)\n",
        "sns.barplot(x = 'promo_time_week', y = 'sales', data = aux2)\n",
        "plt.xticks(rotation=90);\n",
        "\n",
        "plt.subplot(2,2,2)\n",
        "sns.regplot(x = 'promo_time_week', y = 'sales', data = aux2)\n",
        "plt.xticks(rotation=90);\n",
        "\n",
        "plt.subplot(2,2,3)\n",
        "sns.barplot(x = 'promo_time_week', y = 'sales', data = aux3)\n",
        "plt.xticks(rotation=90);\n",
        "\n",
        "plt.subplot(2,2,4)\n",
        "sns.regplot(x = 'promo_time_week', y = 'sales', data = aux3)\n",
        "plt.xticks(rotation=90);"
      ],
      "execution_count": null,
      "outputs": []
    },
    {
      "cell_type": "code",
      "metadata": {
        "ExecuteTime": {
          "end_time": "2021-03-09T16:30:03.298966Z",
          "start_time": "2021-03-09T16:30:02.942015Z"
        },
        "hidden": true,
        "id": "w4WEbCRIaTSM"
      },
      "source": [
        "sns.heatmap(aux1.corr(),annot = True)"
      ],
      "execution_count": null,
      "outputs": []
    },
    {
      "cell_type": "markdown",
      "metadata": {
        "hidden": true,
        "id": "_wOAX7E3aTSN"
      },
      "source": [
        "Correlação muito baixa, de -0.029, talvez nem entre no modelo"
      ]
    },
    {
      "cell_type": "code",
      "metadata": {
        "hidden": true,
        "id": "W1BZzpbRaTSN"
      },
      "source": [
        ""
      ],
      "execution_count": null,
      "outputs": []
    },
    {
      "cell_type": "code",
      "metadata": {
        "hidden": true,
        "id": "A4DzFV07aTSN"
      },
      "source": [
        ""
      ],
      "execution_count": null,
      "outputs": []
    },
    {
      "cell_type": "code",
      "metadata": {
        "hidden": true,
        "id": "fDS7suM4aTSO"
      },
      "source": [
        ""
      ],
      "execution_count": null,
      "outputs": []
    },
    {
      "cell_type": "markdown",
      "metadata": {
        "heading_collapsed": true,
        "hidden": true,
        "id": "EvP0vWtOaTSO"
      },
      "source": [
        "### ~**Hipótese 5** Lojas com mais dias de promoção deveriam vender mais.~"
      ]
    },
    {
      "cell_type": "markdown",
      "metadata": {
        "heading_collapsed": true,
        "hidden": true,
        "id": "FMfPbeg3aTSO"
      },
      "source": [
        "### **Hipótese 6** Lojas com mais promoções consecutivas deveriam vender mais.\n",
        "\n",
        "<span style='color:red'>**FALSA**</span> Lojas com mais promoções consecutivas vendem menos\n",
        "\n",
        "\n",
        "<span style = 'color:green'>**insights** => Provavelmente será um insight</span>\n",
        "\n",
        "\n",
        "<span style = 'color:blue'>**Relevância para o modelo** => minha visão: fraca, corr_pearson: nda </span>"
      ]
    },
    {
      "cell_type": "code",
      "metadata": {
        "ExecuteTime": {
          "end_time": "2021-03-09T16:30:03.386751Z",
          "start_time": "2021-03-09T16:30:03.302233Z"
        },
        "hidden": true,
        "id": "olNOCXeqaTSO",
        "scrolled": true
      },
      "source": [
        "aux1 = df4[['promo','promo2','sales']].groupby(['promo','promo2']).sum().reset_index()\n",
        "aux1.head()"
      ],
      "execution_count": null,
      "outputs": []
    },
    {
      "cell_type": "code",
      "metadata": {
        "ExecuteTime": {
          "end_time": "2021-03-09T16:30:03.895214Z",
          "start_time": "2021-03-09T16:30:03.389622Z"
        },
        "hidden": true,
        "id": "bOZD-wIGaTSP"
      },
      "source": [
        "aux1 = df4[ ( df4['promo'] == 1 ) & ( df4['promo2'] == 1 )][['year_week','sales']].groupby('year_week').sum().reset_index()\n",
        "ax = aux1.plot()\n",
        "\n",
        "aux2 = df4[ ( df4['promo'] == 1 ) & ( df4['promo2'] == 0 )][['year_week','sales']].groupby('year_week').sum().reset_index()\n",
        "aux2.plot(ax=ax)\n",
        "\n",
        "ax.legend( labels = ['tradicional & extended','extended'] )"
      ],
      "execution_count": null,
      "outputs": []
    },
    {
      "cell_type": "markdown",
      "metadata": {
        "hidden": true,
        "id": "W1WqKWOIaTSP"
      },
      "source": [
        "Exceto pelo intervalo de 40 a 55, não houve uma variação significativa, logo não deve contribuir tanto para o aprendizado do modelo.\n",
        "\n",
        "Pois os modelos de ML aprendem de acordo com a variabilidade dos dados... se os dados carregam sempre comportamentos próximos, eles acabam por não evoluir mais... Por isso essa variável será de pouca importância para o modelo, pois só tem um trecho com informação relevante"
      ]
    },
    {
      "cell_type": "markdown",
      "metadata": {
        "code_folding": [
          0
        ],
        "heading_collapsed": true,
        "hidden": true,
        "id": "8WCnCSAjaTSP"
      },
      "source": [
        "### **Hipótese 7** Lojas abertas no feriado de natal deveriam vender mais\n",
        "\n",
        "<span style='color:red'>**FALSA**</span> No natal vende menos\n",
        "\n",
        "\n",
        "<span style = 'color:green'>**insights** => NÃO DEVERÁ SER... POIS PROVAVELMENTE AS EMPRESAS JÁ SABEM DISSO </span>\n",
        "\n",
        "\n",
        "<span style = 'color:blue'>**Relevância para o modelo** => minha visão:.... , corr_pearson: n dá para fazer com strings </span>"
      ]
    },
    {
      "cell_type": "code",
      "metadata": {
        "ExecuteTime": {
          "end_time": "2021-03-09T16:30:03.964661Z",
          "start_time": "2021-03-09T16:30:03.897190Z"
        },
        "hidden": true,
        "id": "eqVtGNqIaTSP"
      },
      "source": [
        "df4['state_holiday'].unique()"
      ],
      "execution_count": null,
      "outputs": []
    },
    {
      "cell_type": "code",
      "metadata": {
        "ExecuteTime": {
          "end_time": "2021-03-09T16:30:04.816251Z",
          "start_time": "2021-03-09T16:30:03.967997Z"
        },
        "hidden": true,
        "id": "ffQku6XeaTSQ"
      },
      "source": [
        "plt.subplot(1,2,1)\n",
        "aux = df4[df4['state_holiday']!='regular_day']\n",
        "aux1 = aux[['state_holiday','sales']].groupby('state_holiday').sum().reset_index()\n",
        "sns.barplot(x = 'state_holiday', y = 'sales', data = aux1);\n",
        "\n",
        "\n",
        "plt.subplot(1,2,2)\n",
        "aux2 = aux[['year','state_holiday','sales']].groupby(['year','state_holiday']).sum().reset_index()\n",
        "sns.barplot(x='year', y='sales', hue = 'state_holiday',data=aux2);"
      ],
      "execution_count": null,
      "outputs": []
    },
    {
      "cell_type": "markdown",
      "metadata": {
        "heading_collapsed": true,
        "hidden": true,
        "id": "VoNaQq4PaTSQ"
      },
      "source": [
        "### **Hipótese 8** Lojas deveriam vender mais ao longo dos anos\n",
        "\n",
        "<span style='color:red'>**FALSA**</span> vende menos\n",
        "\n",
        "\n",
        "<span style = 'color:green'>**insights** => NÃO DEVERÁ SER... POIS PROVAVELMENTE AS EMPRESAS JÁ SABEM DISSO </span>\n",
        "\n",
        "\n",
        "<span style = 'color:blue'>**Relevância para o modelo** => minha visão: Forte , corr_pearson: -0.92 </span>"
      ]
    },
    {
      "cell_type": "code",
      "metadata": {
        "ExecuteTime": {
          "end_time": "2021-03-09T16:30:05.584577Z",
          "start_time": "2021-03-09T16:30:04.818811Z"
        },
        "hidden": true,
        "id": "QkkAMsBYaTSQ"
      },
      "source": [
        "aux1 = df4[['year','sales']].groupby('year').sum().reset_index()\n",
        "\n",
        "plt.subplot(1,3,1)\n",
        "sns.barplot(x= 'year', y = 'sales', data = aux1);\n",
        "plt.subplot(1,3,2)\n",
        "sns.regplot(x= 'year', y = 'sales', data = aux1);\n",
        "plt.subplot(1,3,3)\n",
        "sns.heatmap(aux1.corr(),annot=True);"
      ],
      "execution_count": null,
      "outputs": []
    },
    {
      "cell_type": "markdown",
      "metadata": {
        "hidden": true,
        "id": "c8jpXyM_aTSR"
      },
      "source": [
        "Correlação Year x Sales = -0.92... uma correlação muito forte, indica que conforme os anos aumentam, as vendas vão caindo (por isso o negativo... indica uma decreção)"
      ]
    },
    {
      "cell_type": "markdown",
      "metadata": {
        "heading_collapsed": true,
        "hidden": true,
        "id": "eOPVv1RGaTSR"
      },
      "source": [
        "### **Hipótese 9** Lojas deveriam vender mais no segundo semetre do ano\n",
        "\n",
        "<span style='color:red'>**FALSA**</span> vendem menos\n",
        "\n",
        "\n",
        "<span style = 'color:green'>**insights** => Não gera um insight, pois depende muito do negócio da empresa... por exemplo, farmácias vendem menos no segundo semestre </span>\n",
        "\n",
        "\n",
        "<span style = 'color:blue'>**Relevância para o modelo** => minha visão: Forte , corr_pearson: -0.75 </span>"
      ]
    },
    {
      "cell_type": "code",
      "metadata": {
        "ExecuteTime": {
          "end_time": "2021-03-09T16:30:06.456737Z",
          "start_time": "2021-03-09T16:30:05.602725Z"
        },
        "hidden": true,
        "id": "Op2h3QKIaTSR"
      },
      "source": [
        "aux1 = df4[['month','sales']].groupby('month').sum().reset_index()\n",
        "\n",
        "plt.subplot(1,3,1)\n",
        "sns.barplot(x= 'month', y = 'sales', data = aux1);\n",
        "plt.subplot(1,3,2)\n",
        "sns.regplot(x= 'month', y = 'sales', data = aux1);\n",
        "plt.subplot(1,3,3)\n",
        "sns.heatmap(aux1.corr(),annot=True);"
      ],
      "execution_count": null,
      "outputs": []
    },
    {
      "cell_type": "markdown",
      "metadata": {
        "hidden": true,
        "id": "P7M3IjQUaTSR"
      },
      "source": [
        "As Lojas da Rossman vendem menos após o segundo semestre!!! "
      ]
    },
    {
      "cell_type": "markdown",
      "metadata": {
        "heading_collapsed": true,
        "hidden": true,
        "id": "9QfB01ilaTSS"
      },
      "source": [
        "### **Hipótese 10** Lojas deveriam vender mais depois do dia 10 de cada mês\n",
        "\n",
        "<span style='color:green'>**TRUE**</span> vendem mais após dia 10\n",
        "\n",
        "\n",
        "<span style = 'color:green'>**insights** => não deve ser um insight, pois as pessoas acompanham isso na empresa </span>\n",
        "\n",
        "\n",
        "<span style = 'color:blue'>**Relevância para o modelo** => minha visão: Média , corr_pearson: -0.35 </span>"
      ]
    },
    {
      "cell_type": "code",
      "metadata": {
        "ExecuteTime": {
          "end_time": "2021-03-09T16:30:07.780624Z",
          "start_time": "2021-03-09T16:30:06.470928Z"
        },
        "hidden": true,
        "id": "3uqBoQijaTSS",
        "scrolled": true
      },
      "source": [
        "aux1 = df4[['day','sales']].groupby('day').sum().reset_index()\n",
        "\n",
        "plt.subplot(2,2,1)\n",
        "sns.barplot(x= 'day', y = 'sales', data = aux1);\n",
        "\n",
        "plt.subplot(2,2,2)\n",
        "sns.regplot(x= 'day', y = 'sales', data = aux1);\n",
        "\n",
        "plt.subplot(2,2,3)\n",
        "sns.heatmap(aux1.corr(),annot=True);\n",
        "\n",
        "plt.subplot(2,2,4)\n",
        "aux1['before_after'] = aux1['day'].apply(lambda x: 'before_10_days' if x <= 10 else 'after_10_days'  )\n",
        "aux2 = aux1[['before_after','sales']].groupby('before_after').sum().reset_index()\n",
        "sns.barplot(x='before_after',y='sales',data=aux2)"
      ],
      "execution_count": null,
      "outputs": []
    },
    {
      "cell_type": "markdown",
      "metadata": {
        "hidden": true,
        "id": "sUf7NpioaTSS"
      },
      "source": [
        "Você vende menos antes dos 10 dias... porém, você tem desigualdade na quantidade de dias... antes dos 10 você tem 10 dias de venda... após você tem 20 em um mẽs"
      ]
    },
    {
      "cell_type": "markdown",
      "metadata": {
        "heading_collapsed": true,
        "hidden": true,
        "id": "2LT1LIEQaTST"
      },
      "source": [
        "### **Hipótese 11** Lojas deveriam vender menos aos finais de semana.\n",
        "\n",
        "\n",
        "<span style='color:green'>**TRUE**</span> vendem menos no fds\n",
        "\n",
        "\n",
        "<span style = 'color:green'>**insights** => não deve ser um insight, pois as pessoas acompanham isso na empresa </span>\n",
        "\n",
        "\n",
        "<span style = 'color:blue'>**Relevância para o modelo** => minha visão: Alta , corr_pearson: -0.76 </span>"
      ]
    },
    {
      "cell_type": "code",
      "metadata": {
        "ExecuteTime": {
          "end_time": "2021-03-09T16:30:08.627221Z",
          "start_time": "2021-03-09T16:30:07.789884Z"
        },
        "hidden": true,
        "id": "i9FtBSfdaTST",
        "scrolled": true
      },
      "source": [
        "aux1 = df4[['day_of_week','sales']].groupby('day_of_week').sum().reset_index()\n",
        "\n",
        "plt.subplot(1,3,1)\n",
        "sns.barplot(x= 'day_of_week', y = 'sales', data = aux1);\n",
        "\n",
        "plt.subplot(1,3,2)\n",
        "sns.regplot(x= 'day_of_week', y = 'sales', data = aux1);\n",
        "\n",
        "plt.subplot(1,3,3)\n",
        "sns.heatmap(aux1.corr(),annot=True);\n",
        "\n"
      ],
      "execution_count": null,
      "outputs": []
    },
    {
      "cell_type": "markdown",
      "metadata": {
        "hidden": true,
        "id": "ElchKUoTaTST"
      },
      "source": [
        "Muitas empresas nem sabem disso, interessante observar que Segundas, terça e sexta são dias bem movimentados... já os finais de semana não"
      ]
    },
    {
      "cell_type": "markdown",
      "metadata": {
        "heading_collapsed": true,
        "hidden": true,
        "id": "7hE78W4PaTSU"
      },
      "source": [
        "### **Hipótese 12** Lojas deveriam vender menos durante os feriados escolares.\n",
        "\n",
        "Depende do mês, pode ocorrer uma inversão\n",
        "\n",
        "\n",
        "<span style='color:green'>**TRUE**</span> vendem menos durante os feriados escolares, exceto nos meses de <span style='color:red'>julho e agosto\n",
        "\n",
        "\n",
        "<span style = 'color:green'>**insights** => não deve ser um insight, pois as pessoas acompanham isso na empresa </span>\n",
        "\n",
        "\n",
        "<span style = 'color:blue'>**Relevância para o modelo** => minha visão: Média pra forte (por causa dos meses 7 e 8 ter essa inversão de gastos nos feriados escolares com relação aos outros meses, isso provavelmente irá ser relevante para o modelo) , corr_pearson: -0.22 e -0.82 </span>"
      ]
    },
    {
      "cell_type": "code",
      "metadata": {
        "ExecuteTime": {
          "end_time": "2021-03-09T16:30:09.404388Z",
          "start_time": "2021-03-09T16:30:08.630379Z"
        },
        "hidden": true,
        "id": "WBif9blsaTSU"
      },
      "source": [
        "plt.subplot(2,1,1)\n",
        "aux1 = df4[['school_holiday','sales']].groupby('school_holiday').sum().reset_index()\n",
        "sns.barplot(x='school_holiday',y='sales',data=aux1)\n",
        "\n",
        "plt.subplot(2,1,2)\n",
        "aux2 = df4[['month','school_holiday','sales']].groupby(['month','school_holiday']).sum().reset_index()\n",
        "sns.barplot(x='month',y='sales',hue='school_holiday',data=aux2);"
      ],
      "execution_count": null,
      "outputs": []
    },
    {
      "cell_type": "code",
      "metadata": {
        "ExecuteTime": {
          "end_time": "2021-03-09T16:30:09.960018Z",
          "start_time": "2021-03-09T16:30:09.407922Z"
        },
        "hidden": true,
        "id": "wudasQFyaTSU",
        "scrolled": false
      },
      "source": [
        "sns.heatmap( aux2.corr(),annot=True)"
      ],
      "execution_count": null,
      "outputs": []
    },
    {
      "cell_type": "markdown",
      "metadata": {
        "hidden": true,
        "id": "jZYsOJfAaTSU"
      },
      "source": [
        "## 4.3 Análise Multivariada\n",
        "\n",
        "Analisa-se várias variáveis ao mesmo tempo com o resultado e também analisa-se as variáveis entre sí.\n",
        "\n",
        "**funcionamento** - Os modelos de ML tem como uma das premissas a navalha de Occam, o qual **um modelo com menos complexidade deve alcançar um aprendizado mais generelizado**. Uma das maneiras de se diminuir a complexidade de um modelo é **diminuindo o número de informações não relevantes**. Uma dessas informações não relevantes são colunas que contém **características semelhantes**. Uma solução para auxiliar a remoção das variáveis com perfil mais parecido, seria o clustermap, o qual é uma boa forma de minimizar a complexidade do modelo. Lembrando, que o Clustermap, agrupa as linhas e colunas com mais informações similares, e apartir delas cria-se clusters... o qual esses cluster começam a ser comparado com outras colunas/linhas e forma novos clusters... até chegar no último cluster."
      ]
    },
    {
      "cell_type": "markdown",
      "metadata": {
        "heading_collapsed": true,
        "hidden": true,
        "id": "MNyP1CBMaTSV"
      },
      "source": [
        "### 4.3.1 Numerical Attribute"
      ]
    },
    {
      "cell_type": "code",
      "metadata": {
        "ExecuteTime": {
          "end_time": "2021-03-09T16:30:12.495910Z",
          "start_time": "2021-03-09T16:30:09.964314Z"
        },
        "hidden": true,
        "id": "JFlNXgVjaTSV",
        "scrolled": true
      },
      "source": [
        "correlation = num_attributes.corr()\n",
        "\n",
        "sns.heatmap(correlation,annot=True)"
      ],
      "execution_count": null,
      "outputs": []
    },
    {
      "cell_type": "markdown",
      "metadata": {
        "hidden": true,
        "id": "RM-2YRSyaTSV"
      },
      "source": [
        "Observe que a correlação de SALES e CUSTOMERS é muito alta 0.89, que indica uma alta correlação, e além disso é possitiva, que significa que quanto mais costumers na loja, mais vendas teremos. O único problema, é que não temos a quantidade de costumers nas próximas 6 semanas... então é uma variável descartada já... ( a não ser que você faça um machinea Learning para prever quantos Costumers teremos na loja nas próximas 6 semanas... e insira o valor dos customers neste projeto final)"
      ]
    },
    {
      "cell_type": "markdown",
      "metadata": {
        "heading_collapsed": true,
        "hidden": true,
        "id": "5XqGnmfVaTSV"
      },
      "source": [
        "### 4.3.2 Categorical Attribute"
      ]
    },
    {
      "cell_type": "markdown",
      "metadata": {
        "hidden": true,
        "id": "hylEWdLgaTSW"
      },
      "source": [
        "O problema, é que não podemos usar a função corr() aplicando o método de pearson aqui, pois esse método não consegue ser aplicado entre atributos categóricos e entre atributos categóricos e numéricos. Logo iremos usar o método **Cramer V**. Vale lembrar que o V de Cramer vai de 0 até 1... Logo, não é igual ao pearson que correlaciona de -1 até 1."
      ]
    },
    {
      "cell_type": "code",
      "metadata": {
        "ExecuteTime": {
          "end_time": "2021-03-09T16:30:12.561250Z",
          "start_time": "2021-03-09T16:30:12.498367Z"
        },
        "hidden": true,
        "id": "HIsQxCdiaTSW",
        "scrolled": false
      },
      "source": [
        "# Pegar novamente os atributos de categoria (execeto o year_week que está como OBJECT mas é data)\n",
        "a = df4.select_dtypes(include='object')\n",
        "a.head()"
      ],
      "execution_count": null,
      "outputs": []
    },
    {
      "cell_type": "markdown",
      "metadata": {
        "hidden": true,
        "id": "TY-NH9_FaTSW"
      },
      "source": [
        "<img src = \"./img/cramer_v.png\">"
      ]
    },
    {
      "cell_type": "code",
      "metadata": {
        "ExecuteTime": {
          "end_time": "2021-03-09T16:30:12.798524Z",
          "start_time": "2021-03-09T16:30:12.564886Z"
        },
        "hidden": true,
        "id": "NF4qnxbNaTSW"
      },
      "source": [
        "pd.crosstab(a['state_holiday'],a['store_type']) # Confuse Matriz"
      ],
      "execution_count": null,
      "outputs": []
    },
    {
      "cell_type": "code",
      "metadata": {
        "ExecuteTime": {
          "end_time": "2021-03-09T16:30:12.813220Z",
          "start_time": "2021-03-09T16:30:12.800773Z"
        },
        "hidden": true,
        "id": "07JovQy7aTSX"
      },
      "source": [
        "\"\"\"def cramer_v(x,y): # Sem correcao\n",
        "    cm = pd.crosstab(x,y).as_matrix() # Confuse Matriz\n",
        "    chi2 = ss.chi2_contingency( cm )[0] # Chi2 derivado de Pearson # cm = Confuse Matriz\n",
        "    n = cm.sum()\n",
        "    r, k = cm.shape\n",
        "    v = np.sqrt( ( chi2 / n ) / min( k-1 , r-1 ) )\n",
        "    return v\"\"\""
      ],
      "execution_count": null,
      "outputs": []
    },
    {
      "cell_type": "code",
      "metadata": {
        "ExecuteTime": {
          "end_time": "2021-03-09T16:30:13.100903Z",
          "start_time": "2021-03-09T16:30:12.816593Z"
        },
        "hidden": true,
        "id": "jSH8vLzBaTSX"
      },
      "source": [
        "cramer_v(a['state_holiday'],a['store_type'])"
      ],
      "execution_count": null,
      "outputs": []
    },
    {
      "cell_type": "markdown",
      "metadata": {
        "hidden": true,
        "id": "g2X-DbL-aTSY"
      },
      "source": [
        "<img src = \"./img/cramer_v_correcao.png\">"
      ]
    },
    {
      "cell_type": "code",
      "metadata": {
        "ExecuteTime": {
          "end_time": "2021-03-09T16:30:13.109953Z",
          "start_time": "2021-03-09T16:30:13.103592Z"
        },
        "hidden": true,
        "id": "NdACc8Y-aTSZ"
      },
      "source": [
        "\"\"\"# Fazer correcao\n",
        "def cramer_v(x,y):\n",
        "    cm = pd.crosstab(x,y).as_matrix() # Confuse Matriz\n",
        "    chi2 = ss.chi2_contingency( cm )[0] # Chi2 derivado de Pearson # cm = Confuse Matriz\n",
        "    n = cm.sum()\n",
        "    r, k = cm.shape\n",
        "    \n",
        "    \n",
        "    chi2corr = max(0, chi2 - (k-1)*(r-1)/(n-1))\n",
        "    kcorr = k - (k-1)**2/(n-1)\n",
        "    rcorr = r - (r-1)**2/(n-1)\n",
        "\n",
        "    v = np.sqrt( ( chi2corr / n ) / min( kcorr-1 , rcorr-1 ) )\n",
        "    return v\n",
        "\"\"\""
      ],
      "execution_count": null,
      "outputs": []
    },
    {
      "cell_type": "code",
      "metadata": {
        "ExecuteTime": {
          "end_time": "2021-03-09T16:30:13.367731Z",
          "start_time": "2021-03-09T16:30:13.113808Z"
        },
        "hidden": true,
        "id": "LbPAxVhIaTSZ",
        "scrolled": true
      },
      "source": [
        "cramer_v(a['state_holiday'],a['store_type'])"
      ],
      "execution_count": null,
      "outputs": []
    },
    {
      "cell_type": "code",
      "metadata": {
        "ExecuteTime": {
          "end_time": "2021-03-09T16:30:14.738212Z",
          "start_time": "2021-03-09T16:30:13.370935Z"
        },
        "hidden": true,
        "id": "8RH4qeWXaTSa",
        "scrolled": true
      },
      "source": [
        "a1 = cramer_v(a['state_holiday'],a['state_holiday'])\n",
        "a2 = cramer_v(a['state_holiday'],a['store_type'])\n",
        "a3 = cramer_v(a['state_holiday'],a['assortment'])\n",
        "\n",
        "a4 = cramer_v(a['store_type'],a['state_holiday'])\n",
        "a5 = cramer_v(a['store_type'],a['store_type'])\n",
        "a6 = cramer_v(a['store_type'],a['assortment'])\n",
        "\n",
        "a7 = cramer_v(a['assortment'],a['state_holiday'])\n",
        "a8 = cramer_v(a['assortment'],a['store_type'])\n",
        "a9 = cramer_v(a['assortment'],a['assortment'])\n",
        "\n",
        "d = pd.DataFrame( {\n",
        "    'state_holiday': [a1,a2,a3],\n",
        "    'store_type': [a4,a5,a6],\n",
        "    'assortment': [a7,a8,a9]\n",
        "})\n",
        "\n",
        "d"
      ],
      "execution_count": null,
      "outputs": []
    },
    {
      "cell_type": "code",
      "metadata": {
        "ExecuteTime": {
          "end_time": "2021-03-09T16:30:14.756957Z",
          "start_time": "2021-03-09T16:30:14.741302Z"
        },
        "hidden": true,
        "id": "4XJCbymtaTSb"
      },
      "source": [
        "d = d.set_index(d.columns)\n",
        "d"
      ],
      "execution_count": null,
      "outputs": []
    },
    {
      "cell_type": "code",
      "metadata": {
        "ExecuteTime": {
          "end_time": "2021-03-09T16:30:15.384644Z",
          "start_time": "2021-03-09T16:30:14.759829Z"
        },
        "hidden": true,
        "id": "_jKjm72eaTSc"
      },
      "source": [
        "# Agora finalmente podemos fazer o gráfico de\n",
        "# correlaçao com o heatmap\n",
        "\n",
        "sns.heatmap(d,annot=True)"
      ],
      "execution_count": null,
      "outputs": []
    },
    {
      "cell_type": "markdown",
      "metadata": {
        "id": "YDUCvr_0aTSc"
      },
      "source": [
        "# 5.0 Passo 5 - Preparação dos Dados"
      ]
    },
    {
      "cell_type": "code",
      "metadata": {
        "ExecuteTime": {
          "end_time": "2021-03-09T16:30:15.490073Z",
          "start_time": "2021-03-09T16:30:15.388057Z"
        },
        "id": "Bt9_cUQ6aTSd"
      },
      "source": [
        "df5 = df4.copy()"
      ],
      "execution_count": null,
      "outputs": []
    },
    {
      "cell_type": "markdown",
      "metadata": {
        "ExecuteTime": {
          "end_time": "2021-03-05T19:18:38.860895Z",
          "start_time": "2021-03-05T19:18:38.855807Z"
        },
        "id": "J56acW-MaTSd"
      },
      "source": [
        "**Três tipos de preparação dos dados**\n",
        "\n",
        "**normalização**\n",
        "- Rescala o centro para 0 com desvio-padrão igual a 1. (modo geral, maior valor vale 1 e o resto é a razão dele)\n",
        "- Utilizada para <span style='color:blue'>distribuições Normais (gaussiana)\n",
        "\n",
        "**rescaling**\n",
        "- Rescala para o intervalo entre 0 e 1\n",
        "- útil para distribuições <span style='color:red'> NÃO Gaussianas (Normal)\n",
        "\n",
        "  \n",
        "**Transformação de Grandeza e Natureza**   \n",
        "\n",
        "A trasnformação de grandeza tem como objetivo trazer a sua variável resposta mais próximo possível de uma Gaussiana/Normal. A transformação de Natureza tem como objetivo trazer a natureza real dos seus dados. Exemplo de transformação de grandeza, os algorítims de ML foram criados em cima de algumas premissas, uma delas é que as dados apresentem uma distribuição normal, sendo assim, quanto mais próximo de uma normal, melhor será a accuracy do seu modelo.\n",
        "    \n",
        "**transformação tipo 1 - (encoding)**\n",
        "- Conversão de Features categóricas para numérica\n",
        "\n",
        "**trasnformação tipo 2 - transformação de Natureza**\n",
        "- Ele pega características cíclicas e passa isso para o modelo (exemplo: 12 meses dentro de 1 ano... veja que 12 meses é ciclico). Logo, JAN está longe de DEZ do mesmo ano, mas no ano posterior DEZ está próximo de JAN, então ela tenta equilibrar essa diferença.\n",
        "\n",
        "\n",
        "**OBSERVAÇÃO**\n",
        "- Encode -> Fazer variáveis categóricas virarem NÚMEROS\n",
        "\n",
        "- Normalização da escala -> é necessário normalizar a escala, pois os modelos tendem a dar mais importância para variáveis com ranges maiores."
      ]
    },
    {
      "cell_type": "markdown",
      "metadata": {
        "heading_collapsed": true,
        "id": "ZdyljgqNaTSd"
      },
      "source": [
        "## 5.1 Normalização\n",
        "\n",
        "Não temos distribuição com aspecto gaussiano para aplicar"
      ]
    },
    {
      "cell_type": "markdown",
      "metadata": {
        "id": "p4wwjRPPaTSe"
      },
      "source": [
        "## 5.2 Rescaling"
      ]
    },
    {
      "cell_type": "markdown",
      "metadata": {
        "id": "2MztS7EdaTSe"
      },
      "source": [
        "**Min-Max Scaler**\n",
        "\n",
        "$\\Large x_{new} = \\frac{x_{i}- \\mu}{x_{max}-x_{min}}$\n",
        "\n",
        "Grande problema de se aplicar essa transformação é na presença de OUTLIERS, pois ela colocar os valores muito próximo de ZERO."
      ]
    },
    {
      "cell_type": "markdown",
      "metadata": {
        "id": "a4L4zHkFaTSe"
      },
      "source": [
        "**Robust Scaler**\n",
        "\n",
        "$\\Large x_{new} = \\frac{x_{i}- Q_{1}(x)}{ Q_{3}(x)-  Q_{1}(x)}$\n",
        "\n",
        "Aplicando esta transformação, o problema dos OUTLIERS não irão interferir mais, pois você se baseia na diferença entre os (quartis) Q1 e Q3... que é onde estão a maior concentração de valores"
      ]
    },
    {
      "cell_type": "code",
      "metadata": {
        "ExecuteTime": {
          "end_time": "2021-03-09T16:30:15.500865Z",
          "start_time": "2021-03-09T16:30:15.492314Z"
        },
        "id": "VeYokQqPaTSe"
      },
      "source": [
        "# Variáveis Não cíclicas\n",
        "\n",
        "# Competition Distance\n",
        "# year\n",
        "# competition time month\n",
        "# promo time week"
      ],
      "execution_count": null,
      "outputs": []
    },
    {
      "cell_type": "markdown",
      "metadata": {
        "id": "aHdCz8_1aTSe"
      },
      "source": [
        "Agora eu irei definir quais transformações utilizar, **se tiver outliers... uso a Robust Scaler**, caso contrário, **irei utilizar a Min-Max Scaler**."
      ]
    },
    {
      "cell_type": "code",
      "metadata": {
        "ExecuteTime": {
          "end_time": "2021-03-09T16:30:16.697968Z",
          "start_time": "2021-03-09T16:30:15.503962Z"
        },
        "id": "i7IQ0bRYaTSf",
        "scrolled": true
      },
      "source": [
        "sns.boxplot(df5['competition_distance'])\n",
        "\n",
        "# TEM OUTLIEARs"
      ],
      "execution_count": null,
      "outputs": []
    },
    {
      "cell_type": "code",
      "metadata": {
        "ExecuteTime": {
          "end_time": "2021-03-09T16:30:17.372450Z",
          "start_time": "2021-03-09T16:30:16.701164Z"
        },
        "id": "gwItq411aTSf",
        "scrolled": true
      },
      "source": [
        "sns.boxplot(df5['competition_time_month'])\n",
        "\n",
        "# TEM OUTLIEARs"
      ],
      "execution_count": null,
      "outputs": []
    },
    {
      "cell_type": "code",
      "metadata": {
        "ExecuteTime": {
          "end_time": "2021-03-09T16:30:18.043896Z",
          "start_time": "2021-03-09T16:30:17.375593Z"
        },
        "id": "aFwL17SnaTSf",
        "scrolled": true
      },
      "source": [
        "sns.boxplot(df5['promo_time_week'])\n",
        "\n",
        "# Os OUTLIEARs NÃO são relevantes"
      ],
      "execution_count": null,
      "outputs": []
    },
    {
      "cell_type": "code",
      "metadata": {
        "ExecuteTime": {
          "end_time": "2021-03-09T16:30:18.630636Z",
          "start_time": "2021-03-09T16:30:18.046903Z"
        },
        "id": "x8QMpUDdaTSg",
        "scrolled": false
      },
      "source": [
        "sns.boxplot(df5['year'])\n",
        "# Os OUTLIEARs NÃO são relevantes"
      ],
      "execution_count": null,
      "outputs": []
    },
    {
      "cell_type": "code",
      "metadata": {
        "ExecuteTime": {
          "end_time": "2021-03-09T16:30:18.640101Z",
          "start_time": "2021-03-09T16:30:18.637216Z"
        },
        "id": "CxaSuD9VaTSg"
      },
      "source": [
        "#from sklearn.preprocessing import RobustScaler, MinMaxScaler"
      ],
      "execution_count": null,
      "outputs": []
    },
    {
      "cell_type": "code",
      "metadata": {
        "ExecuteTime": {
          "end_time": "2021-03-09T16:30:19.063142Z",
          "start_time": "2021-03-09T16:30:18.644891Z"
        },
        "id": "bBbh4QtjaTSg"
      },
      "source": [
        "# Variáveis Não cíclicas\n",
        "rs = RobustScaler()\n",
        "mms = MinMaxScaler()\n",
        "# Competition Distance (Robust Scaler)\n",
        "df5['competition_distance']= rs.fit_transform( df5[['competition_distance']].values )\n",
        "# competition time month (Robust Scaler)\n",
        "df5['competition_time_month']= rs.fit_transform( df5[['competition_time_month']].values )\n",
        "# promo time week (MinMaxScaler)\n",
        "df5['promo_time_week']= mms.fit_transform( df5[['promo_time_week']].values )\n",
        "# year\n",
        "df5['year']= mms.fit_transform( df5[['year']].values )\n"
      ],
      "execution_count": null,
      "outputs": []
    },
    {
      "cell_type": "code",
      "metadata": {
        "ExecuteTime": {
          "end_time": "2021-03-09T16:30:19.078791Z",
          "start_time": "2021-03-09T16:30:19.065347Z"
        },
        "id": "5zWngXJBaTSg"
      },
      "source": [
        "# Veja como ele escalou os anos... 1; 0.5; 0\n",
        "pd.unique(df5['year']) # temos só 3 anos"
      ],
      "execution_count": null,
      "outputs": []
    },
    {
      "cell_type": "code",
      "metadata": {
        "ExecuteTime": {
          "end_time": "2021-03-09T16:30:19.225790Z",
          "start_time": "2021-03-09T16:30:19.081191Z"
        },
        "id": "7PCOXmyAaTSh"
      },
      "source": [
        "df5[['competition_distance','competition_time_month','promo_time_week','year']].sample(5)\n"
      ],
      "execution_count": null,
      "outputs": []
    },
    {
      "cell_type": "markdown",
      "metadata": {
        "id": "0ICVDHzWaTSh"
      },
      "source": [
        "## 5.3 Transformation"
      ]
    },
    {
      "cell_type": "markdown",
      "metadata": {
        "id": "NfkJBdJoaTSi"
      },
      "source": [
        "**encoding**\n",
        "\n",
        "Existem mais de 10 tipos de encodings para variáveis categóricas. Qual utilizar? Somente com um bom feeling você saberá qual usar. Vamos analisar um por um dos mais utilizados."
      ]
    },
    {
      "cell_type": "markdown",
      "metadata": {
        "ExecuteTime": {
          "end_time": "2021-03-07T00:23:55.893669Z",
          "start_time": "2021-03-07T00:23:55.796668Z"
        },
        "heading_collapsed": true,
        "id": "BCUIe0XAaTSi"
      },
      "source": [
        "### One Hot Encoding"
      ]
    },
    {
      "cell_type": "markdown",
      "metadata": {
        "ExecuteTime": {
          "end_time": "2021-03-07T01:12:47.755467Z",
          "start_time": "2021-03-07T01:12:47.747626Z"
        },
        "hidden": true,
        "id": "KdoMhp0kaTSi"
      },
      "source": [
        "<img src = './img/one_hot_encoding.png'>\n",
        "\n",
        "Grande problema é que ele cria muitas colunas quando você tem muitos níveis de categoria... Isso bate de frento com o que discutimos anteriormente sobre a Navalha de Occam (quanto mais colunas, mais complexo, menor a generalização em ML)\n",
        "\n",
        "Quando utilizar: Variáveis categóricas que representam ESTADO, exemplo: Aberto/Fechado , dia normal / Feriado ...."
      ]
    },
    {
      "cell_type": "markdown",
      "metadata": {
        "ExecuteTime": {
          "end_time": "2021-03-07T00:23:55.893669Z",
          "start_time": "2021-03-07T00:23:55.796668Z"
        },
        "heading_collapsed": true,
        "id": "mNvayzxGaTSj"
      },
      "source": [
        "### Label Encoding"
      ]
    },
    {
      "cell_type": "markdown",
      "metadata": {
        "hidden": true,
        "id": "UBDQP-aWaTSj"
      },
      "source": [
        "<img src = './img/label_encoding.png'>\n",
        "\n",
        "Troca os tipos das variáveis categóricas por números.\n",
        "\n",
        "Quando funciona bem: Quando você tem variáveis que são nomes, algo que não tem uma relação... exemplo: nomes"
      ]
    },
    {
      "cell_type": "markdown",
      "metadata": {
        "ExecuteTime": {
          "end_time": "2021-03-07T00:23:55.893669Z",
          "start_time": "2021-03-07T00:23:55.796668Z"
        },
        "heading_collapsed": true,
        "id": "hqGg2i0oaTSj"
      },
      "source": [
        "### Ordinal Encoding"
      ]
    },
    {
      "cell_type": "markdown",
      "metadata": {
        "hidden": true,
        "id": "jXyCeKOJaTSj"
      },
      "source": [
        "<img src = './img/ordinal_encoding.png'>\n",
        "\n",
        "É muito utilizado quando você tem relação de ordem de maior pro menor ou algo do tipo (exemplo temperatura).Por exemplo, cores, é algo que não precisamos utilizar o Ordinal... pois não há ORDEM ... neste caso das cores poderia utilizar Label Encoding, pois ele é apenas para transformar os nomes em números sem qualquer relação"
      ]
    },
    {
      "cell_type": "markdown",
      "metadata": {
        "ExecuteTime": {
          "end_time": "2021-03-07T00:23:55.893669Z",
          "start_time": "2021-03-07T00:23:55.796668Z"
        },
        "heading_collapsed": true,
        "id": "wbH4A49daTSk"
      },
      "source": [
        "### Target Encoding"
      ]
    },
    {
      "cell_type": "markdown",
      "metadata": {
        "hidden": true,
        "id": "SCfiKPvEaTSk"
      },
      "source": [
        "<img src = './img/target_encoding.png'>\n",
        "\n",
        "O nome Target surgiu pois ele leva em consideração a variável resposta (neste caso vendas). Exemplo com a temperatura, se sua loja vendeu mais em dias Hot, então ele terá um valor maior do que para dias Cold."
      ]
    },
    {
      "cell_type": "markdown",
      "metadata": {
        "ExecuteTime": {
          "end_time": "2021-03-07T00:23:55.893669Z",
          "start_time": "2021-03-07T00:23:55.796668Z"
        },
        "heading_collapsed": true,
        "id": "zYI0roUqaTSk"
      },
      "source": [
        "### Frequency Encoding"
      ]
    },
    {
      "cell_type": "markdown",
      "metadata": {
        "ExecuteTime": {
          "end_time": "2021-03-07T01:13:52.484998Z",
          "start_time": "2021-03-07T01:13:52.478718Z"
        },
        "hidden": true,
        "id": "ZUwfH_4zaTSl"
      },
      "source": [
        "<img src = './img/frequency_encoding.png'>\n",
        "\n",
        "Muito parecido com o Target, mas neste caso, ele encontra esses valores por contagens de ocorrências. Exemplo: Marca de carros"
      ]
    },
    {
      "cell_type": "markdown",
      "metadata": {
        "ExecuteTime": {
          "end_time": "2021-03-07T00:23:55.893669Z",
          "start_time": "2021-03-07T00:23:55.796668Z"
        },
        "heading_collapsed": true,
        "id": "rV0eMiSiaTSl"
      },
      "source": [
        "### Embedding Encoding"
      ]
    },
    {
      "cell_type": "markdown",
      "metadata": {
        "hidden": true,
        "id": "RyXs0dC8aTSl"
      },
      "source": [
        "<img src = './img/embedding_encoding.png'>\n",
        "\n",
        "Muito utilizado em NLP ( neuro-linguistic Programming)"
      ]
    },
    {
      "cell_type": "markdown",
      "metadata": {
        "code_folding": [],
        "id": "JEnO07i6aTSl"
      },
      "source": [
        "### 5.3.1 Encoding"
      ]
    },
    {
      "cell_type": "code",
      "metadata": {
        "ExecuteTime": {
          "end_time": "2021-03-09T16:30:19.344668Z",
          "start_time": "2021-03-09T16:30:19.229088Z"
        },
        "id": "4KHZLw5naTSm"
      },
      "source": [
        "#from sklearn.preprocessing import LabelEncoder"
      ],
      "execution_count": null,
      "outputs": []
    },
    {
      "cell_type": "code",
      "metadata": {
        "ExecuteTime": {
          "end_time": "2021-03-09T16:30:20.002751Z",
          "start_time": "2021-03-09T16:30:19.346864Z"
        },
        "code_folding": [],
        "id": "QzDOLKT2aTSm"
      },
      "source": [
        "# state_holiday - One hot Encoding\n",
        "df5 = pd.get_dummies(df5,prefix=['state_holiday'],columns=['state_holiday'])\n",
        "\n",
        "# store_type - Label Encoding (vamos trocar apenas as letras por números, pois não há uma ordem de grandeza)\n",
        "le = LabelEncoder()\n",
        "df5['store_type']= le.fit_transform(df5['store_type'])\n",
        "\n",
        "# assortment - Ordinak Encoding ( existem uma ordem de grandeza agora, basic < extra < extended )\n",
        "assortment_dict = {'basic':1,'extra':2, 'extended':3} \n",
        "df5['assortment'] = df5['assortment'].map(assortment_dict)"
      ],
      "execution_count": null,
      "outputs": []
    },
    {
      "cell_type": "markdown",
      "metadata": {
        "id": "7zvD3inKaTSm"
      },
      "source": [
        "### 5.3.2 Transformação da Variável <span style='color:red'> Resposta (Sales)"
      ]
    },
    {
      "cell_type": "markdown",
      "metadata": {
        "id": "dPQmpgTgaTSm"
      },
      "source": [
        "Objetivo de Todas as transformações: Tenta trazer distribuições que apresentam um skew mais a direita ou esquerda, mais próximo de uma normal.\n",
        "\n",
        "**logarithm Transformation** -Aplicar o Log em todas as variáveis resposta.\n",
        "\n",
        "**Box-Cox Transformation** - (Formula)\n",
        "\n",
        "**Cube-Root Transformation** - Extrair a raiz cúbica de todos os valores.\n",
        "\n",
        "**Square-Root Transformation** - Extrair a raiz quadrada de todos os valores.\n",
        "\n",
        "**Sine and Cosine Transformation** - ... seno e cosseno.\n"
      ]
    },
    {
      "cell_type": "markdown",
      "metadata": {
        "id": "sttaHp5kaTSm"
      },
      "source": [
        "#### 5.3.2.1 Logarithm Transformation"
      ]
    },
    {
      "cell_type": "code",
      "metadata": {
        "ExecuteTime": {
          "end_time": "2021-03-09T16:30:26.880302Z",
          "start_time": "2021-03-09T16:30:20.004831Z"
        },
        "id": "Pkvf-ZFmaTSn",
        "scrolled": true
      },
      "source": [
        "# Distribuição das vendas antes da transformação\n",
        "plt.subplot(1,2,1)\n",
        "sns.distplot(df5['sales'])\n",
        "\n",
        "# aplicando a transformação Log\n",
        "plt.subplot(1,2,2)\n",
        "df5['sales_log'] = np.log1p(df5['sales'])\n",
        "sns.distplot(df5['sales_log'])\n",
        "\n"
      ],
      "execution_count": null,
      "outputs": []
    },
    {
      "cell_type": "markdown",
      "metadata": {
        "id": "LX42MeUqaTSn"
      },
      "source": [
        "#### 5.3.2.2 Box-Cox Transformation"
      ]
    },
    {
      "cell_type": "code",
      "metadata": {
        "ExecuteTime": {
          "end_time": "2021-03-09T16:30:36.913843Z",
          "start_time": "2021-03-09T16:30:26.882513Z"
        },
        "id": "kQf8Rlp5aTSn",
        "scrolled": false
      },
      "source": [
        "# Distribuição das vendas antes da transformação\n",
        "plt.subplot(1,2,1)\n",
        "sns.distplot(df5['sales'])\n",
        "\n",
        "# aplicando a transformação Box Cox\n",
        "plt.subplot(1,2,2)\n",
        "df5['sales_box'] = ss.boxcox(df5['sales'])[0]\n",
        "sns.distplot(df5['sales_box'])\n",
        "\n"
      ],
      "execution_count": null,
      "outputs": []
    },
    {
      "cell_type": "markdown",
      "metadata": {
        "id": "mp2x2Aa5aTSo"
      },
      "source": [
        "#### 5.3.2.3 Square-Root Transformation"
      ]
    },
    {
      "cell_type": "code",
      "metadata": {
        "ExecuteTime": {
          "end_time": "2021-03-09T16:30:45.163270Z",
          "start_time": "2021-03-09T16:30:36.916922Z"
        },
        "id": "I-iD_B72aTSo",
        "scrolled": false
      },
      "source": [
        "# Distribuição das vendas antes da transformação\n",
        "plt.subplot(1,2,1)\n",
        "sns.distplot(df5['sales'])\n",
        "\n",
        "# aplicando a transformação Square-Root\n",
        "plt.subplot(1,2,2)\n",
        "df5['sales_sqrt'] = np.sqrt(df5['sales'])\n",
        "sns.distplot(df5['sales_sqrt'])"
      ],
      "execution_count": null,
      "outputs": []
    },
    {
      "cell_type": "markdown",
      "metadata": {
        "id": "rw6e7jCBaTSo"
      },
      "source": [
        "#### 5.3.2.4 Qual se aproxima mais de uma normal? Escolha"
      ]
    },
    {
      "cell_type": "code",
      "metadata": {
        "ExecuteTime": {
          "end_time": "2021-03-09T16:30:57.275589Z",
          "start_time": "2021-03-09T16:30:45.166538Z"
        },
        "id": "_VifgjqGaTSp",
        "scrolled": true
      },
      "source": [
        "# Compare\n",
        "sns.distplot(df5['sales_log'],label = 'log')\n",
        "sns.distplot(df5['sales_sqrt'], label= 'sqrt')\n",
        "sns.distplot(df5['sales_box'], label= 'box')\n",
        "plt.legend()"
      ],
      "execution_count": null,
      "outputs": []
    },
    {
      "cell_type": "code",
      "metadata": {
        "ExecuteTime": {
          "end_time": "2021-03-09T16:30:57.862847Z",
          "start_time": "2021-03-09T16:30:57.280713Z"
        },
        "id": "M5DZrFVwaTSs",
        "scrolled": true
      },
      "source": [
        "# Parece que a Box-Cox foi a mais próxima, mas iremos usar a sales_log, para ficar igual ao do professor.\n",
        "df5.drop(['sales_log','sales_sqrt','sales_box'],axis=1,inplace=True)\n",
        "\n",
        "# usaremos\n",
        "df5['sales'] = np.log1p(df5['sales'])\n",
        "\n",
        "df5.head()"
      ],
      "execution_count": null,
      "outputs": []
    },
    {
      "cell_type": "markdown",
      "metadata": {
        "heading_collapsed": true,
        "id": "8eMOOhOSaTSt"
      },
      "source": [
        "### 5.3.3 Nature Transformation  <span style='color:red'> (Aplicado nas Variáveis, não na resposta Sales)"
      ]
    },
    {
      "cell_type": "markdown",
      "metadata": {
        "heading_collapsed": true,
        "hidden": true,
        "id": "m7UucVbQaTSt"
      },
      "source": [
        "#### 5.3.3.1 Cyclical Nature Transformation "
      ]
    },
    {
      "cell_type": "code",
      "metadata": {
        "ExecuteTime": {
          "end_time": "2021-03-09T16:30:57.868449Z",
          "start_time": "2021-03-09T16:30:57.864934Z"
        },
        "hidden": true,
        "id": "QbzTkDu7aTSu"
      },
      "source": [
        "# Variáveis Cíclicas\n",
        "\n",
        "# year (não é cíclica)\n",
        "# month\n",
        "# day\n",
        "# week of year\n",
        "# day of week"
      ],
      "execution_count": null,
      "outputs": []
    },
    {
      "cell_type": "markdown",
      "metadata": {
        "hidden": true,
        "id": "jCZm3xZQaTSu"
      },
      "source": [
        "**Como Funciona?** é bem simples, basicamente ele transforma uma coluna em duas colunas, aplicando um conceito de senos e cossenos para um vetor posição\n",
        "\n",
        "<img src='https://github.com/miguelzeph/curso_ds_em_producao/blob/master/img/cyclical_nature_transformation.png?raw=1'>"
      ]
    },
    {
      "cell_type": "code",
      "metadata": {
        "ExecuteTime": {
          "end_time": "2021-03-09T16:31:08.640471Z",
          "start_time": "2021-03-09T16:30:57.870755Z"
        },
        "hidden": true,
        "id": "dLriWDEdaTSu"
      },
      "source": [
        "# Variáveis Cíclicas\n",
        "\n",
        "\n",
        "# month\n",
        "df5['month_sin'] = df5['month'].apply(lambda x: np.sin(x*(2*np.pi/12)))\n",
        "df5['month_cos'] = df5['month'].apply(lambda x: np.cos(x*(2*np.pi/12)))\n",
        "# day\n",
        "df5['day_sin'] = df5['day'].apply(lambda x: np.sin(x*(2*np.pi/30)))\n",
        "df5['day_cos'] = df5['day'].apply(lambda x: np.cos(x*(2*np.pi/30)))\n",
        "# week of year\n",
        "df5['week_of_year_sin'] = df5['week_of_year'].apply(lambda x: np.sin(x*(2*np.pi/52)))\n",
        "df5['week_of_year_cos'] = df5['week_of_year'].apply(lambda x: np.cos(x*(2*np.pi/52)))\n",
        "# day of week\n",
        "df5['day_of_week_sin'] = df5['day_of_week'].apply(lambda x: np.sin(x*(2*np.pi/7)))\n",
        "df5['day_of_week_cos'] = df5['day_of_week'].apply(lambda x: np.cos(x*(2*np.pi/7)))"
      ],
      "execution_count": null,
      "outputs": []
    },
    {
      "cell_type": "code",
      "metadata": {
        "ExecuteTime": {
          "end_time": "2021-03-09T16:31:08.691702Z",
          "start_time": "2021-03-09T16:31:08.643345Z"
        },
        "hidden": true,
        "id": "-3pc7OPqaTSv",
        "scrolled": false
      },
      "source": [
        "df5.head()"
      ],
      "execution_count": null,
      "outputs": []
    },
    {
      "cell_type": "markdown",
      "metadata": {
        "id": "P0pC1fC-aTSv"
      },
      "source": [
        "# 6.0 Passo 6 - Feature Selection (seleção de variáveis)\n",
        "\n",
        "Occam's Razor - A explicação mais simples sobre um fenômeno observado, deveria prevalecer sobre explicações mais complexas (**Princípio da Navalha de Occam**)\n",
        "\n",
        "De modo geral, quando mais simples for seu modelo, mais generalista ele será, quando mais informações (colunas), mais você especifica seu modelo para problemas específicos.\n",
        "\n",
        "Tente sempre remover as variáveis colineares, que são variáveis que explicam a mesma coisa, pois lembre-se do princípio da navalha de Occam, quanto menos variáveis, mais simples, logo remova as v. colineares sempre.\n",
        "\n",
        "**Os 3 métodos de Seleção de Variáveis**\n",
        "\n",
        "- <span style='color:blue'>**Seleção Univariada (Filter Methods)**\n",
        "\n",
        "**vantagens**\n",
        "\n",
        "Método Simples, Método Rápido,Fácil Entendimento\n",
        "\n",
        "**desvantagens**\n",
        "\n",
        "Não considera a influência **entre** as variáveis (você corre o risco de excluir variáveis importantes quando combinadas com outras).\n",
        "\n",
        "\n",
        "-  <span style='color:blue'>**Seleção por Importância / Método Embutido (Embedded Methods)**\n",
        "\n",
        "**Random Forest** (classificação ou Regressão), **Lasso Regression**, **Ridge Regression**:\n",
        "   \n",
        "-  <span style='color:blue'>**Seleção por Subset ( Wrapper Methods)**\n",
        "    \n",
        "Ele testa as variáveis uma a uma e combinada, se aumentar a accuracy, ele deixa, se permanecer a mesma ou diminuir ele exclui\n",
        "\n",
        "<img src = './img/wrapper_method.png' width = '40%'>"
      ]
    },
    {
      "cell_type": "code",
      "metadata": {
        "ExecuteTime": {
          "end_time": "2021-03-09T16:31:09.000965Z",
          "start_time": "2021-03-09T16:31:08.695562Z"
        },
        "id": "LzFqGWj_aTSv"
      },
      "source": [
        "df6 = df5.copy()"
      ],
      "execution_count": null,
      "outputs": []
    },
    {
      "cell_type": "code",
      "metadata": {
        "ExecuteTime": {
          "end_time": "2021-03-09T16:31:09.042496Z",
          "start_time": "2021-03-09T16:31:09.003027Z"
        },
        "id": "Gu4WXPWnaTSw",
        "scrolled": true
      },
      "source": [
        "df6.head(1)"
      ],
      "execution_count": null,
      "outputs": []
    },
    {
      "cell_type": "code",
      "metadata": {
        "ExecuteTime": {
          "end_time": "2021-03-09T16:31:09.289242Z",
          "start_time": "2021-03-09T16:31:09.048310Z"
        },
        "id": "jlGXpHbmaTSw"
      },
      "source": [
        "# Deletar algumas variáveis que estão duplicadas (lembra quen o passo 5 separamos algumas pelo Nature Transformation)\n",
        "cols_drop = ['week_of_year','day_of_week','promo_since','month','day','competition_since','year_week']\n",
        "df6 = df6.drop(cols_drop,axis=1)"
      ],
      "execution_count": null,
      "outputs": []
    },
    {
      "cell_type": "code",
      "metadata": {
        "ExecuteTime": {
          "end_time": "2021-03-09T16:31:09.424299Z",
          "start_time": "2021-03-09T16:31:09.292306Z"
        },
        "id": "gUUDh_TFaTSx",
        "scrolled": true
      },
      "source": [
        "df6.head(1)"
      ],
      "execution_count": null,
      "outputs": []
    },
    {
      "cell_type": "markdown",
      "metadata": {
        "id": "XrpHoLVfaTSx"
      },
      "source": [
        "### 6.1 Split dataframe into training and teste dataset"
      ]
    },
    {
      "cell_type": "markdown",
      "metadata": {
        "id": "EHTCvemraTSy"
      },
      "source": [
        "Atenção, diferente de outras predições, que você faz o Split e deixa a máquina pegar de forma aleatória os dados de treino e de teste, aqui não poderemos fazer assim, pois estamos trabalhando com uma linha temporal onde temos que prever os dados 6 semanas à frente. Se você deixar a máquina pegar os dados no futuro, ela nao estará teoricamente sendo testada, e você não poderá validar seu modelo, pois teremos um overfit do seu modelo... Então os dados de treino serão todos antes das 6 semanas... e os de testes serão todos após as 6 semanas finais.\n",
        "\n",
        "Acompanhe abaixo o raciocínio para pegar as últimas 6 semanas de dados do nosso dataset\n",
        "\n",
        "**Resumo:**\n",
        "\n",
        "dados_treino: primeiro dia de venda ..... até o dia das últimas 6 semanas\n",
        "\n",
        "dados_teste: as últimas 6 semanas\n",
        "\n",
        "exemplo: tenho 46 semanas... meus treino: 40 semanas... teste: 6 semanas finais"
      ]
    },
    {
      "cell_type": "code",
      "metadata": {
        "ExecuteTime": {
          "end_time": "2021-03-09T16:31:09.634325Z",
          "start_time": "2021-03-09T16:31:09.427688Z"
        },
        "id": "xoLIjheUaTSy",
        "scrolled": true
      },
      "source": [
        "# Data de Início\n",
        "df6[['store','date']].groupby('store').min().reset_index().head()"
      ],
      "execution_count": null,
      "outputs": []
    },
    {
      "cell_type": "code",
      "metadata": {
        "ExecuteTime": {
          "end_time": "2021-03-09T16:31:09.699703Z",
          "start_time": "2021-03-09T16:31:09.637054Z"
        },
        "id": "MjwT_3ULaTSy",
        "scrolled": true
      },
      "source": [
        "# Data de final\n",
        "df6[['store','date']].groupby('store').max().reset_index().head()"
      ],
      "execution_count": null,
      "outputs": []
    },
    {
      "cell_type": "code",
      "metadata": {
        "ExecuteTime": {
          "end_time": "2021-03-09T16:31:09.819981Z",
          "start_time": "2021-03-09T16:31:09.703005Z"
        },
        "id": "IHluAb7caTSz",
        "scrolled": false
      },
      "source": [
        "# Vamos pegar 6 semanas dessa última data\n",
        "# para isso vamos usar o timedelta, ele subtrai dias da sua data (muito útil)\n",
        "df6[['store','date']].groupby('store').max().reset_index()['date'][0] - datetime.timedelta(days=6*7)\n",
        "\n",
        "# portanto, a data que começa as últimas 6 semanas no nosso dataset é 19/06/2015"
      ],
      "execution_count": null,
      "outputs": []
    },
    {
      "cell_type": "code",
      "metadata": {
        "ExecuteTime": {
          "end_time": "2021-03-09T16:34:13.746408Z",
          "start_time": "2021-03-09T16:34:13.542853Z"
        },
        "id": "r4B87FfjaTSz",
        "scrolled": false
      },
      "source": [
        "# Training dataset\n",
        "x_train = df6[df6['date'] < '2015-06-19']\n",
        "y_train = x_train['sales']\n",
        "# Test dataset\n",
        "x_test = df6[df6['date'] >= '2015-06-19']\n",
        "y_test = x_test['sales']\n",
        "\n",
        "print(f'Training Min Date: { x_train[\"date\"].min() }')\n",
        "print(f'Training Max Date: { x_train[\"date\"].max() }')\n",
        "\n",
        "print(f'Test Min Date: { x_test[\"date\"].min() }')\n",
        "print(f'Test Max Date: { x_test[\"date\"].max() }')\n"
      ],
      "execution_count": null,
      "outputs": []
    },
    {
      "cell_type": "markdown",
      "metadata": {
        "id": "FamC5zW9aTS0"
      },
      "source": [
        "### 6.2 Algorístimo Boruta"
      ]
    },
    {
      "cell_type": "code",
      "metadata": {
        "ExecuteTime": {
          "end_time": "2021-03-09T16:31:10.228393Z",
          "start_time": "2021-03-09T16:31:10.226064Z"
        },
        "id": "T6C8-yeeaTS0"
      },
      "source": [
        "#from boruta import BorutaPy # !pip3.6 install boruta\n",
        "#from sklearn.ensemble import RandomForestRegressor"
      ],
      "execution_count": null,
      "outputs": []
    },
    {
      "cell_type": "code",
      "metadata": {
        "ExecuteTime": {
          "end_time": "2021-03-09T16:31:10.332188Z",
          "start_time": "2021-03-09T16:31:10.230574Z"
        },
        "id": "3j9jZFxQaTS0"
      },
      "source": [
        "\"\"\"\n",
        "x_train_n = x_train.drop(['date','sales'],axis=1).values\n",
        "y_train_n = y_train.values.ravel() # ravel() coloca tudo dentro de um vetor\n",
        "\n",
        "rf = RandomForestRegressor(\n",
        "    n_jobs=-1, # para ir mais rápido\n",
        ")\n",
        "\n",
        "boruta = BorutaPy(\n",
        "    estimator= rf, # modelo (iremos usar o RandomForest)\n",
        "    n_estimators='auto', # número de ramificações\n",
        "    verbose= 2, # print na tela\n",
        "    random_state= 42, # Para que ele parta sempre do msm início (pode ser qualquer número)\n",
        ").fit(x_train_n,y_train_n)\n",
        "\"\"\";"
      ],
      "execution_count": null,
      "outputs": []
    },
    {
      "cell_type": "markdown",
      "metadata": {
        "id": "SiDI_-ATaTS0"
      },
      "source": [
        "### 6.2.1 Best Features from Boruta"
      ]
    },
    {
      "cell_type": "code",
      "metadata": {
        "ExecuteTime": {
          "end_time": "2021-03-09T16:31:10.442965Z",
          "start_time": "2021-03-09T16:31:10.338899Z"
        },
        "id": "2ioLGI-yaTS0"
      },
      "source": [
        "\"\"\"\n",
        "# Rank de relevância das Variáveis\n",
        "cols_selected = boruta.support_.tolist()\n",
        "\n",
        "x_train_fs = x_train.drop(['date','sales'], axis=1)\n",
        "\n",
        "cols_selected_boruta = x_train_fs.iloc[:, cols_selected].columns.to_list()\n",
        "\n",
        "\n",
        "cols_not_selected_boruta = list( np.setdiff1d( x_train_fs.columns, cols_selected_boruta ) )\n",
        "\"\"\";"
      ],
      "execution_count": null,
      "outputs": []
    },
    {
      "cell_type": "code",
      "metadata": {
        "ExecuteTime": {
          "end_time": "2021-03-09T16:31:10.552395Z",
          "start_time": "2021-03-09T16:31:10.447206Z"
        },
        "id": "9iZ3rkIsaTS1"
      },
      "source": [
        "# Variáveis classificadas como úteis pelo Boruta\n",
        "#cols_selected_boruta"
      ],
      "execution_count": null,
      "outputs": []
    },
    {
      "cell_type": "code",
      "metadata": {
        "ExecuteTime": {
          "end_time": "2021-03-09T16:31:10.651757Z",
          "start_time": "2021-03-09T16:31:10.554487Z"
        },
        "id": "ArvYjVM1aTS1"
      },
      "source": [
        "# Variáveis classificadas como ruins pelo Boruta\n",
        "#cols_not_selected_boruta"
      ],
      "execution_count": null,
      "outputs": []
    },
    {
      "cell_type": "markdown",
      "metadata": {
        "id": "xW6ppriwKbtn"
      },
      "source": [
        "<img src = './img/boruta.png'>"
      ]
    },
    {
      "cell_type": "code",
      "metadata": {
        "ExecuteTime": {
          "end_time": "2021-03-09T16:31:10.752489Z",
          "start_time": "2021-03-09T16:31:10.653684Z"
        },
        "id": "sFg04BI6aTS1"
      },
      "source": [
        "# nossas variáveis analisadas no Cap 4\n",
        "\"\"\"\n",
        "assortment: baixa\n",
        "competidores proximos: baixa\n",
        "promo: baixa\n",
        "promo2: baixa\n",
        "natal/feriado: ....\n",
        "year: alta\n",
        "mes: alta\n",
        "dia: alta\n",
        "feriado_escolar: média\n",
        "\"\"\";\n"
      ],
      "execution_count": null,
      "outputs": []
    },
    {
      "cell_type": "code",
      "metadata": {
        "ExecuteTime": {
          "end_time": "2021-03-09T16:31:10.851420Z",
          "start_time": "2021-03-09T16:31:10.754496Z"
        },
        "id": "0ODDcOLqaTS1"
      },
      "source": [
        "# o que fazer quando sua análise das variáveis não bate com o Boruta?\n",
        "\"\"\"\n",
        "1 - Usar apenas as variáveis que o Boruta classificou como Ok\n",
        "2 - Usar as suas variáveis que você definiu importante no passo 4\n",
        "3 - Fazer uma mescla do que você acha importante com o Boruta \n",
        "\n",
        "\n",
        "Dica: Como estamos utilizando o Método CRISP-DS, podemos escolher uma das alternativas\n",
        "acima e testar... caso fique ruim a accuracia do modelo, vc testa outra opção\n",
        "\"\"\";"
      ],
      "execution_count": null,
      "outputs": []
    },
    {
      "cell_type": "code",
      "metadata": {
        "ExecuteTime": {
          "end_time": "2021-03-09T16:34:22.758720Z",
          "start_time": "2021-03-09T16:34:22.754277Z"
        },
        "id": "XjaBnaUhaTS1"
      },
      "source": [
        "\n",
        " # Copiei e Colei do resultado do Boruta, para não ter que rodar ele toda vez\n",
        "cols_selected_boruta = [\n",
        " 'store',\n",
        " 'promo',\n",
        " 'store_type',\n",
        " 'assortment',\n",
        " 'competition_distance',\n",
        " 'competition_open_since_month',\n",
        " 'competition_open_since_year',\n",
        " 'promo2',\n",
        " 'promo2_since_week',\n",
        " 'promo2_since_year',\n",
        " 'competition_time_month',\n",
        " 'promo_time_week',\n",
        " 'month_cos',\n",
        " 'day_sin',\n",
        " 'day_cos',\n",
        " 'week_of_year_cos',\n",
        " 'day_of_week_sin',\n",
        " 'day_of_week_cos'\n",
        " ]\n",
        "# Vamos colocar algumas informações que o Boruta deixou de fora\n",
        "ext = [\n",
        "    'month_sin',\n",
        "    'week_of_year_sin',\n",
        "    #'date',\n",
        "    #'sales'\n",
        "]\n",
        "\n",
        "# Final features\n",
        "cols_selected_boruta.extend( ext )"
      ],
      "execution_count": null,
      "outputs": []
    },
    {
      "cell_type": "code",
      "metadata": {
        "ExecuteTime": {
          "end_time": "2021-03-09T16:34:26.121184Z",
          "start_time": "2021-03-09T16:34:26.112582Z"
        },
        "id": "YQCBLZdraTS2",
        "scrolled": true
      },
      "source": [
        "cols_selected_boruta"
      ],
      "execution_count": null,
      "outputs": []
    },
    {
      "cell_type": "markdown",
      "metadata": {
        "id": "cFgM90VvaTS2"
      },
      "source": [
        "# 7.0 Passo 7 - Machine Learning Modelling"
      ]
    },
    {
      "cell_type": "code",
      "metadata": {
        "ExecuteTime": {
          "end_time": "2021-03-09T16:31:11.398605Z",
          "start_time": "2021-03-09T16:31:11.065582Z"
        },
        "id": "b_MlXMrb4FFI"
      },
      "source": [
        "df7 = df6.copy()"
      ],
      "execution_count": null,
      "outputs": []
    },
    {
      "cell_type": "code",
      "metadata": {
        "ExecuteTime": {
          "end_time": "2021-03-09T16:34:32.302815Z",
          "start_time": "2021-03-09T16:34:32.036377Z"
        },
        "id": "QUBOej96aTS2"
      },
      "source": [
        "x_train = x_train[ cols_selected_boruta ]\n",
        "x_test = x_test[ cols_selected_boruta ]"
      ],
      "execution_count": null,
      "outputs": []
    },
    {
      "cell_type": "markdown",
      "metadata": {
        "heading_collapsed": true,
        "id": "h6G3jzIjaTS2"
      },
      "source": [
        "## 7.1 Average Model"
      ]
    },
    {
      "cell_type": "code",
      "metadata": {
        "ExecuteTime": {
          "end_time": "2021-03-09T16:31:11.792191Z",
          "start_time": "2021-03-09T16:31:11.673190Z"
        },
        "hidden": true,
        "id": "6QrdGnlB4FFJ"
      },
      "source": [
        "#from sklearn.metrics import mean_absolute_error, mean_squared_error"
      ],
      "execution_count": null,
      "outputs": []
    },
    {
      "cell_type": "code",
      "metadata": {
        "ExecuteTime": {
          "end_time": "2021-03-09T16:31:11.893160Z",
          "start_time": "2021-03-09T16:31:11.795604Z"
        },
        "code_folding": [],
        "hidden": true,
        "id": "NOIyD1ua4FFJ"
      },
      "source": [
        "# analisamos o erro para saber a performance\n",
        "\n",
        "def mean_absolute_percentage_error( y, yhat ):\n",
        "    return np.mean( np.abs( ( y-yhat ) / y ) )\n",
        "\n",
        "def ml_error( model_name, y, yhat ):\n",
        "    mae = mean_absolute_error( y, yhat)\n",
        "    mape = mean_absolute_percentage_error( y, yhat ) \n",
        "    rmse = np.sqrt( mean_squared_error( y, yhat ) )\n",
        "    \n",
        "    return pd.DataFrame(\n",
        "        {\n",
        "            'Model name': model_name,\n",
        "            'MAE': mae,\n",
        "            'MAPE': mape,\n",
        "            'RMSE': rmse\n",
        "        },index = [0]\n",
        "    )"
      ],
      "execution_count": null,
      "outputs": []
    },
    {
      "cell_type": "code",
      "metadata": {
        "ExecuteTime": {
          "end_time": "2021-03-09T16:31:12.186300Z",
          "start_time": "2021-03-09T16:31:11.897558Z"
        },
        "hidden": true,
        "id": "diMSw-yA4FFJ"
      },
      "source": [
        "aux1 = x_test.copy()\n",
        "aux1['sales'] = y_test.copy()\n",
        "\n",
        "# predictions#------- Modelo de média-----\n",
        "aux2 = aux1[['store','sales']].groupby('store').mean().reset_index().rename( columns = {'sales':'predictions'})\n",
        "aux1 = pd.merge(aux1, aux2, how = 'left', on = 'store')\n",
        "yhat_baseline = aux1['predictions'] # Prediction\n",
        "\n",
        "\n",
        "\n",
        "# performance do Modelo\n",
        "baseline_result = ml_error( \n",
        "    \"Average Model\",\n",
        "    np.expm1( y_test ), # aplicando Exp para remover o log que aplicamos na trasnformação (passo 5)\n",
        "    np.expm1( yhat_baseline ) # aplicar exp\n",
        ")\n",
        "\n",
        "baseline_result"
      ],
      "execution_count": null,
      "outputs": []
    },
    {
      "cell_type": "code",
      "metadata": {
        "hidden": true,
        "id": "OfYkUTve4FFJ"
      },
      "source": [
        ""
      ],
      "execution_count": null,
      "outputs": []
    },
    {
      "cell_type": "markdown",
      "metadata": {
        "heading_collapsed": true,
        "id": "vCLutMze4FFK"
      },
      "source": [
        "## 7.2 Linear Regression Model\n"
      ]
    },
    {
      "cell_type": "code",
      "metadata": {
        "ExecuteTime": {
          "end_time": "2021-03-09T16:31:12.191990Z",
          "start_time": "2021-03-09T16:31:12.188667Z"
        },
        "hidden": true,
        "id": "2d8QfUvy4FFK"
      },
      "source": [
        "#from sklearn.linear_model import LinearRegression"
      ],
      "execution_count": null,
      "outputs": []
    },
    {
      "cell_type": "code",
      "metadata": {
        "ExecuteTime": {
          "end_time": "2021-03-09T16:31:13.997709Z",
          "start_time": "2021-03-09T16:31:12.194569Z"
        },
        "hidden": true,
        "id": "haok_2EW4FFK"
      },
      "source": [
        "# model\n",
        "lr = LinearRegression().fit(x_train,y_train)\n",
        "# pred\n",
        "yhat_lr = lr.predict(x_test)\n",
        "# performance\n",
        "lr_result = ml_error(\n",
        "    \"Linear Regression\",\n",
        "    np.expm1( y_test ), \n",
        "    np.expm1( yhat_lr )\n",
        ")"
      ],
      "execution_count": null,
      "outputs": []
    },
    {
      "cell_type": "code",
      "metadata": {
        "ExecuteTime": {
          "end_time": "2021-03-09T16:31:14.046895Z",
          "start_time": "2021-03-09T16:31:14.000933Z"
        },
        "hidden": true,
        "scrolled": true,
        "id": "LLeYENkE4FFK"
      },
      "source": [
        "lr_result"
      ],
      "execution_count": null,
      "outputs": []
    },
    {
      "cell_type": "markdown",
      "metadata": {
        "hidden": true,
        "id": "CHro8Y404FFK"
      },
      "source": [
        "Veja que o modelo de Regressão Linear apresentou 0.29 MAPE, menor que o modelo de Média, logo, nosso problema é complexo, então um modelo linear não irá ressolver nosso caso"
      ]
    },
    {
      "cell_type": "markdown",
      "metadata": {
        "id": "9Z3eO7xH4FFL"
      },
      "source": [
        "## 7.3 Linear Regression Regularized Model"
      ]
    },
    {
      "cell_type": "code",
      "metadata": {
        "ExecuteTime": {
          "end_time": "2021-03-08T21:47:14.548988Z",
          "start_time": "2021-03-08T21:47:14.544690Z"
        },
        "id": "gIxyDYfb4FFL"
      },
      "source": [
        "#from sklearn.linear_model import Lasso"
      ],
      "execution_count": null,
      "outputs": []
    },
    {
      "cell_type": "code",
      "metadata": {
        "ExecuteTime": {
          "end_time": "2021-03-08T21:50:41.329476Z",
          "start_time": "2021-03-08T21:50:40.109556Z"
        },
        "id": "oJ3fchd74FFL"
      },
      "source": [
        "# model\n",
        "lrr = Lasso(alpha=0.01).fit(x_train,y_train)\n",
        "# pred\n",
        "yhat_lrr = lrr.predict(x_test)\n",
        "# performance\n",
        "lrr_result = ml_error(\n",
        "    \"Linear Regression\",\n",
        "    np.expm1( y_test ), \n",
        "    np.expm1( yhat_lrr )\n",
        ")\n",
        "\n",
        "lrr_result"
      ],
      "execution_count": null,
      "outputs": []
    },
    {
      "cell_type": "markdown",
      "metadata": {
        "id": "5ISK1HGAaTS3"
      },
      "source": [
        "## 7.4 Random Forest Regression (Não linear)"
      ]
    },
    {
      "cell_type": "code",
      "metadata": {
        "ExecuteTime": {
          "end_time": "2021-03-08T22:25:25.254862Z",
          "start_time": "2021-03-08T22:25:25.251780Z"
        },
        "id": "y9YKJfff4FFL"
      },
      "source": [
        "from sklearn.ensemble import RandomForestRegressor"
      ],
      "execution_count": null,
      "outputs": []
    },
    {
      "cell_type": "code",
      "metadata": {
        "ExecuteTime": {
          "start_time": "2021-03-08T23:14:52.745Z"
        },
        "id": "EukTMcCg4FFM"
      },
      "source": [
        "# model\n",
        "rf = RandomForestRegressor(\n",
        "    n_estimators=100,\n",
        "    n_jobs= -1,\n",
        "    random_state=42,\n",
        ").fit(x_train,y_train)\n",
        "# pred\n",
        "yhat_rf = rf.predict(x_test)\n",
        "# performance\n",
        "rf_result = ml_error(\n",
        "    \"Random Forest Regressor\",\n",
        "    np.expm1( y_test ), \n",
        "    np.expm1( yhat_lrr )\n",
        ")\n",
        "\n",
        "rf_result"
      ],
      "execution_count": null,
      "outputs": []
    },
    {
      "cell_type": "markdown",
      "metadata": {
        "id": "_iLw_HJ74FFM"
      },
      "source": [
        "## 7.5 XGBoost Regressor (Não linear)"
      ]
    },
    {
      "cell_type": "code",
      "metadata": {
        "ExecuteTime": {
          "end_time": "2021-03-09T16:34:37.075157Z",
          "start_time": "2021-03-09T16:34:37.072379Z"
        },
        "id": "DVyl3dZk4FFM"
      },
      "source": [
        "import xgboost as xgb"
      ],
      "execution_count": null,
      "outputs": []
    },
    {
      "cell_type": "code",
      "metadata": {
        "ExecuteTime": {
          "end_time": "2021-03-09T16:34:44.330484Z",
          "start_time": "2021-03-09T16:34:38.773386Z"
        },
        "id": "qDji8F0e4FFM"
      },
      "source": [
        "# model\n",
        "model_xgb = xgb.XGBRegressor(\n",
        "    objective = 'reg:squarederror',\n",
        "    n_estimators=100,\n",
        "    eta = 0.01, # quantas passa\n",
        "    max_depth = 10, #máxima profundidade\n",
        "    subsample = 0.7,\n",
        "    colsample_bytree= 0.9).fit(x_train,y_train)\n",
        "# pred\n",
        "yhat_xgb = model_xgb.predict(x_test)\n",
        "# performance\n",
        "xgb_result = ml_error(\n",
        "    \"XGBoost Regressor\",\n",
        "    np.expm1( y_test ), \n",
        "    np.expm1( yhat_lrr )\n",
        ")\n",
        "\n",
        "xgb_result"
      ],
      "execution_count": null,
      "outputs": []
    },
    {
      "cell_type": "code",
      "metadata": {
        "id": "OP56FtuO4FFM"
      },
      "source": [
        ""
      ],
      "execution_count": null,
      "outputs": []
    },
    {
      "cell_type": "code",
      "metadata": {
        "id": "J6wBYz_W4ahI"
      },
      "source": [
        "modelling_result = pd.concat( [ baseline_result, lr_result, lrr_result, rf_result, xgb_result ] )"
      ],
      "execution_count": null,
      "outputs": []
    }
  ]
}