{
  "nbformat": 4,
  "nbformat_minor": 0,
  "metadata": {
    "kernelspec": {
      "display_name": "Python 3",
      "language": "python",
      "name": "python3"
    },
    "language_info": {
      "codemirror_mode": {
        "name": "ipython",
        "version": 3
      },
      "file_extension": ".py",
      "mimetype": "text/x-python",
      "name": "python",
      "nbconvert_exporter": "python",
      "pygments_lexer": "ipython3",
      "version": "3.6.9"
    },
    "colab": {
      "name": "m02_v01_store_sales_prediction.ipynb",
      "provenance": []
    }
  },
  "cells": [
    {
      "cell_type": "markdown",
      "metadata": {
        "id": "TImUjAJ9x5wG"
      },
      "source": [
        "# Google Colab - Installs"
      ]
    },
    {
      "cell_type": "code",
      "metadata": {
        "id": "Gvxu8v_rtMyq",
        "outputId": "01a56141-ecba-46a6-9c5c-903778534789",
        "colab": {
          "base_uri": "https://localhost:8080/"
        }
      },
      "source": [
        "pip install inflection"
      ],
      "execution_count": 38,
      "outputs": [
        {
          "output_type": "stream",
          "text": [
            "Requirement already satisfied: inflection in /usr/local/lib/python3.7/dist-packages (0.5.1)\n"
          ],
          "name": "stdout"
        }
      ]
    },
    {
      "cell_type": "markdown",
      "metadata": {
        "id": "oGMy-PdTtCyo"
      },
      "source": [
        "# 0.0 Imports"
      ]
    },
    {
      "cell_type": "code",
      "metadata": {
        "id": "cyEd9NgitCyq"
      },
      "source": [
        "import pandas as pd\n",
        "import inflection #!sudo pip install inflection (ajudar renomear biblioteca)\n",
        "import math\n",
        "import numpy as np"
      ],
      "execution_count": 66,
      "outputs": []
    },
    {
      "cell_type": "markdown",
      "metadata": {
        "id": "pf-BQNSVtCyr"
      },
      "source": [
        "### 0.1 Helper Functions"
      ]
    },
    {
      "cell_type": "markdown",
      "metadata": {
        "id": "cUggV-gQtCyr"
      },
      "source": [
        "### 0.2 Loading data"
      ]
    },
    {
      "cell_type": "code",
      "metadata": {
        "id": "4kKMOfI0tCyr"
      },
      "source": [
        "df_sales_raw = pd.read_csv('https://raw.githubusercontent.com/miguelzeph/curso_ds_em_producao/master/data/train.csv',low_memory=False)\n",
        "df_store_raw = pd.read_csv('https://raw.githubusercontent.com/miguelzeph/curso_ds_em_producao/master/data/store.csv',low_memory=False)\n",
        "\n",
        "# Jupyter Local\n",
        "#df_sales_raw = pd.read_csv('./data/train.csv',low_memory=False)\n",
        "#df_store_raw = pd.read_csv('./data/store.csv',low_memory=False)\n",
        "\n",
        "\n",
        "# Merge ( Merge != Join != Concat)\n",
        "df_raw = pd.merge(df_sales_raw,df_store_raw, how = 'left', on='Store')"
      ],
      "execution_count": 40,
      "outputs": []
    },
    {
      "cell_type": "code",
      "metadata": {
        "id": "c2jyi2N6tCys",
        "colab": {
          "base_uri": "https://localhost:8080/",
          "height": 117
        },
        "outputId": "61ce0595-4d48-44d8-dc92-46ba37453b69"
      },
      "source": [
        "df_raw.sample()# Pega uma rows aleatória pra visualizar"
      ],
      "execution_count": 41,
      "outputs": [
        {
          "output_type": "execute_result",
          "data": {
            "text/html": [
              "<div>\n",
              "<style scoped>\n",
              "    .dataframe tbody tr th:only-of-type {\n",
              "        vertical-align: middle;\n",
              "    }\n",
              "\n",
              "    .dataframe tbody tr th {\n",
              "        vertical-align: top;\n",
              "    }\n",
              "\n",
              "    .dataframe thead th {\n",
              "        text-align: right;\n",
              "    }\n",
              "</style>\n",
              "<table border=\"1\" class=\"dataframe\">\n",
              "  <thead>\n",
              "    <tr style=\"text-align: right;\">\n",
              "      <th></th>\n",
              "      <th>Store</th>\n",
              "      <th>DayOfWeek</th>\n",
              "      <th>Date</th>\n",
              "      <th>Sales</th>\n",
              "      <th>Customers</th>\n",
              "      <th>Open</th>\n",
              "      <th>Promo</th>\n",
              "      <th>StateHoliday</th>\n",
              "      <th>SchoolHoliday</th>\n",
              "      <th>StoreType</th>\n",
              "      <th>Assortment</th>\n",
              "      <th>CompetitionDistance</th>\n",
              "      <th>CompetitionOpenSinceMonth</th>\n",
              "      <th>CompetitionOpenSinceYear</th>\n",
              "      <th>Promo2</th>\n",
              "      <th>Promo2SinceWeek</th>\n",
              "      <th>Promo2SinceYear</th>\n",
              "      <th>PromoInterval</th>\n",
              "    </tr>\n",
              "  </thead>\n",
              "  <tbody>\n",
              "    <tr>\n",
              "      <th>276638</th>\n",
              "      <td>64</td>\n",
              "      <td>2</td>\n",
              "      <td>2014-11-18</td>\n",
              "      <td>7727</td>\n",
              "      <td>610</td>\n",
              "      <td>1</td>\n",
              "      <td>0</td>\n",
              "      <td>0</td>\n",
              "      <td>0</td>\n",
              "      <td>d</td>\n",
              "      <td>c</td>\n",
              "      <td>22560.0</td>\n",
              "      <td>NaN</td>\n",
              "      <td>NaN</td>\n",
              "      <td>1</td>\n",
              "      <td>14.0</td>\n",
              "      <td>2013.0</td>\n",
              "      <td>Jan,Apr,Jul,Oct</td>\n",
              "    </tr>\n",
              "  </tbody>\n",
              "</table>\n",
              "</div>"
            ],
            "text/plain": [
              "        Store  DayOfWeek  ... Promo2SinceYear    PromoInterval\n",
              "276638     64          2  ...          2013.0  Jan,Apr,Jul,Oct\n",
              "\n",
              "[1 rows x 18 columns]"
            ]
          },
          "metadata": {
            "tags": []
          },
          "execution_count": 41
        }
      ]
    },
    {
      "cell_type": "markdown",
      "metadata": {
        "id": "c4JVQXXitCyt"
      },
      "source": [
        "# 1.0 Descrição dos Dados"
      ]
    },
    {
      "cell_type": "markdown",
      "metadata": {
        "id": "xGCe96FvtCyt"
      },
      "source": [
        "#### Copy dos dados"
      ]
    },
    {
      "cell_type": "code",
      "metadata": {
        "id": "qOhqUKS6tCyu"
      },
      "source": [
        "# Sempre faça isso, pois em grandes projetos, você pode sobescrever os dados anteriores\n",
        "df1 = df_raw.copy()"
      ],
      "execution_count": 42,
      "outputs": []
    },
    {
      "cell_type": "markdown",
      "metadata": {
        "id": "JTTj0RVqtCyu"
      },
      "source": [
        "### 1.1 Rename Columns (sempre faça isso para facilitar)"
      ]
    },
    {
      "cell_type": "code",
      "metadata": {
        "id": "NGwFxVHctCyu",
        "colab": {
          "base_uri": "https://localhost:8080/"
        },
        "outputId": "0ce6735e-1df6-444a-96d8-f021c700e8fd"
      },
      "source": [
        "df_raw.columns"
      ],
      "execution_count": 43,
      "outputs": [
        {
          "output_type": "execute_result",
          "data": {
            "text/plain": [
              "Index(['Store', 'DayOfWeek', 'Date', 'Sales', 'Customers', 'Open', 'Promo',\n",
              "       'StateHoliday', 'SchoolHoliday', 'StoreType', 'Assortment',\n",
              "       'CompetitionDistance', 'CompetitionOpenSinceMonth',\n",
              "       'CompetitionOpenSinceYear', 'Promo2', 'Promo2SinceWeek',\n",
              "       'Promo2SinceYear', 'PromoInterval'],\n",
              "      dtype='object')"
            ]
          },
          "metadata": {
            "tags": []
          },
          "execution_count": 43
        }
      ]
    },
    {
      "cell_type": "code",
      "metadata": {
        "id": "ilgwoBV5tCyv",
        "colab": {
          "base_uri": "https://localhost:8080/",
          "height": 35
        },
        "outputId": "74f516cc-e1d9-4154-9bce-9e34b5052efa"
      },
      "source": [
        "cols_old = ['Store', 'DayOfWeek', 'Date', 'Sales', 'Customers', 'Open', 'Promo',\n",
        "       'StateHoliday', 'SchoolHoliday', 'StoreType', 'Assortment',\n",
        "       'CompetitionDistance', 'CompetitionOpenSinceMonth',\n",
        "       'CompetitionOpenSinceYear', 'Promo2', 'Promo2SinceWeek',\n",
        "       'Promo2SinceYear', 'PromoInterval']\n",
        "cols_old[0]"
      ],
      "execution_count": 44,
      "outputs": [
        {
          "output_type": "execute_result",
          "data": {
            "application/vnd.google.colaboratory.intrinsic+json": {
              "type": "string"
            },
            "text/plain": [
              "'Store'"
            ]
          },
          "metadata": {
            "tags": []
          },
          "execution_count": 44
        }
      ]
    },
    {
      "cell_type": "code",
      "metadata": {
        "id": "t8ztEmobtCyv"
      },
      "source": [
        "# Função Lambda para aplicar\n",
        "snakecase = lambda x: inflection.underscore( x )\n",
        "\n",
        "# Map aplicar uma função em cada elemento de uma lista\n",
        "cols_new = list(map(snakecase,cols_old))\n",
        "\n",
        "# rename\n",
        "df1.columns = cols_new"
      ],
      "execution_count": 45,
      "outputs": []
    },
    {
      "cell_type": "code",
      "metadata": {
        "scrolled": true,
        "id": "uAzJtRZ1tCyw",
        "colab": {
          "base_uri": "https://localhost:8080/"
        },
        "outputId": "03c707a9-3d2d-41f9-971c-dd288e32c3a9"
      },
      "source": [
        "df1.columns"
      ],
      "execution_count": 46,
      "outputs": [
        {
          "output_type": "execute_result",
          "data": {
            "text/plain": [
              "Index(['store', 'day_of_week', 'date', 'sales', 'customers', 'open', 'promo',\n",
              "       'state_holiday', 'school_holiday', 'store_type', 'assortment',\n",
              "       'competition_distance', 'competition_open_since_month',\n",
              "       'competition_open_since_year', 'promo2', 'promo2_since_week',\n",
              "       'promo2_since_year', 'promo_interval'],\n",
              "      dtype='object')"
            ]
          },
          "metadata": {
            "tags": []
          },
          "execution_count": 46
        }
      ]
    },
    {
      "cell_type": "markdown",
      "metadata": {
        "id": "xpNSVtoUtCyw"
      },
      "source": [
        "### 1.2 Data Dimensions"
      ]
    },
    {
      "cell_type": "code",
      "metadata": {
        "id": "pFBMbDI1tCyw",
        "colab": {
          "base_uri": "https://localhost:8080/"
        },
        "outputId": "a3d99435-dd0a-471e-8c5f-9e6db8444619"
      },
      "source": [
        "print(f'number of rows: {df1.shape[0]}')\n",
        "print(f'number of rows: {df1.shape[1]}')"
      ],
      "execution_count": 47,
      "outputs": [
        {
          "output_type": "stream",
          "text": [
            "number of rows: 1017209\n",
            "number of rows: 18\n"
          ],
          "name": "stdout"
        }
      ]
    },
    {
      "cell_type": "markdown",
      "metadata": {
        "id": "CjCAn3uMtCyx"
      },
      "source": [
        "### 1.3 Data type"
      ]
    },
    {
      "cell_type": "code",
      "metadata": {
        "collapsed": true,
        "id": "Nf-WE68VtCyx",
        "colab": {
          "base_uri": "https://localhost:8080/"
        },
        "outputId": "d796ae75-8b39-4a05-85bf-413b030acad4"
      },
      "source": [
        "df1.dtypes\n",
        "\n",
        "# NO PANDAS 'object' ele entende que é uma 'string'\n",
        "# Contudo, a \"date\" tem que estar sempre no formato de data!"
      ],
      "execution_count": 48,
      "outputs": [
        {
          "output_type": "execute_result",
          "data": {
            "text/plain": [
              "store                             int64\n",
              "day_of_week                       int64\n",
              "date                             object\n",
              "sales                             int64\n",
              "customers                         int64\n",
              "open                              int64\n",
              "promo                             int64\n",
              "state_holiday                    object\n",
              "school_holiday                    int64\n",
              "store_type                       object\n",
              "assortment                       object\n",
              "competition_distance            float64\n",
              "competition_open_since_month    float64\n",
              "competition_open_since_year     float64\n",
              "promo2                            int64\n",
              "promo2_since_week               float64\n",
              "promo2_since_year               float64\n",
              "promo_interval                   object\n",
              "dtype: object"
            ]
          },
          "metadata": {
            "tags": []
          },
          "execution_count": 48
        }
      ]
    },
    {
      "cell_type": "code",
      "metadata": {
        "collapsed": true,
        "id": "1fGmwtIAtCyy",
        "colab": {
          "base_uri": "https://localhost:8080/"
        },
        "outputId": "8dcdadc9-818f-43d9-b029-73900a162347"
      },
      "source": [
        "# Mudar pra date type\n",
        "df1['date'] = pd.to_datetime( df1['date'] )\n",
        "# verifique agora\n",
        "df1.dtypes"
      ],
      "execution_count": 49,
      "outputs": [
        {
          "output_type": "execute_result",
          "data": {
            "text/plain": [
              "store                                    int64\n",
              "day_of_week                              int64\n",
              "date                            datetime64[ns]\n",
              "sales                                    int64\n",
              "customers                                int64\n",
              "open                                     int64\n",
              "promo                                    int64\n",
              "state_holiday                           object\n",
              "school_holiday                           int64\n",
              "store_type                              object\n",
              "assortment                              object\n",
              "competition_distance                   float64\n",
              "competition_open_since_month           float64\n",
              "competition_open_since_year            float64\n",
              "promo2                                   int64\n",
              "promo2_since_week                      float64\n",
              "promo2_since_year                      float64\n",
              "promo_interval                          object\n",
              "dtype: object"
            ]
          },
          "metadata": {
            "tags": []
          },
          "execution_count": 49
        }
      ]
    },
    {
      "cell_type": "markdown",
      "metadata": {
        "id": "01apjCAStCyy"
      },
      "source": [
        "### 1.4 Check NA"
      ]
    },
    {
      "cell_type": "code",
      "metadata": {
        "scrolled": true,
        "id": "OhJuw8JPtCyy",
        "colab": {
          "base_uri": "https://localhost:8080/"
        },
        "outputId": "4c5a8724-79e7-443e-8b43-7fde62abd8a1"
      },
      "source": [
        "df1.isna().sum()\n",
        "# Veja que temos colunas com muitos NA..."
      ],
      "execution_count": 50,
      "outputs": [
        {
          "output_type": "execute_result",
          "data": {
            "text/plain": [
              "store                                0\n",
              "day_of_week                          0\n",
              "date                                 0\n",
              "sales                                0\n",
              "customers                            0\n",
              "open                                 0\n",
              "promo                                0\n",
              "state_holiday                        0\n",
              "school_holiday                       0\n",
              "store_type                           0\n",
              "assortment                           0\n",
              "competition_distance              2642\n",
              "competition_open_since_month    323348\n",
              "competition_open_since_year     323348\n",
              "promo2                               0\n",
              "promo2_since_week               508031\n",
              "promo2_since_year               508031\n",
              "promo_interval                  508031\n",
              "dtype: int64"
            ]
          },
          "metadata": {
            "tags": []
          },
          "execution_count": 50
        }
      ]
    },
    {
      "cell_type": "code",
      "metadata": {
        "id": "4ZW9GV9ktCyz"
      },
      "source": [
        "#1-) podemos descartar as linhas -> df1.dropna()\n",
        "\n",
        "#2-) usar algorítmos de ML que você prevê os valores vazios.\n",
        "# (QUANDO VOCÊ NÃO TEM INFORMAÇÕES DOS DADOS... ou alguém para te tirar as dǘvidas)\n",
        "\n",
        "#3-) Entender o problema, você CONVERSANDO com o stakeholder ou usando sua LÓGICA"
      ],
      "execution_count": 51,
      "outputs": []
    },
    {
      "cell_type": "markdown",
      "metadata": {
        "id": "W6bqfzE0tCyz"
      },
      "source": [
        "### 1.5 Fillout NA ( Preencher os NA)\n",
        "\n",
        "Optamos por usar o 3-) pois é uma boa prática para exercitar... ( o método 2-) você pode por exemplo criar um modelo ML (Decision Tree por exemplo) para prever os valores"
      ]
    },
    {
      "cell_type": "code",
      "metadata": {
        "id": "Dl8Zs8YTtCyz"
      },
      "source": [
        "# Método 3-)... vamos substituir por lógica\n",
        "\n",
        "#-------competition_distance              2642--------\n",
        "# Vamos supor que os valores NA nesta coluna é porque não existem competidores nas proximidades,\n",
        "df1['competition_distance'].max() # 75.860\n",
        "df1['competition_distance'] = df1['competition_distance'].apply(lambda x: 200000.0 if math.isnan(x) else x)\n",
        "df1['competition_distance'].max()# 200000.0\n",
        "\n",
        "#----------competition_open_since_month    323348-------\n",
        "# Motivo da loja estar vazia:\n",
        "# 1-) A loja não tem competidor próximo\n",
        "# 2-) Tenho um competidor próximo, mas não sabemos quando abriu\n",
        "df1['competition_open_since_month'] = df1.apply(lambda x: x['date'].month if math.isnan(x['competition_open_since_month']) else x['competition_open_since_month'],axis=1)\n",
        "\n",
        "#----------competition_open_since_year     323348-----\n",
        "# Mesma lógica, só que agora por year\n",
        "df1['competition_open_since_year'] = df1.apply(lambda x: x['date'].year if math.isnan(x['competition_open_since_year']) else x['competition_open_since_year'],axis=1)\n",
        "\n",
        "#---------promo2_since_week               508031-------\n",
        "# Mesma Lógica...\n",
        "df1['promo2_since_week'] = df1.apply(lambda x: x['date'].week if math.isnan(x['promo2_since_week']) else x['promo2_since_week'], axis=1)\n",
        "\n",
        "#promo2_since_year               508031\n",
        "df1['promo2_since_year'] = df1.apply(lambda x: x['date'].week if math.isnan(x['promo2_since_year']) else x['promo2_since_year'], axis=1)\n",
        "\n",
        "#-------promo_interval                  508031------\n",
        "df1['promo_interval'].fillna(0,inplace=True) # substituir os NaN por zero primeiro\n",
        "\n",
        "# criar um dict month_map (para fazer comparação com os promo_interval)\n",
        "month_map = {1:'Jan',2:'Fev',3:'Mar',4:'Apr',5:'May',6:'Jun',7:'Jul',8:'Aug',9:'Sep',10:'Oct',11:'Nov',12:'Dec'}\n",
        "\n",
        "# criar df\n",
        "df1['month_map'] = df1['date'].dt.month.map(month_map)\n",
        "\n",
        "#-----promo_interval                  508031-------\n",
        "df1['promo_interval'].fillna(0,inplace=True) # substituir os NaN por zero primeiro\n",
        "\n",
        "# criar um dict month_map (para fazer comparação com os promo_interval)\n",
        "month_map = {1:'Jan',2:'Fev',3:'Mar',4:'Apr',5:'May',6:'Jun',7:'Jul',8:'Aug',9:'Sep',10:'Oct',11:'Nov',12:'Dec'}\n",
        "\n",
        "# criar df\n",
        "df1['month_map'] = df1['date'].dt.month.map(month_map)\n",
        "\n",
        "# Se Data (month_map) estiver dentro da promoção (promo_interval), retorna 1... se não 0\n",
        "def f_promo_interval(x):\n",
        "\n",
        "  promo_interval = x[0]\n",
        "  month_map = x[1]\n",
        "\n",
        "  if promo_interval == 0:\n",
        "    return 0\n",
        "\n",
        "  if month_map in promo_interval:\n",
        "    return 1\n",
        "  return 0\n",
        "# criar uma nova coluna e aplicar a func\n",
        "df1['is_promo'] = df1[['promo_interval','month_map']].apply(f_promo_interval,axis=1)\n",
        "\n"
      ],
      "execution_count": 52,
      "outputs": []
    },
    {
      "cell_type": "code",
      "metadata": {
        "id": "h1atpg-iBGJU",
        "outputId": "f3173c57-eac6-415f-ec38-97c5d16a15a0",
        "colab": {
          "base_uri": "https://localhost:8080/",
          "height": 669
        }
      },
      "source": [
        "df1.sample(5).T # Visualizar T"
      ],
      "execution_count": 53,
      "outputs": [
        {
          "output_type": "execute_result",
          "data": {
            "text/html": [
              "<div>\n",
              "<style scoped>\n",
              "    .dataframe tbody tr th:only-of-type {\n",
              "        vertical-align: middle;\n",
              "    }\n",
              "\n",
              "    .dataframe tbody tr th {\n",
              "        vertical-align: top;\n",
              "    }\n",
              "\n",
              "    .dataframe thead th {\n",
              "        text-align: right;\n",
              "    }\n",
              "</style>\n",
              "<table border=\"1\" class=\"dataframe\">\n",
              "  <thead>\n",
              "    <tr style=\"text-align: right;\">\n",
              "      <th></th>\n",
              "      <th>688107</th>\n",
              "      <th>1011396</th>\n",
              "      <th>889410</th>\n",
              "      <th>199714</th>\n",
              "      <th>800338</th>\n",
              "    </tr>\n",
              "  </thead>\n",
              "  <tbody>\n",
              "    <tr>\n",
              "      <th>store</th>\n",
              "      <td>938</td>\n",
              "      <td>877</td>\n",
              "      <td>426</td>\n",
              "      <td>130</td>\n",
              "      <td>554</td>\n",
              "    </tr>\n",
              "    <tr>\n",
              "      <th>day_of_week</th>\n",
              "      <td>3</td>\n",
              "      <td>7</td>\n",
              "      <td>4</td>\n",
              "      <td>1</td>\n",
              "      <td>7</td>\n",
              "    </tr>\n",
              "    <tr>\n",
              "      <th>date</th>\n",
              "      <td>2013-10-23 00:00:00</td>\n",
              "      <td>2013-01-06 00:00:00</td>\n",
              "      <td>2013-04-25 00:00:00</td>\n",
              "      <td>2015-02-02 00:00:00</td>\n",
              "      <td>2013-07-14 00:00:00</td>\n",
              "    </tr>\n",
              "    <tr>\n",
              "      <th>sales</th>\n",
              "      <td>8704</td>\n",
              "      <td>0</td>\n",
              "      <td>4918</td>\n",
              "      <td>6224</td>\n",
              "      <td>0</td>\n",
              "    </tr>\n",
              "    <tr>\n",
              "      <th>customers</th>\n",
              "      <td>909</td>\n",
              "      <td>0</td>\n",
              "      <td>658</td>\n",
              "      <td>689</td>\n",
              "      <td>0</td>\n",
              "    </tr>\n",
              "    <tr>\n",
              "      <th>open</th>\n",
              "      <td>1</td>\n",
              "      <td>0</td>\n",
              "      <td>1</td>\n",
              "      <td>1</td>\n",
              "      <td>0</td>\n",
              "    </tr>\n",
              "    <tr>\n",
              "      <th>promo</th>\n",
              "      <td>1</td>\n",
              "      <td>0</td>\n",
              "      <td>1</td>\n",
              "      <td>1</td>\n",
              "      <td>0</td>\n",
              "    </tr>\n",
              "    <tr>\n",
              "      <th>state_holiday</th>\n",
              "      <td>0</td>\n",
              "      <td>0</td>\n",
              "      <td>0</td>\n",
              "      <td>0</td>\n",
              "      <td>0</td>\n",
              "    </tr>\n",
              "    <tr>\n",
              "      <th>school_holiday</th>\n",
              "      <td>0</td>\n",
              "      <td>0</td>\n",
              "      <td>0</td>\n",
              "      <td>0</td>\n",
              "      <td>0</td>\n",
              "    </tr>\n",
              "    <tr>\n",
              "      <th>store_type</th>\n",
              "      <td>a</td>\n",
              "      <td>a</td>\n",
              "      <td>a</td>\n",
              "      <td>c</td>\n",
              "      <td>c</td>\n",
              "    </tr>\n",
              "    <tr>\n",
              "      <th>assortment</th>\n",
              "      <td>a</td>\n",
              "      <td>c</td>\n",
              "      <td>a</td>\n",
              "      <td>a</td>\n",
              "      <td>c</td>\n",
              "    </tr>\n",
              "    <tr>\n",
              "      <th>competition_distance</th>\n",
              "      <td>2820</td>\n",
              "      <td>29190</td>\n",
              "      <td>250</td>\n",
              "      <td>900</td>\n",
              "      <td>1200</td>\n",
              "    </tr>\n",
              "    <tr>\n",
              "      <th>competition_open_since_month</th>\n",
              "      <td>9</td>\n",
              "      <td>1</td>\n",
              "      <td>4</td>\n",
              "      <td>2</td>\n",
              "      <td>7</td>\n",
              "    </tr>\n",
              "    <tr>\n",
              "      <th>competition_open_since_year</th>\n",
              "      <td>2009</td>\n",
              "      <td>2013</td>\n",
              "      <td>2013</td>\n",
              "      <td>2015</td>\n",
              "      <td>2013</td>\n",
              "    </tr>\n",
              "    <tr>\n",
              "      <th>promo2</th>\n",
              "      <td>0</td>\n",
              "      <td>0</td>\n",
              "      <td>0</td>\n",
              "      <td>1</td>\n",
              "      <td>0</td>\n",
              "    </tr>\n",
              "    <tr>\n",
              "      <th>promo2_since_week</th>\n",
              "      <td>43</td>\n",
              "      <td>1</td>\n",
              "      <td>17</td>\n",
              "      <td>13</td>\n",
              "      <td>28</td>\n",
              "    </tr>\n",
              "    <tr>\n",
              "      <th>promo2_since_year</th>\n",
              "      <td>43</td>\n",
              "      <td>1</td>\n",
              "      <td>17</td>\n",
              "      <td>2010</td>\n",
              "      <td>28</td>\n",
              "    </tr>\n",
              "    <tr>\n",
              "      <th>promo_interval</th>\n",
              "      <td>0</td>\n",
              "      <td>0</td>\n",
              "      <td>0</td>\n",
              "      <td>Jan,Apr,Jul,Oct</td>\n",
              "      <td>0</td>\n",
              "    </tr>\n",
              "    <tr>\n",
              "      <th>month_map</th>\n",
              "      <td>Oct</td>\n",
              "      <td>Jan</td>\n",
              "      <td>Apr</td>\n",
              "      <td>Fev</td>\n",
              "      <td>Jul</td>\n",
              "    </tr>\n",
              "    <tr>\n",
              "      <th>is_promo</th>\n",
              "      <td>0</td>\n",
              "      <td>0</td>\n",
              "      <td>0</td>\n",
              "      <td>0</td>\n",
              "      <td>0</td>\n",
              "    </tr>\n",
              "  </tbody>\n",
              "</table>\n",
              "</div>"
            ],
            "text/plain": [
              "                                           688107  ...               800338\n",
              "store                                         938  ...                  554\n",
              "day_of_week                                     3  ...                    7\n",
              "date                          2013-10-23 00:00:00  ...  2013-07-14 00:00:00\n",
              "sales                                        8704  ...                    0\n",
              "customers                                     909  ...                    0\n",
              "open                                            1  ...                    0\n",
              "promo                                           1  ...                    0\n",
              "state_holiday                                   0  ...                    0\n",
              "school_holiday                                  0  ...                    0\n",
              "store_type                                      a  ...                    c\n",
              "assortment                                      a  ...                    c\n",
              "competition_distance                         2820  ...                 1200\n",
              "competition_open_since_month                    9  ...                    7\n",
              "competition_open_since_year                  2009  ...                 2013\n",
              "promo2                                          0  ...                    0\n",
              "promo2_since_week                              43  ...                   28\n",
              "promo2_since_year                              43  ...                   28\n",
              "promo_interval                                  0  ...                    0\n",
              "month_map                                     Oct  ...                  Jul\n",
              "is_promo                                        0  ...                    0\n",
              "\n",
              "[20 rows x 5 columns]"
            ]
          },
          "metadata": {
            "tags": []
          },
          "execution_count": 53
        }
      ]
    },
    {
      "cell_type": "markdown",
      "metadata": {
        "id": "hZZJGyMhHVcA"
      },
      "source": [
        "### 1.6 Check again Types\n",
        "\n",
        "Sempre bom revisar, pois as mudanças que fizemos podem mudar os tipos"
      ]
    },
    {
      "cell_type": "code",
      "metadata": {
        "id": "74dyUVCb8lyi",
        "outputId": "428156ae-8097-4322-ca0a-8b43350690ba",
        "colab": {
          "base_uri": "https://localhost:8080/"
        }
      },
      "source": [
        "df1.dtypes"
      ],
      "execution_count": 54,
      "outputs": [
        {
          "output_type": "execute_result",
          "data": {
            "text/plain": [
              "store                                    int64\n",
              "day_of_week                              int64\n",
              "date                            datetime64[ns]\n",
              "sales                                    int64\n",
              "customers                                int64\n",
              "open                                     int64\n",
              "promo                                    int64\n",
              "state_holiday                           object\n",
              "school_holiday                           int64\n",
              "store_type                              object\n",
              "assortment                              object\n",
              "competition_distance                   float64\n",
              "competition_open_since_month           float64\n",
              "competition_open_since_year            float64\n",
              "promo2                                   int64\n",
              "promo2_since_week                      float64\n",
              "promo2_since_year                      float64\n",
              "promo_interval                          object\n",
              "month_map                               object\n",
              "is_promo                                 int64\n",
              "dtype: object"
            ]
          },
          "metadata": {
            "tags": []
          },
          "execution_count": 54
        }
      ]
    },
    {
      "cell_type": "markdown",
      "metadata": {
        "id": "Km8grqKRI6Er"
      },
      "source": [
        "### 1.6 Check again Types\n",
        "\n",
        "Sempre bom revisar, pois as mudanças que fizemos podem mudar os tipos"
      ]
    },
    {
      "cell_type": "code",
      "metadata": {
        "id": "S6i1ifkFHwWS"
      },
      "source": [
        "# Passar para inteiro\n",
        "\n",
        "df1['competition_open_since_month'] = df1['competition_open_since_month'].astype(int)\n",
        "df1['competition_open_since_year'] = df1['competition_open_since_year'].astype(int)\n",
        "df1['promo2_since_week'] = df1['promo2_since_week'].astype(int)\n",
        "df1['promo2_since_year'] = df1['promo2_since_year'].astype(int)\n"
      ],
      "execution_count": 55,
      "outputs": []
    },
    {
      "cell_type": "code",
      "metadata": {
        "id": "7uuldLwEJBkT",
        "outputId": "84f18ad3-b195-470c-a41a-44fb3cdd56b4",
        "colab": {
          "base_uri": "https://localhost:8080/"
        }
      },
      "source": [
        "# Verificar\n",
        "df1.dtypes"
      ],
      "execution_count": 58,
      "outputs": [
        {
          "output_type": "execute_result",
          "data": {
            "text/plain": [
              "store                                    int64\n",
              "day_of_week                              int64\n",
              "date                            datetime64[ns]\n",
              "sales                                    int64\n",
              "customers                                int64\n",
              "open                                     int64\n",
              "promo                                    int64\n",
              "state_holiday                           object\n",
              "school_holiday                           int64\n",
              "store_type                              object\n",
              "assortment                              object\n",
              "competition_distance                   float64\n",
              "competition_open_since_month             int64\n",
              "competition_open_since_year              int64\n",
              "promo2                                   int64\n",
              "promo2_since_week                        int64\n",
              "promo2_since_year                        int64\n",
              "promo_interval                          object\n",
              "month_map                               object\n",
              "is_promo                                 int64\n",
              "dtype: object"
            ]
          },
          "metadata": {
            "tags": []
          },
          "execution_count": 58
        }
      ]
    },
    {
      "cell_type": "markdown",
      "metadata": {
        "id": "PUTBh10AJPOn"
      },
      "source": [
        "### 1.7 Descriptive Statistical"
      ]
    },
    {
      "cell_type": "code",
      "metadata": {
        "id": "O-eVbGRfJOF9"
      },
      "source": [
        "#Atributos Numéricos\n",
        "num_attributes = df1.select_dtypes(include = ['int64','float64'])\n",
        "\n",
        "#Atributos Categóricos\n",
        "cat_attributes = df1.select_dtypes(exclude = ['int64','float64','datetime64[ns]'])"
      ],
      "execution_count": 59,
      "outputs": []
    },
    {
      "cell_type": "code",
      "metadata": {
        "id": "wkCjcFOsRXI0",
        "outputId": "7537ebd5-a7a5-4fd6-a3c7-3e5de0c52f28",
        "colab": {
          "base_uri": "https://localhost:8080/"
        }
      },
      "source": [
        "# Só para verificar se são strings msm\n",
        "cat_attributes['state_holiday'].unique()"
      ],
      "execution_count": 64,
      "outputs": [
        {
          "output_type": "execute_result",
          "data": {
            "text/plain": [
              "array(['0', 'a', 'b', 'c'], dtype=object)"
            ]
          },
          "metadata": {
            "tags": []
          },
          "execution_count": 64
        }
      ]
    },
    {
      "cell_type": "markdown",
      "metadata": {
        "id": "mtXbbSh0SBrM"
      },
      "source": [
        "### 1.7.1 Numerical Attriutes"
      ]
    },
    {
      "cell_type": "markdown",
      "metadata": {
        "id": "DkdwSDn4P0r_"
      },
      "source": [
        "##### 1.7.1.1 Metric of Central Tendency"
      ]
    },
    {
      "cell_type": "code",
      "metadata": {
        "id": "J-9mtqh2SH5q"
      },
      "source": [
        "# Central Tendency - Mean and Median\n",
        "ct1 = pd.DataFrame( num_attributes.apply( np.mean )).T\n",
        "ct2 = pd.DataFrame( num_attributes.apply( np.median )).T"
      ],
      "execution_count": 67,
      "outputs": []
    },
    {
      "cell_type": "markdown",
      "metadata": {
        "id": "a0aE8JOpP9FH"
      },
      "source": [
        "##### 1.7.1.2 Metric of Dispersion"
      ]
    },
    {
      "cell_type": "code",
      "metadata": {
        "id": "7mf_XlOAP0a2"
      },
      "source": [
        "# Dispersion - std(desvio padrao), min, max, range(max-min), skew, kurtosis\n",
        "d1 = pd.DataFrame( num_attributes.apply( np.std ) ).T\n",
        "d2 = pd.DataFrame( num_attributes.apply( min ) ).T\n",
        "d3 = pd.DataFrame( num_attributes.apply( max ) ).T\n",
        "d4 = pd.DataFrame( num_attributes.apply( lambda x: x.max() - x.min() ) ).T\n",
        "d5 = pd.DataFrame( num_attributes.apply( lambda x: x.skew() ) ).T\n",
        "d6 = pd.DataFrame( num_attributes.apply( lambda x: x.kurtosis() ) ).T\n",
        "\n",
        "# Concatenate        Ordem que quero ver\n",
        "m = pd.concat( [d2, d3, d4, ct1, ct2, d1, d5, d6] ).T.reset_index()\n",
        "m.columns = ['attributes', 'min', 'max', 'range', 'mean', 'median','std','skew','kursosis'] "
      ],
      "execution_count": 72,
      "outputs": []
    },
    {
      "cell_type": "code",
      "metadata": {
        "id": "mLSeG9YHXB-N",
        "outputId": "39e71352-34e1-415e-8298-1cd98d064e53",
        "colab": {
          "base_uri": "https://localhost:8080/",
          "height": 483
        }
      },
      "source": [
        "m"
      ],
      "execution_count": 73,
      "outputs": [
        {
          "output_type": "execute_result",
          "data": {
            "text/html": [
              "<div>\n",
              "<style scoped>\n",
              "    .dataframe tbody tr th:only-of-type {\n",
              "        vertical-align: middle;\n",
              "    }\n",
              "\n",
              "    .dataframe tbody tr th {\n",
              "        vertical-align: top;\n",
              "    }\n",
              "\n",
              "    .dataframe thead th {\n",
              "        text-align: right;\n",
              "    }\n",
              "</style>\n",
              "<table border=\"1\" class=\"dataframe\">\n",
              "  <thead>\n",
              "    <tr style=\"text-align: right;\">\n",
              "      <th></th>\n",
              "      <th>attributes</th>\n",
              "      <th>min</th>\n",
              "      <th>max</th>\n",
              "      <th>range</th>\n",
              "      <th>mean</th>\n",
              "      <th>median</th>\n",
              "      <th>std</th>\n",
              "      <th>skew</th>\n",
              "      <th>kursosis</th>\n",
              "    </tr>\n",
              "  </thead>\n",
              "  <tbody>\n",
              "    <tr>\n",
              "      <th>0</th>\n",
              "      <td>store</td>\n",
              "      <td>1.0</td>\n",
              "      <td>1115.0</td>\n",
              "      <td>1114.0</td>\n",
              "      <td>558.429727</td>\n",
              "      <td>558.0</td>\n",
              "      <td>321.908493</td>\n",
              "      <td>-0.000955</td>\n",
              "      <td>-1.200524</td>\n",
              "    </tr>\n",
              "    <tr>\n",
              "      <th>1</th>\n",
              "      <td>day_of_week</td>\n",
              "      <td>1.0</td>\n",
              "      <td>7.0</td>\n",
              "      <td>6.0</td>\n",
              "      <td>3.998341</td>\n",
              "      <td>4.0</td>\n",
              "      <td>1.997390</td>\n",
              "      <td>0.001593</td>\n",
              "      <td>-1.246873</td>\n",
              "    </tr>\n",
              "    <tr>\n",
              "      <th>2</th>\n",
              "      <td>sales</td>\n",
              "      <td>0.0</td>\n",
              "      <td>41551.0</td>\n",
              "      <td>41551.0</td>\n",
              "      <td>5773.818972</td>\n",
              "      <td>5744.0</td>\n",
              "      <td>3849.924283</td>\n",
              "      <td>0.641460</td>\n",
              "      <td>1.778375</td>\n",
              "    </tr>\n",
              "    <tr>\n",
              "      <th>3</th>\n",
              "      <td>customers</td>\n",
              "      <td>0.0</td>\n",
              "      <td>7388.0</td>\n",
              "      <td>7388.0</td>\n",
              "      <td>633.145946</td>\n",
              "      <td>609.0</td>\n",
              "      <td>464.411506</td>\n",
              "      <td>1.598650</td>\n",
              "      <td>7.091773</td>\n",
              "    </tr>\n",
              "    <tr>\n",
              "      <th>4</th>\n",
              "      <td>open</td>\n",
              "      <td>0.0</td>\n",
              "      <td>1.0</td>\n",
              "      <td>1.0</td>\n",
              "      <td>0.830107</td>\n",
              "      <td>1.0</td>\n",
              "      <td>0.375539</td>\n",
              "      <td>-1.758045</td>\n",
              "      <td>1.090723</td>\n",
              "    </tr>\n",
              "    <tr>\n",
              "      <th>5</th>\n",
              "      <td>promo</td>\n",
              "      <td>0.0</td>\n",
              "      <td>1.0</td>\n",
              "      <td>1.0</td>\n",
              "      <td>0.381515</td>\n",
              "      <td>0.0</td>\n",
              "      <td>0.485758</td>\n",
              "      <td>0.487838</td>\n",
              "      <td>-1.762018</td>\n",
              "    </tr>\n",
              "    <tr>\n",
              "      <th>6</th>\n",
              "      <td>school_holiday</td>\n",
              "      <td>0.0</td>\n",
              "      <td>1.0</td>\n",
              "      <td>1.0</td>\n",
              "      <td>0.178647</td>\n",
              "      <td>0.0</td>\n",
              "      <td>0.383056</td>\n",
              "      <td>1.677842</td>\n",
              "      <td>0.815154</td>\n",
              "    </tr>\n",
              "    <tr>\n",
              "      <th>7</th>\n",
              "      <td>competition_distance</td>\n",
              "      <td>20.0</td>\n",
              "      <td>200000.0</td>\n",
              "      <td>199980.0</td>\n",
              "      <td>5935.442677</td>\n",
              "      <td>2330.0</td>\n",
              "      <td>12547.646829</td>\n",
              "      <td>10.242344</td>\n",
              "      <td>147.789712</td>\n",
              "    </tr>\n",
              "    <tr>\n",
              "      <th>8</th>\n",
              "      <td>competition_open_since_month</td>\n",
              "      <td>1.0</td>\n",
              "      <td>12.0</td>\n",
              "      <td>11.0</td>\n",
              "      <td>6.786849</td>\n",
              "      <td>7.0</td>\n",
              "      <td>3.311085</td>\n",
              "      <td>-0.042076</td>\n",
              "      <td>-1.232607</td>\n",
              "    </tr>\n",
              "    <tr>\n",
              "      <th>9</th>\n",
              "      <td>competition_open_since_year</td>\n",
              "      <td>1900.0</td>\n",
              "      <td>2015.0</td>\n",
              "      <td>115.0</td>\n",
              "      <td>2010.324840</td>\n",
              "      <td>2012.0</td>\n",
              "      <td>5.515591</td>\n",
              "      <td>-7.235657</td>\n",
              "      <td>124.071304</td>\n",
              "    </tr>\n",
              "    <tr>\n",
              "      <th>10</th>\n",
              "      <td>promo2</td>\n",
              "      <td>0.0</td>\n",
              "      <td>1.0</td>\n",
              "      <td>1.0</td>\n",
              "      <td>0.500564</td>\n",
              "      <td>1.0</td>\n",
              "      <td>0.500000</td>\n",
              "      <td>-0.002255</td>\n",
              "      <td>-1.999999</td>\n",
              "    </tr>\n",
              "    <tr>\n",
              "      <th>11</th>\n",
              "      <td>promo2_since_week</td>\n",
              "      <td>1.0</td>\n",
              "      <td>52.0</td>\n",
              "      <td>51.0</td>\n",
              "      <td>23.619033</td>\n",
              "      <td>22.0</td>\n",
              "      <td>14.310057</td>\n",
              "      <td>0.178723</td>\n",
              "      <td>-1.184046</td>\n",
              "    </tr>\n",
              "    <tr>\n",
              "      <th>12</th>\n",
              "      <td>promo2_since_year</td>\n",
              "      <td>1.0</td>\n",
              "      <td>2015.0</td>\n",
              "      <td>2014.0</td>\n",
              "      <td>1018.981976</td>\n",
              "      <td>2009.0</td>\n",
              "      <td>993.944489</td>\n",
              "      <td>-0.002570</td>\n",
              "      <td>-1.999567</td>\n",
              "    </tr>\n",
              "    <tr>\n",
              "      <th>13</th>\n",
              "      <td>is_promo</td>\n",
              "      <td>0.0</td>\n",
              "      <td>1.0</td>\n",
              "      <td>1.0</td>\n",
              "      <td>0.161100</td>\n",
              "      <td>0.0</td>\n",
              "      <td>0.367623</td>\n",
              "      <td>1.843742</td>\n",
              "      <td>1.399388</td>\n",
              "    </tr>\n",
              "  </tbody>\n",
              "</table>\n",
              "</div>"
            ],
            "text/plain": [
              "                      attributes     min  ...       skew    kursosis\n",
              "0                          store     1.0  ...  -0.000955   -1.200524\n",
              "1                    day_of_week     1.0  ...   0.001593   -1.246873\n",
              "2                          sales     0.0  ...   0.641460    1.778375\n",
              "3                      customers     0.0  ...   1.598650    7.091773\n",
              "4                           open     0.0  ...  -1.758045    1.090723\n",
              "5                          promo     0.0  ...   0.487838   -1.762018\n",
              "6                 school_holiday     0.0  ...   1.677842    0.815154\n",
              "7           competition_distance    20.0  ...  10.242344  147.789712\n",
              "8   competition_open_since_month     1.0  ...  -0.042076   -1.232607\n",
              "9    competition_open_since_year  1900.0  ...  -7.235657  124.071304\n",
              "10                        promo2     0.0  ...  -0.002255   -1.999999\n",
              "11             promo2_since_week     1.0  ...   0.178723   -1.184046\n",
              "12             promo2_since_year     1.0  ...  -0.002570   -1.999567\n",
              "13                      is_promo     0.0  ...   1.843742    1.399388\n",
              "\n",
              "[14 rows x 9 columns]"
            ]
          },
          "metadata": {
            "tags": []
          },
          "execution_count": 73
        }
      ]
    }
  ]
}